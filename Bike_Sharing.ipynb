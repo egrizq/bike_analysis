{
 "cells": [
  {
   "cell_type": "markdown",
   "id": "0a6b6096",
   "metadata": {},
   "source": [
    "# Proyek Analisis Data: Bike Sharing System"
   ]
  },
  {
   "cell_type": "markdown",
   "id": "a9af9333",
   "metadata": {},
   "source": [
    "## Menentukan Pertanyaan Bisnis"
   ]
  },
  {
   "cell_type": "markdown",
   "id": "fcfe3809",
   "metadata": {},
   "source": [
    "Bike sharing system merupakan sebuah rental sepeda dimana user dengan mudah merental sepeda pada sebuah tempat tertentu dan mengembalikannya sesuai pada tempat yang tersedia. System rental sepeda tentunya memiliki pengaruh penting dalam lalu lintas, lingkukan dan kesehatan.\n",
    "\n",
    "Bike sharing system memperoleh data dari proses pemakaian usernya pada tahun 2011 sampai 2012 dari Capital Bikeshare System untuk kota Washington D.C., USA. Data yang diperoleh memiliki korelasi dengan cuaca, hari, musim, jam, dan lain sebagainya, sehingga dapat mempengaruhi perilaku user untuk menggunakan sepeda.\n",
    "\n",
    "1. Apakah kondisi musim dan cuaca mempengaruhi jumlah user? \n",
    "2. Bagaimana perkembangan jumlah user berdasarkan bulannya?\n",
    "3. Pada jam berapa user bike sharing system paling sering digunakan?"
   ]
  },
  {
   "cell_type": "markdown",
   "id": "3d07c8fd",
   "metadata": {},
   "source": [
    "## Menyiapkan semua library yang dibutuhkan"
   ]
  },
  {
   "cell_type": "code",
   "execution_count": 4,
   "id": "6ba55326",
   "metadata": {},
   "outputs": [],
   "source": [
    "import numpy as np\n",
    "import pandas as pd  \n",
    "import matplotlib.pyplot as plt\n",
    "import seaborn as sns\n",
    "plt.style.use('ggplot')"
   ]
  },
  {
   "cell_type": "markdown",
   "id": "9a0fece5",
   "metadata": {},
   "source": [
    "## Data Wrangling"
   ]
  },
  {
   "cell_type": "markdown",
   "id": "cc2972f6",
   "metadata": {},
   "source": [
    "### Gathering Data"
   ]
  },
  {
   "cell_type": "code",
   "execution_count": 5,
   "id": "2956f2db",
   "metadata": {},
   "outputs": [],
   "source": [
    "hour = pd.read_csv('hour.csv')"
   ]
  },
  {
   "cell_type": "code",
   "execution_count": 6,
   "id": "ecafa086",
   "metadata": {
    "scrolled": true
   },
   "outputs": [
    {
     "data": {
      "text/html": [
       "<div>\n",
       "<style scoped>\n",
       "    .dataframe tbody tr th:only-of-type {\n",
       "        vertical-align: middle;\n",
       "    }\n",
       "\n",
       "    .dataframe tbody tr th {\n",
       "        vertical-align: top;\n",
       "    }\n",
       "\n",
       "    .dataframe thead th {\n",
       "        text-align: right;\n",
       "    }\n",
       "</style>\n",
       "<table border=\"1\" class=\"dataframe\">\n",
       "  <thead>\n",
       "    <tr style=\"text-align: right;\">\n",
       "      <th></th>\n",
       "      <th>instant</th>\n",
       "      <th>dteday</th>\n",
       "      <th>season</th>\n",
       "      <th>yr</th>\n",
       "      <th>mnth</th>\n",
       "      <th>hr</th>\n",
       "      <th>holiday</th>\n",
       "      <th>weekday</th>\n",
       "      <th>workingday</th>\n",
       "      <th>weathersit</th>\n",
       "      <th>temp</th>\n",
       "      <th>atemp</th>\n",
       "      <th>hum</th>\n",
       "      <th>windspeed</th>\n",
       "      <th>casual</th>\n",
       "      <th>registered</th>\n",
       "      <th>cnt</th>\n",
       "    </tr>\n",
       "  </thead>\n",
       "  <tbody>\n",
       "    <tr>\n",
       "      <th>0</th>\n",
       "      <td>1</td>\n",
       "      <td>2011-01-01</td>\n",
       "      <td>1</td>\n",
       "      <td>0</td>\n",
       "      <td>1</td>\n",
       "      <td>0</td>\n",
       "      <td>0</td>\n",
       "      <td>6</td>\n",
       "      <td>0</td>\n",
       "      <td>1</td>\n",
       "      <td>0.24</td>\n",
       "      <td>0.2879</td>\n",
       "      <td>0.81</td>\n",
       "      <td>0.0</td>\n",
       "      <td>3</td>\n",
       "      <td>13</td>\n",
       "      <td>16</td>\n",
       "    </tr>\n",
       "    <tr>\n",
       "      <th>1</th>\n",
       "      <td>2</td>\n",
       "      <td>2011-01-01</td>\n",
       "      <td>1</td>\n",
       "      <td>0</td>\n",
       "      <td>1</td>\n",
       "      <td>1</td>\n",
       "      <td>0</td>\n",
       "      <td>6</td>\n",
       "      <td>0</td>\n",
       "      <td>1</td>\n",
       "      <td>0.22</td>\n",
       "      <td>0.2727</td>\n",
       "      <td>0.80</td>\n",
       "      <td>0.0</td>\n",
       "      <td>8</td>\n",
       "      <td>32</td>\n",
       "      <td>40</td>\n",
       "    </tr>\n",
       "    <tr>\n",
       "      <th>2</th>\n",
       "      <td>3</td>\n",
       "      <td>2011-01-01</td>\n",
       "      <td>1</td>\n",
       "      <td>0</td>\n",
       "      <td>1</td>\n",
       "      <td>2</td>\n",
       "      <td>0</td>\n",
       "      <td>6</td>\n",
       "      <td>0</td>\n",
       "      <td>1</td>\n",
       "      <td>0.22</td>\n",
       "      <td>0.2727</td>\n",
       "      <td>0.80</td>\n",
       "      <td>0.0</td>\n",
       "      <td>5</td>\n",
       "      <td>27</td>\n",
       "      <td>32</td>\n",
       "    </tr>\n",
       "    <tr>\n",
       "      <th>3</th>\n",
       "      <td>4</td>\n",
       "      <td>2011-01-01</td>\n",
       "      <td>1</td>\n",
       "      <td>0</td>\n",
       "      <td>1</td>\n",
       "      <td>3</td>\n",
       "      <td>0</td>\n",
       "      <td>6</td>\n",
       "      <td>0</td>\n",
       "      <td>1</td>\n",
       "      <td>0.24</td>\n",
       "      <td>0.2879</td>\n",
       "      <td>0.75</td>\n",
       "      <td>0.0</td>\n",
       "      <td>3</td>\n",
       "      <td>10</td>\n",
       "      <td>13</td>\n",
       "    </tr>\n",
       "    <tr>\n",
       "      <th>4</th>\n",
       "      <td>5</td>\n",
       "      <td>2011-01-01</td>\n",
       "      <td>1</td>\n",
       "      <td>0</td>\n",
       "      <td>1</td>\n",
       "      <td>4</td>\n",
       "      <td>0</td>\n",
       "      <td>6</td>\n",
       "      <td>0</td>\n",
       "      <td>1</td>\n",
       "      <td>0.24</td>\n",
       "      <td>0.2879</td>\n",
       "      <td>0.75</td>\n",
       "      <td>0.0</td>\n",
       "      <td>0</td>\n",
       "      <td>1</td>\n",
       "      <td>1</td>\n",
       "    </tr>\n",
       "  </tbody>\n",
       "</table>\n",
       "</div>"
      ],
      "text/plain": [
       "   instant      dteday  season  yr  mnth  hr  holiday  weekday  workingday  \\\n",
       "0        1  2011-01-01       1   0     1   0        0        6           0   \n",
       "1        2  2011-01-01       1   0     1   1        0        6           0   \n",
       "2        3  2011-01-01       1   0     1   2        0        6           0   \n",
       "3        4  2011-01-01       1   0     1   3        0        6           0   \n",
       "4        5  2011-01-01       1   0     1   4        0        6           0   \n",
       "\n",
       "   weathersit  temp   atemp   hum  windspeed  casual  registered  cnt  \n",
       "0           1  0.24  0.2879  0.81        0.0       3          13   16  \n",
       "1           1  0.22  0.2727  0.80        0.0       8          32   40  \n",
       "2           1  0.22  0.2727  0.80        0.0       5          27   32  \n",
       "3           1  0.24  0.2879  0.75        0.0       3          10   13  \n",
       "4           1  0.24  0.2879  0.75        0.0       0           1    1  "
      ]
     },
     "execution_count": 6,
     "metadata": {},
     "output_type": "execute_result"
    }
   ],
   "source": [
    "hour.head()"
   ]
  },
  {
   "cell_type": "markdown",
   "id": "32a3fde1",
   "metadata": {},
   "source": [
    "### Dataset characteristics\n",
    "\n",
    "Berikut merupakan keterangan dari kolom yang terdapat pada **hour.csv** \n",
    "    \n",
    "    - instant: record index\n",
    "\t- dteday : date\n",
    "\t- season : season (1:springer, 2:summer, 3:fall, 4:winter)\n",
    "\t- yr : year (0: 2011, 1:2012)\n",
    "\t- mnth : month ( 1 to 12)\n",
    "\t- hr : hour (0 to 23)\n",
    "\t- holiday : weather day is holiday or not (extracted from http://dchr.dc.gov/page/holiday-schedule)\n",
    "\t- weekday : day of the week\n",
    "\t- workingday : if day is neither weekend nor holiday is 1, otherwise is 0.\n",
    "\t+ weathersit : \n",
    "\t\t- 1: Clear, Few clouds, Partly cloudy, Partly cloudy\n",
    "\t\t- 2: Mist + Cloudy, Mist + Broken clouds, Mist + Few clouds, Mist\n",
    "\t\t- 3: Light Snow, Light Rain + Thunderstorm + Scattered clouds, Light Rain + Scattered clouds\n",
    "\t\t- 4: Heavy Rain + Ice Pallets + Thunderstorm + Mist, Snow + Fog\n",
    "\t- temp : Normalized temperature in Celsius. The values are divided to 41 (max)\n",
    "\t- atemp: Normalized feeling temperature in Celsius. The values are divided to 50 (max)\n",
    "\t- hum: Normalized humidity. The values are divided to 100 (max)\n",
    "\t- windspeed: Normalized wind speed. The values are divided to 67 (max)\n",
    "\t- casual: count of casual users\n",
    "\t- registered: count of registered users\n",
    "\t- cnt: count of total rental bikes including both casual and registered"
   ]
  },
  {
   "cell_type": "markdown",
   "id": "00ed1abe",
   "metadata": {},
   "source": [
    "### Assesing data"
   ]
  },
  {
   "cell_type": "code",
   "execution_count": 7,
   "id": "99291e1a",
   "metadata": {},
   "outputs": [
    {
     "name": "stdout",
     "output_type": "stream",
     "text": [
      "<class 'pandas.core.frame.DataFrame'>\n",
      "RangeIndex: 17379 entries, 0 to 17378\n",
      "Data columns (total 17 columns):\n",
      " #   Column      Non-Null Count  Dtype  \n",
      "---  ------      --------------  -----  \n",
      " 0   instant     17379 non-null  int64  \n",
      " 1   dteday      17379 non-null  object \n",
      " 2   season      17379 non-null  int64  \n",
      " 3   yr          17379 non-null  int64  \n",
      " 4   mnth        17379 non-null  int64  \n",
      " 5   hr          17379 non-null  int64  \n",
      " 6   holiday     17379 non-null  int64  \n",
      " 7   weekday     17379 non-null  int64  \n",
      " 8   workingday  17379 non-null  int64  \n",
      " 9   weathersit  17379 non-null  int64  \n",
      " 10  temp        17379 non-null  float64\n",
      " 11  atemp       17379 non-null  float64\n",
      " 12  hum         17379 non-null  float64\n",
      " 13  windspeed   17379 non-null  float64\n",
      " 14  casual      17379 non-null  int64  \n",
      " 15  registered  17379 non-null  int64  \n",
      " 16  cnt         17379 non-null  int64  \n",
      "dtypes: float64(4), int64(12), object(1)\n",
      "memory usage: 2.3+ MB\n"
     ]
    }
   ],
   "source": [
    "hour.info()"
   ]
  },
  {
   "cell_type": "markdown",
   "id": "d2b53264",
   "metadata": {},
   "source": [
    "1. Saya akan merubah nama column karena column tersebut disingkat-singkat\n",
    "2. column instant berarti record index, pada dasarnya pandas sudah memiliki index tersendiri, sehingga tidak membutuhkan index lagi. Saya melakukan drop column karena tidak dibutuhkan\n",
    "3. dteday bertype object, sehingga perlu merubahnya menjadi type datetime"
   ]
  },
  {
   "cell_type": "markdown",
   "id": "91597a19",
   "metadata": {},
   "source": [
    "-----------------------------------------------------------------"
   ]
  },
  {
   "cell_type": "code",
   "execution_count": 8,
   "id": "29ed6905",
   "metadata": {},
   "outputs": [
    {
     "data": {
      "text/html": [
       "<div>\n",
       "<style scoped>\n",
       "    .dataframe tbody tr th:only-of-type {\n",
       "        vertical-align: middle;\n",
       "    }\n",
       "\n",
       "    .dataframe tbody tr th {\n",
       "        vertical-align: top;\n",
       "    }\n",
       "\n",
       "    .dataframe thead th {\n",
       "        text-align: right;\n",
       "    }\n",
       "</style>\n",
       "<table border=\"1\" class=\"dataframe\">\n",
       "  <thead>\n",
       "    <tr style=\"text-align: right;\">\n",
       "      <th></th>\n",
       "      <th>instant</th>\n",
       "      <th>dteday</th>\n",
       "      <th>season</th>\n",
       "      <th>yr</th>\n",
       "      <th>mnth</th>\n",
       "      <th>hr</th>\n",
       "      <th>holiday</th>\n",
       "      <th>weekday</th>\n",
       "      <th>workingday</th>\n",
       "      <th>weathersit</th>\n",
       "      <th>temp</th>\n",
       "      <th>atemp</th>\n",
       "      <th>hum</th>\n",
       "      <th>windspeed</th>\n",
       "      <th>casual</th>\n",
       "      <th>registered</th>\n",
       "      <th>cnt</th>\n",
       "    </tr>\n",
       "  </thead>\n",
       "  <tbody>\n",
       "    <tr>\n",
       "      <th>count</th>\n",
       "      <td>17379.0000</td>\n",
       "      <td>17379</td>\n",
       "      <td>17379.000000</td>\n",
       "      <td>17379.000000</td>\n",
       "      <td>17379.000000</td>\n",
       "      <td>17379.000000</td>\n",
       "      <td>17379.000000</td>\n",
       "      <td>17379.000000</td>\n",
       "      <td>17379.000000</td>\n",
       "      <td>17379.000000</td>\n",
       "      <td>17379.000000</td>\n",
       "      <td>17379.000000</td>\n",
       "      <td>17379.000000</td>\n",
       "      <td>17379.000000</td>\n",
       "      <td>17379.000000</td>\n",
       "      <td>17379.000000</td>\n",
       "      <td>17379.000000</td>\n",
       "    </tr>\n",
       "    <tr>\n",
       "      <th>unique</th>\n",
       "      <td>NaN</td>\n",
       "      <td>731</td>\n",
       "      <td>NaN</td>\n",
       "      <td>NaN</td>\n",
       "      <td>NaN</td>\n",
       "      <td>NaN</td>\n",
       "      <td>NaN</td>\n",
       "      <td>NaN</td>\n",
       "      <td>NaN</td>\n",
       "      <td>NaN</td>\n",
       "      <td>NaN</td>\n",
       "      <td>NaN</td>\n",
       "      <td>NaN</td>\n",
       "      <td>NaN</td>\n",
       "      <td>NaN</td>\n",
       "      <td>NaN</td>\n",
       "      <td>NaN</td>\n",
       "    </tr>\n",
       "    <tr>\n",
       "      <th>top</th>\n",
       "      <td>NaN</td>\n",
       "      <td>2011-01-01</td>\n",
       "      <td>NaN</td>\n",
       "      <td>NaN</td>\n",
       "      <td>NaN</td>\n",
       "      <td>NaN</td>\n",
       "      <td>NaN</td>\n",
       "      <td>NaN</td>\n",
       "      <td>NaN</td>\n",
       "      <td>NaN</td>\n",
       "      <td>NaN</td>\n",
       "      <td>NaN</td>\n",
       "      <td>NaN</td>\n",
       "      <td>NaN</td>\n",
       "      <td>NaN</td>\n",
       "      <td>NaN</td>\n",
       "      <td>NaN</td>\n",
       "    </tr>\n",
       "    <tr>\n",
       "      <th>freq</th>\n",
       "      <td>NaN</td>\n",
       "      <td>24</td>\n",
       "      <td>NaN</td>\n",
       "      <td>NaN</td>\n",
       "      <td>NaN</td>\n",
       "      <td>NaN</td>\n",
       "      <td>NaN</td>\n",
       "      <td>NaN</td>\n",
       "      <td>NaN</td>\n",
       "      <td>NaN</td>\n",
       "      <td>NaN</td>\n",
       "      <td>NaN</td>\n",
       "      <td>NaN</td>\n",
       "      <td>NaN</td>\n",
       "      <td>NaN</td>\n",
       "      <td>NaN</td>\n",
       "      <td>NaN</td>\n",
       "    </tr>\n",
       "    <tr>\n",
       "      <th>mean</th>\n",
       "      <td>8690.0000</td>\n",
       "      <td>NaN</td>\n",
       "      <td>2.501640</td>\n",
       "      <td>0.502561</td>\n",
       "      <td>6.537775</td>\n",
       "      <td>11.546752</td>\n",
       "      <td>0.028770</td>\n",
       "      <td>3.003683</td>\n",
       "      <td>0.682721</td>\n",
       "      <td>1.425283</td>\n",
       "      <td>0.496987</td>\n",
       "      <td>0.475775</td>\n",
       "      <td>0.627229</td>\n",
       "      <td>0.190098</td>\n",
       "      <td>35.676218</td>\n",
       "      <td>153.786869</td>\n",
       "      <td>189.463088</td>\n",
       "    </tr>\n",
       "    <tr>\n",
       "      <th>std</th>\n",
       "      <td>5017.0295</td>\n",
       "      <td>NaN</td>\n",
       "      <td>1.106918</td>\n",
       "      <td>0.500008</td>\n",
       "      <td>3.438776</td>\n",
       "      <td>6.914405</td>\n",
       "      <td>0.167165</td>\n",
       "      <td>2.005771</td>\n",
       "      <td>0.465431</td>\n",
       "      <td>0.639357</td>\n",
       "      <td>0.192556</td>\n",
       "      <td>0.171850</td>\n",
       "      <td>0.192930</td>\n",
       "      <td>0.122340</td>\n",
       "      <td>49.305030</td>\n",
       "      <td>151.357286</td>\n",
       "      <td>181.387599</td>\n",
       "    </tr>\n",
       "    <tr>\n",
       "      <th>min</th>\n",
       "      <td>1.0000</td>\n",
       "      <td>NaN</td>\n",
       "      <td>1.000000</td>\n",
       "      <td>0.000000</td>\n",
       "      <td>1.000000</td>\n",
       "      <td>0.000000</td>\n",
       "      <td>0.000000</td>\n",
       "      <td>0.000000</td>\n",
       "      <td>0.000000</td>\n",
       "      <td>1.000000</td>\n",
       "      <td>0.020000</td>\n",
       "      <td>0.000000</td>\n",
       "      <td>0.000000</td>\n",
       "      <td>0.000000</td>\n",
       "      <td>0.000000</td>\n",
       "      <td>0.000000</td>\n",
       "      <td>1.000000</td>\n",
       "    </tr>\n",
       "    <tr>\n",
       "      <th>25%</th>\n",
       "      <td>4345.5000</td>\n",
       "      <td>NaN</td>\n",
       "      <td>2.000000</td>\n",
       "      <td>0.000000</td>\n",
       "      <td>4.000000</td>\n",
       "      <td>6.000000</td>\n",
       "      <td>0.000000</td>\n",
       "      <td>1.000000</td>\n",
       "      <td>0.000000</td>\n",
       "      <td>1.000000</td>\n",
       "      <td>0.340000</td>\n",
       "      <td>0.333300</td>\n",
       "      <td>0.480000</td>\n",
       "      <td>0.104500</td>\n",
       "      <td>4.000000</td>\n",
       "      <td>34.000000</td>\n",
       "      <td>40.000000</td>\n",
       "    </tr>\n",
       "    <tr>\n",
       "      <th>50%</th>\n",
       "      <td>8690.0000</td>\n",
       "      <td>NaN</td>\n",
       "      <td>3.000000</td>\n",
       "      <td>1.000000</td>\n",
       "      <td>7.000000</td>\n",
       "      <td>12.000000</td>\n",
       "      <td>0.000000</td>\n",
       "      <td>3.000000</td>\n",
       "      <td>1.000000</td>\n",
       "      <td>1.000000</td>\n",
       "      <td>0.500000</td>\n",
       "      <td>0.484800</td>\n",
       "      <td>0.630000</td>\n",
       "      <td>0.194000</td>\n",
       "      <td>17.000000</td>\n",
       "      <td>115.000000</td>\n",
       "      <td>142.000000</td>\n",
       "    </tr>\n",
       "    <tr>\n",
       "      <th>75%</th>\n",
       "      <td>13034.5000</td>\n",
       "      <td>NaN</td>\n",
       "      <td>3.000000</td>\n",
       "      <td>1.000000</td>\n",
       "      <td>10.000000</td>\n",
       "      <td>18.000000</td>\n",
       "      <td>0.000000</td>\n",
       "      <td>5.000000</td>\n",
       "      <td>1.000000</td>\n",
       "      <td>2.000000</td>\n",
       "      <td>0.660000</td>\n",
       "      <td>0.621200</td>\n",
       "      <td>0.780000</td>\n",
       "      <td>0.253700</td>\n",
       "      <td>48.000000</td>\n",
       "      <td>220.000000</td>\n",
       "      <td>281.000000</td>\n",
       "    </tr>\n",
       "    <tr>\n",
       "      <th>max</th>\n",
       "      <td>17379.0000</td>\n",
       "      <td>NaN</td>\n",
       "      <td>4.000000</td>\n",
       "      <td>1.000000</td>\n",
       "      <td>12.000000</td>\n",
       "      <td>23.000000</td>\n",
       "      <td>1.000000</td>\n",
       "      <td>6.000000</td>\n",
       "      <td>1.000000</td>\n",
       "      <td>4.000000</td>\n",
       "      <td>1.000000</td>\n",
       "      <td>1.000000</td>\n",
       "      <td>1.000000</td>\n",
       "      <td>0.850700</td>\n",
       "      <td>367.000000</td>\n",
       "      <td>886.000000</td>\n",
       "      <td>977.000000</td>\n",
       "    </tr>\n",
       "  </tbody>\n",
       "</table>\n",
       "</div>"
      ],
      "text/plain": [
       "           instant      dteday        season            yr          mnth  \\\n",
       "count   17379.0000       17379  17379.000000  17379.000000  17379.000000   \n",
       "unique         NaN         731           NaN           NaN           NaN   \n",
       "top            NaN  2011-01-01           NaN           NaN           NaN   \n",
       "freq           NaN          24           NaN           NaN           NaN   \n",
       "mean     8690.0000         NaN      2.501640      0.502561      6.537775   \n",
       "std      5017.0295         NaN      1.106918      0.500008      3.438776   \n",
       "min         1.0000         NaN      1.000000      0.000000      1.000000   \n",
       "25%      4345.5000         NaN      2.000000      0.000000      4.000000   \n",
       "50%      8690.0000         NaN      3.000000      1.000000      7.000000   \n",
       "75%     13034.5000         NaN      3.000000      1.000000     10.000000   \n",
       "max     17379.0000         NaN      4.000000      1.000000     12.000000   \n",
       "\n",
       "                  hr       holiday       weekday    workingday    weathersit  \\\n",
       "count   17379.000000  17379.000000  17379.000000  17379.000000  17379.000000   \n",
       "unique           NaN           NaN           NaN           NaN           NaN   \n",
       "top              NaN           NaN           NaN           NaN           NaN   \n",
       "freq             NaN           NaN           NaN           NaN           NaN   \n",
       "mean       11.546752      0.028770      3.003683      0.682721      1.425283   \n",
       "std         6.914405      0.167165      2.005771      0.465431      0.639357   \n",
       "min         0.000000      0.000000      0.000000      0.000000      1.000000   \n",
       "25%         6.000000      0.000000      1.000000      0.000000      1.000000   \n",
       "50%        12.000000      0.000000      3.000000      1.000000      1.000000   \n",
       "75%        18.000000      0.000000      5.000000      1.000000      2.000000   \n",
       "max        23.000000      1.000000      6.000000      1.000000      4.000000   \n",
       "\n",
       "                temp         atemp           hum     windspeed        casual  \\\n",
       "count   17379.000000  17379.000000  17379.000000  17379.000000  17379.000000   \n",
       "unique           NaN           NaN           NaN           NaN           NaN   \n",
       "top              NaN           NaN           NaN           NaN           NaN   \n",
       "freq             NaN           NaN           NaN           NaN           NaN   \n",
       "mean        0.496987      0.475775      0.627229      0.190098     35.676218   \n",
       "std         0.192556      0.171850      0.192930      0.122340     49.305030   \n",
       "min         0.020000      0.000000      0.000000      0.000000      0.000000   \n",
       "25%         0.340000      0.333300      0.480000      0.104500      4.000000   \n",
       "50%         0.500000      0.484800      0.630000      0.194000     17.000000   \n",
       "75%         0.660000      0.621200      0.780000      0.253700     48.000000   \n",
       "max         1.000000      1.000000      1.000000      0.850700    367.000000   \n",
       "\n",
       "          registered           cnt  \n",
       "count   17379.000000  17379.000000  \n",
       "unique           NaN           NaN  \n",
       "top              NaN           NaN  \n",
       "freq             NaN           NaN  \n",
       "mean      153.786869    189.463088  \n",
       "std       151.357286    181.387599  \n",
       "min         0.000000      1.000000  \n",
       "25%        34.000000     40.000000  \n",
       "50%       115.000000    142.000000  \n",
       "75%       220.000000    281.000000  \n",
       "max       886.000000    977.000000  "
      ]
     },
     "execution_count": 8,
     "metadata": {},
     "output_type": "execute_result"
    }
   ],
   "source": [
    "hour.describe(include='all')"
   ]
  },
  {
   "cell_type": "markdown",
   "id": "746c786d",
   "metadata": {},
   "source": [
    "4. Berdasarkan dataset characteristic, column:\n",
    "    - temp valuenya telah dibagi 41\n",
    "    - atemp valuenya telah dibagi 50\n",
    "    - hum valuenya telah dibagi 100\n",
    "    - windspeed valuenya telah dibagi 67\n",
    "    \n",
    "5. Pada dataset **hour** column `atemp`, `hum`, dan `windspeed` memiliki minimal value 0.0000, sehingga dapat dikatakan **inaccurate data**\n",
    "\n",
    "Kebanyakan value berbentuk numerik, akan tetapi mereka sebenernya kategori berdasarkan dataset characteristic sehingga saya tidak mengecek apakah data tersebut terdapat duplicate atau tidak"
   ]
  },
  {
   "cell_type": "markdown",
   "id": "3b8776e5",
   "metadata": {},
   "source": [
    "--------------------------------------------------------------"
   ]
  },
  {
   "cell_type": "code",
   "execution_count": 9,
   "id": "510278cc",
   "metadata": {},
   "outputs": [
    {
     "name": "stdout",
     "output_type": "stream",
     "text": [
      "hour na value of instant: 0\n",
      "hour na value of dteday: 0\n",
      "hour na value of season: 0\n",
      "hour na value of yr: 0\n",
      "hour na value of mnth: 0\n",
      "hour na value of hr: 0\n",
      "hour na value of holiday: 0\n",
      "hour na value of weekday: 0\n",
      "hour na value of workingday: 0\n",
      "hour na value of weathersit: 0\n",
      "hour na value of temp: 0\n",
      "hour na value of atemp: 0\n",
      "hour na value of hum: 0\n",
      "hour na value of windspeed: 0\n",
      "hour na value of casual: 0\n",
      "hour na value of registered: 0\n",
      "hour na value of cnt: 0\n"
     ]
    }
   ],
   "source": [
    "for column in hour.columns:\n",
    "    na_value = hour[f\"{column}\"].isna().sum()\n",
    "    print(f\"hour na value of {column}: {na_value}\", )"
   ]
  },
  {
   "cell_type": "markdown",
   "id": "3642eeb2",
   "metadata": {},
   "source": [
    "Melihat value yang kosong pada hour, dapat dilihat **tidak ada value yang kosong pada dataset ini**"
   ]
  },
  {
   "cell_type": "markdown",
   "id": "89531ff3",
   "metadata": {},
   "source": [
    "----------------------------------------------"
   ]
  },
  {
   "cell_type": "markdown",
   "id": "42019638",
   "metadata": {},
   "source": [
    "## Cleaning Data"
   ]
  },
  {
   "cell_type": "markdown",
   "id": "f26353fe",
   "metadata": {},
   "source": [
    "### 1. Mengganti nama kolom"
   ]
  },
  {
   "cell_type": "code",
   "execution_count": 10,
   "id": "db574a80",
   "metadata": {},
   "outputs": [
    {
     "data": {
      "text/plain": [
       "Index(['instant', 'dteday', 'season', 'yr', 'mnth', 'hr', 'holiday', 'weekday',\n",
       "       'workingday', 'weathersit', 'temp', 'atemp', 'hum', 'windspeed',\n",
       "       'casual', 'registered', 'cnt'],\n",
       "      dtype='object')"
      ]
     },
     "execution_count": 10,
     "metadata": {},
     "output_type": "execute_result"
    }
   ],
   "source": [
    "hour.columns"
   ]
  },
  {
   "cell_type": "code",
   "execution_count": 11,
   "id": "50b6593b",
   "metadata": {},
   "outputs": [],
   "source": [
    "hour.rename(columns={'dteday': 'date', \n",
    "                    'yr': 'year',\n",
    "                    'mnth': 'month',\n",
    "                    'hr': 'hour',\n",
    "                    'weekday': 'week_day',\n",
    "                    'workingday': 'working_day',\n",
    "                    'weathersit': 'weather_sit',\n",
    "                    'temp': 'temprature',\n",
    "                    'atemp': 'feel_temprature',\n",
    "                    'hum': 'humidity',\n",
    "                    'windspeed': 'wind_speed',\n",
    "                    'casual': 'casual_user',\n",
    "                    'registered': 'registered_user',\n",
    "                    'cnt': 'total_user'}, inplace=True)"
   ]
  },
  {
   "cell_type": "code",
   "execution_count": 12,
   "id": "0bf6016c",
   "metadata": {
    "scrolled": true
   },
   "outputs": [
    {
     "data": {
      "text/plain": [
       "Index(['instant', 'date', 'season', 'year', 'month', 'hour', 'holiday',\n",
       "       'week_day', 'working_day', 'weather_sit', 'temprature',\n",
       "       'feel_temprature', 'humidity', 'wind_speed', 'casual_user',\n",
       "       'registered_user', 'total_user'],\n",
       "      dtype='object')"
      ]
     },
     "execution_count": 12,
     "metadata": {},
     "output_type": "execute_result"
    }
   ],
   "source": [
    "hour.columns"
   ]
  },
  {
   "cell_type": "markdown",
   "id": "03bc167c",
   "metadata": {},
   "source": [
    "Nama column telah berganti, sehingga memudahkan untuk dibaca"
   ]
  },
  {
   "cell_type": "markdown",
   "id": "2f0f7251",
   "metadata": {},
   "source": [
    "---------------------------------------------------------------"
   ]
  },
  {
   "cell_type": "markdown",
   "id": "88248150",
   "metadata": {},
   "source": [
    "### 2. Melakukan drop pada column instant"
   ]
  },
  {
   "cell_type": "code",
   "execution_count": 13,
   "id": "0410e957",
   "metadata": {},
   "outputs": [],
   "source": [
    "hour.drop('instant', axis=1, inplace=True)"
   ]
  },
  {
   "cell_type": "code",
   "execution_count": 14,
   "id": "70e37969",
   "metadata": {},
   "outputs": [
    {
     "data": {
      "text/html": [
       "<div>\n",
       "<style scoped>\n",
       "    .dataframe tbody tr th:only-of-type {\n",
       "        vertical-align: middle;\n",
       "    }\n",
       "\n",
       "    .dataframe tbody tr th {\n",
       "        vertical-align: top;\n",
       "    }\n",
       "\n",
       "    .dataframe thead th {\n",
       "        text-align: right;\n",
       "    }\n",
       "</style>\n",
       "<table border=\"1\" class=\"dataframe\">\n",
       "  <thead>\n",
       "    <tr style=\"text-align: right;\">\n",
       "      <th></th>\n",
       "      <th>date</th>\n",
       "      <th>season</th>\n",
       "      <th>year</th>\n",
       "      <th>month</th>\n",
       "      <th>hour</th>\n",
       "      <th>holiday</th>\n",
       "      <th>week_day</th>\n",
       "      <th>working_day</th>\n",
       "      <th>weather_sit</th>\n",
       "      <th>temprature</th>\n",
       "      <th>feel_temprature</th>\n",
       "      <th>humidity</th>\n",
       "      <th>wind_speed</th>\n",
       "      <th>casual_user</th>\n",
       "      <th>registered_user</th>\n",
       "      <th>total_user</th>\n",
       "    </tr>\n",
       "  </thead>\n",
       "  <tbody>\n",
       "    <tr>\n",
       "      <th>0</th>\n",
       "      <td>2011-01-01</td>\n",
       "      <td>1</td>\n",
       "      <td>0</td>\n",
       "      <td>1</td>\n",
       "      <td>0</td>\n",
       "      <td>0</td>\n",
       "      <td>6</td>\n",
       "      <td>0</td>\n",
       "      <td>1</td>\n",
       "      <td>0.24</td>\n",
       "      <td>0.2879</td>\n",
       "      <td>0.81</td>\n",
       "      <td>0.0</td>\n",
       "      <td>3</td>\n",
       "      <td>13</td>\n",
       "      <td>16</td>\n",
       "    </tr>\n",
       "    <tr>\n",
       "      <th>1</th>\n",
       "      <td>2011-01-01</td>\n",
       "      <td>1</td>\n",
       "      <td>0</td>\n",
       "      <td>1</td>\n",
       "      <td>1</td>\n",
       "      <td>0</td>\n",
       "      <td>6</td>\n",
       "      <td>0</td>\n",
       "      <td>1</td>\n",
       "      <td>0.22</td>\n",
       "      <td>0.2727</td>\n",
       "      <td>0.80</td>\n",
       "      <td>0.0</td>\n",
       "      <td>8</td>\n",
       "      <td>32</td>\n",
       "      <td>40</td>\n",
       "    </tr>\n",
       "    <tr>\n",
       "      <th>2</th>\n",
       "      <td>2011-01-01</td>\n",
       "      <td>1</td>\n",
       "      <td>0</td>\n",
       "      <td>1</td>\n",
       "      <td>2</td>\n",
       "      <td>0</td>\n",
       "      <td>6</td>\n",
       "      <td>0</td>\n",
       "      <td>1</td>\n",
       "      <td>0.22</td>\n",
       "      <td>0.2727</td>\n",
       "      <td>0.80</td>\n",
       "      <td>0.0</td>\n",
       "      <td>5</td>\n",
       "      <td>27</td>\n",
       "      <td>32</td>\n",
       "    </tr>\n",
       "    <tr>\n",
       "      <th>3</th>\n",
       "      <td>2011-01-01</td>\n",
       "      <td>1</td>\n",
       "      <td>0</td>\n",
       "      <td>1</td>\n",
       "      <td>3</td>\n",
       "      <td>0</td>\n",
       "      <td>6</td>\n",
       "      <td>0</td>\n",
       "      <td>1</td>\n",
       "      <td>0.24</td>\n",
       "      <td>0.2879</td>\n",
       "      <td>0.75</td>\n",
       "      <td>0.0</td>\n",
       "      <td>3</td>\n",
       "      <td>10</td>\n",
       "      <td>13</td>\n",
       "    </tr>\n",
       "    <tr>\n",
       "      <th>4</th>\n",
       "      <td>2011-01-01</td>\n",
       "      <td>1</td>\n",
       "      <td>0</td>\n",
       "      <td>1</td>\n",
       "      <td>4</td>\n",
       "      <td>0</td>\n",
       "      <td>6</td>\n",
       "      <td>0</td>\n",
       "      <td>1</td>\n",
       "      <td>0.24</td>\n",
       "      <td>0.2879</td>\n",
       "      <td>0.75</td>\n",
       "      <td>0.0</td>\n",
       "      <td>0</td>\n",
       "      <td>1</td>\n",
       "      <td>1</td>\n",
       "    </tr>\n",
       "  </tbody>\n",
       "</table>\n",
       "</div>"
      ],
      "text/plain": [
       "         date  season  year  month  hour  holiday  week_day  working_day  \\\n",
       "0  2011-01-01       1     0      1     0        0         6            0   \n",
       "1  2011-01-01       1     0      1     1        0         6            0   \n",
       "2  2011-01-01       1     0      1     2        0         6            0   \n",
       "3  2011-01-01       1     0      1     3        0         6            0   \n",
       "4  2011-01-01       1     0      1     4        0         6            0   \n",
       "\n",
       "   weather_sit  temprature  feel_temprature  humidity  wind_speed  \\\n",
       "0            1        0.24           0.2879      0.81         0.0   \n",
       "1            1        0.22           0.2727      0.80         0.0   \n",
       "2            1        0.22           0.2727      0.80         0.0   \n",
       "3            1        0.24           0.2879      0.75         0.0   \n",
       "4            1        0.24           0.2879      0.75         0.0   \n",
       "\n",
       "   casual_user  registered_user  total_user  \n",
       "0            3               13          16  \n",
       "1            8               32          40  \n",
       "2            5               27          32  \n",
       "3            3               10          13  \n",
       "4            0                1           1  "
      ]
     },
     "execution_count": 14,
     "metadata": {},
     "output_type": "execute_result"
    }
   ],
   "source": [
    "hour.head()"
   ]
  },
  {
   "cell_type": "markdown",
   "id": "5057afb8",
   "metadata": {},
   "source": [
    "Column instant telah didrop Karena berisi index, pandas dasarnya telah memiliki index jadi instant tidak dibutuhkan lagi"
   ]
  },
  {
   "cell_type": "markdown",
   "id": "ff0dd373",
   "metadata": {},
   "source": [
    "--------------------------------"
   ]
  },
  {
   "cell_type": "markdown",
   "id": "b2808634",
   "metadata": {},
   "source": [
    "### 3. Mengubah type column `date` menjadi type datetime"
   ]
  },
  {
   "cell_type": "code",
   "execution_count": 15,
   "id": "0de1917f",
   "metadata": {},
   "outputs": [
    {
     "data": {
      "text/plain": [
       "0    2011-01-01\n",
       "1    2011-01-01\n",
       "2    2011-01-01\n",
       "3    2011-01-01\n",
       "4    2011-01-01\n",
       "Name: date, dtype: object"
      ]
     },
     "execution_count": 15,
     "metadata": {},
     "output_type": "execute_result"
    }
   ],
   "source": [
    "hour.date[:5]"
   ]
  },
  {
   "cell_type": "code",
   "execution_count": 16,
   "id": "2317b65f",
   "metadata": {},
   "outputs": [],
   "source": [
    "hour.date = pd.to_datetime(hour.date)"
   ]
  },
  {
   "cell_type": "code",
   "execution_count": 17,
   "id": "74561344",
   "metadata": {},
   "outputs": [
    {
     "name": "stdout",
     "output_type": "stream",
     "text": [
      "<class 'pandas.core.frame.DataFrame'>\n",
      "RangeIndex: 17379 entries, 0 to 17378\n",
      "Data columns (total 16 columns):\n",
      " #   Column           Non-Null Count  Dtype         \n",
      "---  ------           --------------  -----         \n",
      " 0   date             17379 non-null  datetime64[ns]\n",
      " 1   season           17379 non-null  int64         \n",
      " 2   year             17379 non-null  int64         \n",
      " 3   month            17379 non-null  int64         \n",
      " 4   hour             17379 non-null  int64         \n",
      " 5   holiday          17379 non-null  int64         \n",
      " 6   week_day         17379 non-null  int64         \n",
      " 7   working_day      17379 non-null  int64         \n",
      " 8   weather_sit      17379 non-null  int64         \n",
      " 9   temprature       17379 non-null  float64       \n",
      " 10  feel_temprature  17379 non-null  float64       \n",
      " 11  humidity         17379 non-null  float64       \n",
      " 12  wind_speed       17379 non-null  float64       \n",
      " 13  casual_user      17379 non-null  int64         \n",
      " 14  registered_user  17379 non-null  int64         \n",
      " 15  total_user       17379 non-null  int64         \n",
      "dtypes: datetime64[ns](1), float64(4), int64(11)\n",
      "memory usage: 2.1 MB\n"
     ]
    }
   ],
   "source": [
    "hour.info()"
   ]
  },
  {
   "cell_type": "markdown",
   "id": "8014d610",
   "metadata": {},
   "source": [
    "--------------------------------------------------------------"
   ]
  },
  {
   "cell_type": "markdown",
   "id": "7160df00",
   "metadata": {},
   "source": [
    "### 4. Mengembalikan value column"
   ]
  },
  {
   "cell_type": "markdown",
   "id": "43eb64b8",
   "metadata": {},
   "source": [
    "Berdasarkan dataset characteristic, column:\n",
    "   1. `temprature` valuenya telah dibagi 41\n",
    "   2. `feel_temprature` valuenya telah dibagi 50\n",
    "   3. `humidity` valuenya telah dibagi 100\n",
    "   4. `wind_speed` valuenya telah dibagi 67\n",
    "\n",
    "\n",
    "Bermadsud untuk mengembalikan value untuk memudahkan dalam analisis"
   ]
  },
  {
   "cell_type": "code",
   "execution_count": 18,
   "id": "6ff2feff",
   "metadata": {},
   "outputs": [
    {
     "data": {
      "text/html": [
       "<div>\n",
       "<style scoped>\n",
       "    .dataframe tbody tr th:only-of-type {\n",
       "        vertical-align: middle;\n",
       "    }\n",
       "\n",
       "    .dataframe tbody tr th {\n",
       "        vertical-align: top;\n",
       "    }\n",
       "\n",
       "    .dataframe thead th {\n",
       "        text-align: right;\n",
       "    }\n",
       "</style>\n",
       "<table border=\"1\" class=\"dataframe\">\n",
       "  <thead>\n",
       "    <tr style=\"text-align: right;\">\n",
       "      <th></th>\n",
       "      <th>temprature</th>\n",
       "      <th>feel_temprature</th>\n",
       "      <th>humidity</th>\n",
       "      <th>wind_speed</th>\n",
       "    </tr>\n",
       "  </thead>\n",
       "  <tbody>\n",
       "    <tr>\n",
       "      <th>0</th>\n",
       "      <td>0.24</td>\n",
       "      <td>0.2879</td>\n",
       "      <td>0.81</td>\n",
       "      <td>0.0</td>\n",
       "    </tr>\n",
       "    <tr>\n",
       "      <th>1</th>\n",
       "      <td>0.22</td>\n",
       "      <td>0.2727</td>\n",
       "      <td>0.80</td>\n",
       "      <td>0.0</td>\n",
       "    </tr>\n",
       "    <tr>\n",
       "      <th>2</th>\n",
       "      <td>0.22</td>\n",
       "      <td>0.2727</td>\n",
       "      <td>0.80</td>\n",
       "      <td>0.0</td>\n",
       "    </tr>\n",
       "    <tr>\n",
       "      <th>3</th>\n",
       "      <td>0.24</td>\n",
       "      <td>0.2879</td>\n",
       "      <td>0.75</td>\n",
       "      <td>0.0</td>\n",
       "    </tr>\n",
       "    <tr>\n",
       "      <th>4</th>\n",
       "      <td>0.24</td>\n",
       "      <td>0.2879</td>\n",
       "      <td>0.75</td>\n",
       "      <td>0.0</td>\n",
       "    </tr>\n",
       "  </tbody>\n",
       "</table>\n",
       "</div>"
      ],
      "text/plain": [
       "   temprature  feel_temprature  humidity  wind_speed\n",
       "0        0.24           0.2879      0.81         0.0\n",
       "1        0.22           0.2727      0.80         0.0\n",
       "2        0.22           0.2727      0.80         0.0\n",
       "3        0.24           0.2879      0.75         0.0\n",
       "4        0.24           0.2879      0.75         0.0"
      ]
     },
     "execution_count": 18,
     "metadata": {},
     "output_type": "execute_result"
    }
   ],
   "source": [
    "hour[['temprature', 'feel_temprature', 'humidity', 'wind_speed']].head()"
   ]
  },
  {
   "cell_type": "code",
   "execution_count": 19,
   "id": "7db9f14b",
   "metadata": {},
   "outputs": [],
   "source": [
    "changes = ['temprature', 'feel_temprature', 'humidity', 'wind_speed']\n",
    "for change in changes:\n",
    "    if change == 'temprature':\n",
    "        hour[f'{change}'] = round(hour[f'{change}']*41, 2)\n",
    "    elif change == 'feel_temprature':\n",
    "        hour[f'{change}'] = round(hour[f'{change}']*50, 2)\n",
    "    elif change == 'humidity':\n",
    "        hour[f'{change}'] = round(hour[f'{change}']*100, 2)\n",
    "    elif change == 'wind_speed':\n",
    "        hour[f'{change}'] = round(hour[f'{change}']*67, 2)"
   ]
  },
  {
   "cell_type": "code",
   "execution_count": 20,
   "id": "7ef04e5a",
   "metadata": {},
   "outputs": [
    {
     "data": {
      "text/html": [
       "<div>\n",
       "<style scoped>\n",
       "    .dataframe tbody tr th:only-of-type {\n",
       "        vertical-align: middle;\n",
       "    }\n",
       "\n",
       "    .dataframe tbody tr th {\n",
       "        vertical-align: top;\n",
       "    }\n",
       "\n",
       "    .dataframe thead th {\n",
       "        text-align: right;\n",
       "    }\n",
       "</style>\n",
       "<table border=\"1\" class=\"dataframe\">\n",
       "  <thead>\n",
       "    <tr style=\"text-align: right;\">\n",
       "      <th></th>\n",
       "      <th>temprature</th>\n",
       "      <th>feel_temprature</th>\n",
       "      <th>humidity</th>\n",
       "      <th>wind_speed</th>\n",
       "    </tr>\n",
       "  </thead>\n",
       "  <tbody>\n",
       "    <tr>\n",
       "      <th>8906</th>\n",
       "      <td>13.94</td>\n",
       "      <td>15.91</td>\n",
       "      <td>87.0</td>\n",
       "      <td>15.0</td>\n",
       "    </tr>\n",
       "    <tr>\n",
       "      <th>8215</th>\n",
       "      <td>10.66</td>\n",
       "      <td>15.15</td>\n",
       "      <td>70.0</td>\n",
       "      <td>0.0</td>\n",
       "    </tr>\n",
       "    <tr>\n",
       "      <th>10977</th>\n",
       "      <td>20.50</td>\n",
       "      <td>24.24</td>\n",
       "      <td>22.0</td>\n",
       "      <td>13.0</td>\n",
       "    </tr>\n",
       "    <tr>\n",
       "      <th>1758</th>\n",
       "      <td>24.60</td>\n",
       "      <td>31.06</td>\n",
       "      <td>53.0</td>\n",
       "      <td>15.0</td>\n",
       "    </tr>\n",
       "    <tr>\n",
       "      <th>2065</th>\n",
       "      <td>11.48</td>\n",
       "      <td>13.64</td>\n",
       "      <td>93.0</td>\n",
       "      <td>17.0</td>\n",
       "    </tr>\n",
       "  </tbody>\n",
       "</table>\n",
       "</div>"
      ],
      "text/plain": [
       "       temprature  feel_temprature  humidity  wind_speed\n",
       "8906        13.94            15.91      87.0        15.0\n",
       "8215        10.66            15.15      70.0         0.0\n",
       "10977       20.50            24.24      22.0        13.0\n",
       "1758        24.60            31.06      53.0        15.0\n",
       "2065        11.48            13.64      93.0        17.0"
      ]
     },
     "execution_count": 20,
     "metadata": {},
     "output_type": "execute_result"
    }
   ],
   "source": [
    "hour[['temprature', 'feel_temprature', 'humidity', 'wind_speed']].sample(5)"
   ]
  },
  {
   "cell_type": "markdown",
   "id": "3c4b640e",
   "metadata": {},
   "source": [
    "Dengan mengembalikan kolom tersebut ke value semula, kita dimudahkan untuk memahami kondisi pada setiap columnnya, akan tetapi masih terdapat **inaccurate data** sehingga saya perlu memanipulasinya"
   ]
  },
  {
   "cell_type": "markdown",
   "id": "18705dbe",
   "metadata": {},
   "source": [
    "----------------------------------------------"
   ]
  },
  {
   "cell_type": "markdown",
   "id": "eb06919b",
   "metadata": {},
   "source": [
    "### 5. Memanipulasi \"hour\"  pada column `feel_temprature`, `humidity`, dan `wind_speed`"
   ]
  },
  {
   "cell_type": "code",
   "execution_count": 21,
   "id": "4468d4da",
   "metadata": {},
   "outputs": [
    {
     "data": {
      "text/html": [
       "<div>\n",
       "<style scoped>\n",
       "    .dataframe tbody tr th:only-of-type {\n",
       "        vertical-align: middle;\n",
       "    }\n",
       "\n",
       "    .dataframe tbody tr th {\n",
       "        vertical-align: top;\n",
       "    }\n",
       "\n",
       "    .dataframe thead th {\n",
       "        text-align: right;\n",
       "    }\n",
       "</style>\n",
       "<table border=\"1\" class=\"dataframe\">\n",
       "  <thead>\n",
       "    <tr style=\"text-align: right;\">\n",
       "      <th></th>\n",
       "      <th>season</th>\n",
       "      <th>year</th>\n",
       "      <th>month</th>\n",
       "      <th>hour</th>\n",
       "      <th>holiday</th>\n",
       "      <th>week_day</th>\n",
       "      <th>working_day</th>\n",
       "      <th>weather_sit</th>\n",
       "      <th>temprature</th>\n",
       "      <th>feel_temprature</th>\n",
       "      <th>humidity</th>\n",
       "      <th>wind_speed</th>\n",
       "      <th>casual_user</th>\n",
       "      <th>registered_user</th>\n",
       "      <th>total_user</th>\n",
       "    </tr>\n",
       "  </thead>\n",
       "  <tbody>\n",
       "    <tr>\n",
       "      <th>count</th>\n",
       "      <td>17379.000000</td>\n",
       "      <td>17379.000000</td>\n",
       "      <td>17379.000000</td>\n",
       "      <td>17379.000000</td>\n",
       "      <td>17379.000000</td>\n",
       "      <td>17379.000000</td>\n",
       "      <td>17379.000000</td>\n",
       "      <td>17379.000000</td>\n",
       "      <td>17379.000000</td>\n",
       "      <td>17379.000000</td>\n",
       "      <td>17379.000000</td>\n",
       "      <td>17379.000000</td>\n",
       "      <td>17379.000000</td>\n",
       "      <td>17379.000000</td>\n",
       "      <td>17379.000000</td>\n",
       "    </tr>\n",
       "    <tr>\n",
       "      <th>mean</th>\n",
       "      <td>2.501640</td>\n",
       "      <td>0.502561</td>\n",
       "      <td>6.537775</td>\n",
       "      <td>11.546752</td>\n",
       "      <td>0.028770</td>\n",
       "      <td>3.003683</td>\n",
       "      <td>0.682721</td>\n",
       "      <td>1.425283</td>\n",
       "      <td>20.376474</td>\n",
       "      <td>23.788484</td>\n",
       "      <td>62.722884</td>\n",
       "      <td>12.736233</td>\n",
       "      <td>35.676218</td>\n",
       "      <td>153.786869</td>\n",
       "      <td>189.463088</td>\n",
       "    </tr>\n",
       "    <tr>\n",
       "      <th>std</th>\n",
       "      <td>1.106918</td>\n",
       "      <td>0.500008</td>\n",
       "      <td>3.438776</td>\n",
       "      <td>6.914405</td>\n",
       "      <td>0.167165</td>\n",
       "      <td>2.005771</td>\n",
       "      <td>0.465431</td>\n",
       "      <td>0.639357</td>\n",
       "      <td>7.894801</td>\n",
       "      <td>8.592587</td>\n",
       "      <td>19.292983</td>\n",
       "      <td>8.196891</td>\n",
       "      <td>49.305030</td>\n",
       "      <td>151.357286</td>\n",
       "      <td>181.387599</td>\n",
       "    </tr>\n",
       "    <tr>\n",
       "      <th>min</th>\n",
       "      <td>1.000000</td>\n",
       "      <td>0.000000</td>\n",
       "      <td>1.000000</td>\n",
       "      <td>0.000000</td>\n",
       "      <td>0.000000</td>\n",
       "      <td>0.000000</td>\n",
       "      <td>0.000000</td>\n",
       "      <td>1.000000</td>\n",
       "      <td>0.820000</td>\n",
       "      <td>0.000000</td>\n",
       "      <td>0.000000</td>\n",
       "      <td>0.000000</td>\n",
       "      <td>0.000000</td>\n",
       "      <td>0.000000</td>\n",
       "      <td>1.000000</td>\n",
       "    </tr>\n",
       "    <tr>\n",
       "      <th>25%</th>\n",
       "      <td>2.000000</td>\n",
       "      <td>0.000000</td>\n",
       "      <td>4.000000</td>\n",
       "      <td>6.000000</td>\n",
       "      <td>0.000000</td>\n",
       "      <td>1.000000</td>\n",
       "      <td>0.000000</td>\n",
       "      <td>1.000000</td>\n",
       "      <td>13.940000</td>\n",
       "      <td>16.660000</td>\n",
       "      <td>48.000000</td>\n",
       "      <td>7.000000</td>\n",
       "      <td>4.000000</td>\n",
       "      <td>34.000000</td>\n",
       "      <td>40.000000</td>\n",
       "    </tr>\n",
       "    <tr>\n",
       "      <th>50%</th>\n",
       "      <td>3.000000</td>\n",
       "      <td>1.000000</td>\n",
       "      <td>7.000000</td>\n",
       "      <td>12.000000</td>\n",
       "      <td>0.000000</td>\n",
       "      <td>3.000000</td>\n",
       "      <td>1.000000</td>\n",
       "      <td>1.000000</td>\n",
       "      <td>20.500000</td>\n",
       "      <td>24.240000</td>\n",
       "      <td>63.000000</td>\n",
       "      <td>13.000000</td>\n",
       "      <td>17.000000</td>\n",
       "      <td>115.000000</td>\n",
       "      <td>142.000000</td>\n",
       "    </tr>\n",
       "    <tr>\n",
       "      <th>75%</th>\n",
       "      <td>3.000000</td>\n",
       "      <td>1.000000</td>\n",
       "      <td>10.000000</td>\n",
       "      <td>18.000000</td>\n",
       "      <td>0.000000</td>\n",
       "      <td>5.000000</td>\n",
       "      <td>1.000000</td>\n",
       "      <td>2.000000</td>\n",
       "      <td>27.060000</td>\n",
       "      <td>31.060000</td>\n",
       "      <td>78.000000</td>\n",
       "      <td>17.000000</td>\n",
       "      <td>48.000000</td>\n",
       "      <td>220.000000</td>\n",
       "      <td>281.000000</td>\n",
       "    </tr>\n",
       "    <tr>\n",
       "      <th>max</th>\n",
       "      <td>4.000000</td>\n",
       "      <td>1.000000</td>\n",
       "      <td>12.000000</td>\n",
       "      <td>23.000000</td>\n",
       "      <td>1.000000</td>\n",
       "      <td>6.000000</td>\n",
       "      <td>1.000000</td>\n",
       "      <td>4.000000</td>\n",
       "      <td>41.000000</td>\n",
       "      <td>50.000000</td>\n",
       "      <td>100.000000</td>\n",
       "      <td>57.000000</td>\n",
       "      <td>367.000000</td>\n",
       "      <td>886.000000</td>\n",
       "      <td>977.000000</td>\n",
       "    </tr>\n",
       "  </tbody>\n",
       "</table>\n",
       "</div>"
      ],
      "text/plain": [
       "             season          year         month          hour       holiday  \\\n",
       "count  17379.000000  17379.000000  17379.000000  17379.000000  17379.000000   \n",
       "mean       2.501640      0.502561      6.537775     11.546752      0.028770   \n",
       "std        1.106918      0.500008      3.438776      6.914405      0.167165   \n",
       "min        1.000000      0.000000      1.000000      0.000000      0.000000   \n",
       "25%        2.000000      0.000000      4.000000      6.000000      0.000000   \n",
       "50%        3.000000      1.000000      7.000000     12.000000      0.000000   \n",
       "75%        3.000000      1.000000     10.000000     18.000000      0.000000   \n",
       "max        4.000000      1.000000     12.000000     23.000000      1.000000   \n",
       "\n",
       "           week_day   working_day   weather_sit    temprature  \\\n",
       "count  17379.000000  17379.000000  17379.000000  17379.000000   \n",
       "mean       3.003683      0.682721      1.425283     20.376474   \n",
       "std        2.005771      0.465431      0.639357      7.894801   \n",
       "min        0.000000      0.000000      1.000000      0.820000   \n",
       "25%        1.000000      0.000000      1.000000     13.940000   \n",
       "50%        3.000000      1.000000      1.000000     20.500000   \n",
       "75%        5.000000      1.000000      2.000000     27.060000   \n",
       "max        6.000000      1.000000      4.000000     41.000000   \n",
       "\n",
       "       feel_temprature      humidity    wind_speed   casual_user  \\\n",
       "count     17379.000000  17379.000000  17379.000000  17379.000000   \n",
       "mean         23.788484     62.722884     12.736233     35.676218   \n",
       "std           8.592587     19.292983      8.196891     49.305030   \n",
       "min           0.000000      0.000000      0.000000      0.000000   \n",
       "25%          16.660000     48.000000      7.000000      4.000000   \n",
       "50%          24.240000     63.000000     13.000000     17.000000   \n",
       "75%          31.060000     78.000000     17.000000     48.000000   \n",
       "max          50.000000    100.000000     57.000000    367.000000   \n",
       "\n",
       "       registered_user    total_user  \n",
       "count     17379.000000  17379.000000  \n",
       "mean        153.786869    189.463088  \n",
       "std         151.357286    181.387599  \n",
       "min           0.000000      1.000000  \n",
       "25%          34.000000     40.000000  \n",
       "50%         115.000000    142.000000  \n",
       "75%         220.000000    281.000000  \n",
       "max         886.000000    977.000000  "
      ]
     },
     "execution_count": 21,
     "metadata": {},
     "output_type": "execute_result"
    }
   ],
   "source": [
    "hour.describe()"
   ]
  },
  {
   "cell_type": "code",
   "execution_count": 22,
   "id": "ccffc2ea",
   "metadata": {},
   "outputs": [
    {
     "data": {
      "text/html": [
       "<div>\n",
       "<style scoped>\n",
       "    .dataframe tbody tr th:only-of-type {\n",
       "        vertical-align: middle;\n",
       "    }\n",
       "\n",
       "    .dataframe tbody tr th {\n",
       "        vertical-align: top;\n",
       "    }\n",
       "\n",
       "    .dataframe thead th {\n",
       "        text-align: right;\n",
       "    }\n",
       "</style>\n",
       "<table border=\"1\" class=\"dataframe\">\n",
       "  <thead>\n",
       "    <tr style=\"text-align: right;\">\n",
       "      <th></th>\n",
       "      <th>feel_temprature</th>\n",
       "      <th>humidity</th>\n",
       "      <th>wind_speed</th>\n",
       "    </tr>\n",
       "  </thead>\n",
       "  <tbody>\n",
       "    <tr>\n",
       "      <th>count</th>\n",
       "      <td>17379.000000</td>\n",
       "      <td>17379.000000</td>\n",
       "      <td>17379.000000</td>\n",
       "    </tr>\n",
       "    <tr>\n",
       "      <th>mean</th>\n",
       "      <td>23.788484</td>\n",
       "      <td>62.722884</td>\n",
       "      <td>12.736233</td>\n",
       "    </tr>\n",
       "    <tr>\n",
       "      <th>std</th>\n",
       "      <td>8.592587</td>\n",
       "      <td>19.292983</td>\n",
       "      <td>8.196891</td>\n",
       "    </tr>\n",
       "    <tr>\n",
       "      <th>min</th>\n",
       "      <td>0.000000</td>\n",
       "      <td>0.000000</td>\n",
       "      <td>0.000000</td>\n",
       "    </tr>\n",
       "    <tr>\n",
       "      <th>25%</th>\n",
       "      <td>16.660000</td>\n",
       "      <td>48.000000</td>\n",
       "      <td>7.000000</td>\n",
       "    </tr>\n",
       "    <tr>\n",
       "      <th>50%</th>\n",
       "      <td>24.240000</td>\n",
       "      <td>63.000000</td>\n",
       "      <td>13.000000</td>\n",
       "    </tr>\n",
       "    <tr>\n",
       "      <th>75%</th>\n",
       "      <td>31.060000</td>\n",
       "      <td>78.000000</td>\n",
       "      <td>17.000000</td>\n",
       "    </tr>\n",
       "    <tr>\n",
       "      <th>max</th>\n",
       "      <td>50.000000</td>\n",
       "      <td>100.000000</td>\n",
       "      <td>57.000000</td>\n",
       "    </tr>\n",
       "  </tbody>\n",
       "</table>\n",
       "</div>"
      ],
      "text/plain": [
       "       feel_temprature      humidity    wind_speed\n",
       "count     17379.000000  17379.000000  17379.000000\n",
       "mean         23.788484     62.722884     12.736233\n",
       "std           8.592587     19.292983      8.196891\n",
       "min           0.000000      0.000000      0.000000\n",
       "25%          16.660000     48.000000      7.000000\n",
       "50%          24.240000     63.000000     13.000000\n",
       "75%          31.060000     78.000000     17.000000\n",
       "max          50.000000    100.000000     57.000000"
      ]
     },
     "execution_count": 22,
     "metadata": {},
     "output_type": "execute_result"
    }
   ],
   "source": [
    "hour[['feel_temprature', 'humidity', 'wind_speed']].describe()"
   ]
  },
  {
   "cell_type": "code",
   "execution_count": 23,
   "id": "e1fc08b4",
   "metadata": {},
   "outputs": [
    {
     "name": "stdout",
     "output_type": "stream",
     "text": [
      "feel_temprature memiliki 0 value sebanyak: 2\n",
      "humidity memiliki 0 value sebanyak: 22\n",
      "wind_speed memiliki 0 value sebanyak: 2180\n"
     ]
    }
   ],
   "source": [
    "conditions = ['feel_temprature', 'humidity', 'wind_speed']\n",
    "for condition in conditions:\n",
    "    hasil = hour[hour[f'{condition}'] == 0][f'{condition}'].count()\n",
    "    print(f\"{condition} memiliki 0 value sebanyak: {hasil}\")"
   ]
  },
  {
   "cell_type": "code",
   "execution_count": 24,
   "id": "8e285eda",
   "metadata": {},
   "outputs": [],
   "source": [
    "hour.loc[hour['feel_temprature'] == 0, 'feel_temprature'] = 24.24\n",
    "hour.loc[hour['humidity'] == 0, 'humidity'] = 63.00\n",
    "hour.loc[hour['wind_speed'] == 0, 'wind_speed'] = 12.73"
   ]
  },
  {
   "cell_type": "code",
   "execution_count": 25,
   "id": "5e784fca",
   "metadata": {},
   "outputs": [
    {
     "data": {
      "text/html": [
       "<div>\n",
       "<style scoped>\n",
       "    .dataframe tbody tr th:only-of-type {\n",
       "        vertical-align: middle;\n",
       "    }\n",
       "\n",
       "    .dataframe tbody tr th {\n",
       "        vertical-align: top;\n",
       "    }\n",
       "\n",
       "    .dataframe thead th {\n",
       "        text-align: right;\n",
       "    }\n",
       "</style>\n",
       "<table border=\"1\" class=\"dataframe\">\n",
       "  <thead>\n",
       "    <tr style=\"text-align: right;\">\n",
       "      <th></th>\n",
       "      <th>feel_temprature</th>\n",
       "      <th>humidity</th>\n",
       "      <th>wind_speed</th>\n",
       "    </tr>\n",
       "  </thead>\n",
       "  <tbody>\n",
       "    <tr>\n",
       "      <th>count</th>\n",
       "      <td>17379.000000</td>\n",
       "      <td>17379.000000</td>\n",
       "      <td>17379.000000</td>\n",
       "    </tr>\n",
       "    <tr>\n",
       "      <th>mean</th>\n",
       "      <td>23.791274</td>\n",
       "      <td>62.802635</td>\n",
       "      <td>14.333069</td>\n",
       "    </tr>\n",
       "    <tr>\n",
       "      <th>std</th>\n",
       "      <td>8.588798</td>\n",
       "      <td>19.163309</td>\n",
       "      <td>6.655089</td>\n",
       "    </tr>\n",
       "    <tr>\n",
       "      <th>min</th>\n",
       "      <td>0.760000</td>\n",
       "      <td>8.000000</td>\n",
       "      <td>6.000000</td>\n",
       "    </tr>\n",
       "    <tr>\n",
       "      <th>25%</th>\n",
       "      <td>16.660000</td>\n",
       "      <td>48.000000</td>\n",
       "      <td>9.000000</td>\n",
       "    </tr>\n",
       "    <tr>\n",
       "      <th>50%</th>\n",
       "      <td>24.240000</td>\n",
       "      <td>63.000000</td>\n",
       "      <td>13.000000</td>\n",
       "    </tr>\n",
       "    <tr>\n",
       "      <th>75%</th>\n",
       "      <td>31.060000</td>\n",
       "      <td>78.000000</td>\n",
       "      <td>17.000000</td>\n",
       "    </tr>\n",
       "    <tr>\n",
       "      <th>max</th>\n",
       "      <td>50.000000</td>\n",
       "      <td>100.000000</td>\n",
       "      <td>57.000000</td>\n",
       "    </tr>\n",
       "  </tbody>\n",
       "</table>\n",
       "</div>"
      ],
      "text/plain": [
       "       feel_temprature      humidity    wind_speed\n",
       "count     17379.000000  17379.000000  17379.000000\n",
       "mean         23.791274     62.802635     14.333069\n",
       "std           8.588798     19.163309      6.655089\n",
       "min           0.760000      8.000000      6.000000\n",
       "25%          16.660000     48.000000      9.000000\n",
       "50%          24.240000     63.000000     13.000000\n",
       "75%          31.060000     78.000000     17.000000\n",
       "max          50.000000    100.000000     57.000000"
      ]
     },
     "execution_count": 25,
     "metadata": {},
     "output_type": "execute_result"
    }
   ],
   "source": [
    "hour[['feel_temprature', 'humidity', 'wind_speed']].describe()"
   ]
  },
  {
   "cell_type": "markdown",
   "id": "372ecc23",
   "metadata": {},
   "source": [
    "1. Untuk column `feel_temprature` dan `humidity` saya memanipulasi value 0 dengan **median** dari masing-masing kolom, karena jumlah value yang 0 tidak terlalu banyak\n",
    "\n",
    "2. Pada colum `wind_speed` saya memanipulasi value 0 dengan **nilai rata-ratanya** karena datanya lumayan banyak sehingga mean bisa mempresentasikan datanya"
   ]
  },
  {
   "cell_type": "markdown",
   "id": "a4c7d760",
   "metadata": {},
   "source": [
    "------------------------------------------------------------"
   ]
  },
  {
   "cell_type": "markdown",
   "id": "555c2a78",
   "metadata": {},
   "source": [
    "### 6. Merubah column `season`"
   ]
  },
  {
   "cell_type": "markdown",
   "id": "109a270b",
   "metadata": {},
   "source": [
    "Pada Dataset characteristics terdapat keterangan tentang column `season`, yaitu:\n",
    "   - springer = 1\n",
    "   - summer = 2\n",
    "   - fall = 3\n",
    "   - winter = 4\n",
    "\n",
    "Saya mengubah data tersebut untuk mempermudah pemahaman datanya"
   ]
  },
  {
   "cell_type": "code",
   "execution_count": 26,
   "id": "9e4d4af9",
   "metadata": {},
   "outputs": [
    {
     "data": {
      "text/plain": [
       "3    4496\n",
       "2    4409\n",
       "1    4242\n",
       "4    4232\n",
       "Name: season, dtype: int64"
      ]
     },
     "execution_count": 26,
     "metadata": {},
     "output_type": "execute_result"
    }
   ],
   "source": [
    "hour.season.value_counts()"
   ]
  },
  {
   "cell_type": "code",
   "execution_count": 28,
   "id": "de80fb21",
   "metadata": {},
   "outputs": [
    {
     "data": {
      "text/plain": [
       "array(['springer', 'summer', 'fall', 'winter'], dtype=object)"
      ]
     },
     "execution_count": 28,
     "metadata": {},
     "output_type": "execute_result"
    }
   ],
   "source": [
    "hour['season'] = hour['season'].apply(lambda x: 'springer' if x == 1 else x)\n",
    "hour['season'] = hour['season'].apply(lambda x: 'summer' if x == 2 else x)\n",
    "hour['season'] = hour['season'].apply(lambda x: 'fall' if x == 3 else x)\n",
    "hour['season'] = hour['season'].apply(lambda x: 'winter' if x == 4 else x)\n",
    "\n",
    "hour.season.unique()"
   ]
  },
  {
   "cell_type": "markdown",
   "id": "b85525cd",
   "metadata": {},
   "source": [
    "Dengan mengubah value pada column season yang sebelumnya berupa numerik menjadi nama season itu sendiri, membuat kita memahami arti dari datanya"
   ]
  },
  {
   "cell_type": "markdown",
   "id": "d186e471",
   "metadata": {},
   "source": [
    "----------------------------------------------------------"
   ]
  },
  {
   "cell_type": "markdown",
   "id": "534ca8ba",
   "metadata": {},
   "source": [
    "### 7. Merubah column `year`"
   ]
  },
  {
   "cell_type": "markdown",
   "id": "737a1281",
   "metadata": {},
   "source": [
    "Pada Dataset characteristics terdapat keterangan tentang column `year`, yaitu:\n",
    "- 2011 = 0\n",
    "- 2012 = 1\n",
    "\n",
    "Saya mengubah data tersebut untuk mempermudah pemahaman datanya"
   ]
  },
  {
   "cell_type": "code",
   "execution_count": 29,
   "id": "2f6e909c",
   "metadata": {},
   "outputs": [
    {
     "data": {
      "text/plain": [
       "1    8734\n",
       "0    8645\n",
       "Name: year, dtype: int64"
      ]
     },
     "execution_count": 29,
     "metadata": {},
     "output_type": "execute_result"
    }
   ],
   "source": [
    "hour.year.value_counts()"
   ]
  },
  {
   "cell_type": "code",
   "execution_count": 30,
   "id": "2ae50d7b",
   "metadata": {},
   "outputs": [
    {
     "data": {
      "text/plain": [
       "array([2011, 2012], dtype=int64)"
      ]
     },
     "execution_count": 30,
     "metadata": {},
     "output_type": "execute_result"
    }
   ],
   "source": [
    "hour['year'] = hour['year'].apply(lambda x: 2011 if x == 0 else x)\n",
    "hour['year'] = hour['year'].apply(lambda x: 2012 if x == 1 else x)\n",
    "hour.year.unique()"
   ]
  },
  {
   "cell_type": "markdown",
   "id": "b01c33f8",
   "metadata": {},
   "source": [
    "Dapat dilihat persebaran tahun pada kedua dataset itu merata, setelah kita mengubah valuenya"
   ]
  },
  {
   "cell_type": "markdown",
   "id": "45a5492b",
   "metadata": {},
   "source": [
    "--------------------------------------------------------------"
   ]
  },
  {
   "cell_type": "markdown",
   "id": "96965192",
   "metadata": {},
   "source": [
    "### 8. Merubah column `month`"
   ]
  },
  {
   "cell_type": "markdown",
   "id": "433984da",
   "metadata": {},
   "source": [
    "Melakukan perubahan untuk memahami data dengan mudah sesuai dengan bulannya"
   ]
  },
  {
   "cell_type": "code",
   "execution_count": 31,
   "id": "e446d342",
   "metadata": {},
   "outputs": [],
   "source": [
    "hour.month = pd.to_datetime(hour.month, format='%m').dt.strftime('%b')"
   ]
  },
  {
   "cell_type": "code",
   "execution_count": 32,
   "id": "de817f0a",
   "metadata": {},
   "outputs": [
    {
     "data": {
      "text/plain": [
       "array(['Jan', 'Feb', 'Mar', 'Apr', 'May', 'Jun', 'Jul', 'Aug', 'Sep',\n",
       "       'Oct', 'Nov', 'Dec'], dtype=object)"
      ]
     },
     "execution_count": 32,
     "metadata": {},
     "output_type": "execute_result"
    }
   ],
   "source": [
    "hour.month.unique()"
   ]
  },
  {
   "cell_type": "markdown",
   "id": "69a5f030",
   "metadata": {},
   "source": [
    "Melalui perubahan ini, kita bisa melihat persebaran datanya tergantung bulannya"
   ]
  },
  {
   "cell_type": "markdown",
   "id": "23b6427f",
   "metadata": {},
   "source": [
    "----------------------------------------------------"
   ]
  },
  {
   "cell_type": "markdown",
   "id": "115921ef",
   "metadata": {},
   "source": [
    "### 10. Merubah column `week_day`"
   ]
  },
  {
   "cell_type": "markdown",
   "id": "396bc48b",
   "metadata": {},
   "source": [
    "Melalui data characteristics dijelaskan bahwa **hour** merupakan data yang diperoleh dari system bike di kota Washington, yang berarti sunday merupakan hari pertama dalam hitungan minggu di US"
   ]
  },
  {
   "cell_type": "code",
   "execution_count": 33,
   "id": "f36e1f59",
   "metadata": {},
   "outputs": [
    {
     "data": {
      "text/plain": [
       "6    2512\n",
       "0    2502\n",
       "5    2487\n",
       "1    2479\n",
       "3    2475\n",
       "4    2471\n",
       "2    2453\n",
       "Name: week_day, dtype: int64"
      ]
     },
     "execution_count": 33,
     "metadata": {},
     "output_type": "execute_result"
    }
   ],
   "source": [
    "hour.week_day.value_counts()"
   ]
  },
  {
   "cell_type": "code",
   "execution_count": 35,
   "id": "7c46af31",
   "metadata": {},
   "outputs": [
    {
     "data": {
      "text/plain": [
       "array(['sunday', 'monday', 'tuesday', 'wednesday', 'thursday ', 'friday',\n",
       "       'saturday'], dtype=object)"
      ]
     },
     "execution_count": 35,
     "metadata": {},
     "output_type": "execute_result"
    }
   ],
   "source": [
    "hour['week_day'] = hour['week_day'].apply(lambda x: 'monday' if x == 0 else x)\n",
    "hour['week_day'] = hour['week_day'].apply(lambda x: 'tuesday' if x == 1 else x)\n",
    "hour['week_day'] = hour['week_day'].apply(lambda x: 'wednesday' if x == 2 else x)\n",
    "hour['week_day'] = hour['week_day'].apply(lambda x: 'thursday ' if x == 3 else x)\n",
    "hour['week_day'] = hour['week_day'].apply(lambda x: \"friday\" if x == 4 else x)\n",
    "hour['week_day'] = hour['week_day'].apply(lambda x: 'saturday' if x == 5 else x)\n",
    "hour['week_day'] = hour['week_day'].apply(lambda x: 'sunday' if x == 6 else x)\n",
    "\n",
    "hour.week_day.unique()"
   ]
  },
  {
   "cell_type": "markdown",
   "id": "60f28303",
   "metadata": {},
   "source": [
    "------------------------------------------"
   ]
  },
  {
   "cell_type": "markdown",
   "id": "fca346c0",
   "metadata": {},
   "source": [
    "### 10.  Merubah column `weather_sit`"
   ]
  },
  {
   "cell_type": "markdown",
   "id": "b958869d",
   "metadata": {},
   "source": [
    "Pada dataset characteristics dijelaskan bahwa:\n",
    "- Clear, Few clouds, Partly cloudy, Partly cloudy = 1\n",
    "- Mist + Cloudy, Mist + Broken clouds, Mist + Few clouds, Mist = 2\n",
    "- Light Snow, Light Rain + Thunderstorm + Scattered clouds, Light Rain + Scattered clouds = 3\n",
    "- Heavy Rain + Ice Pallets + Thunderstorm + Mist, Snow + Fog = 4\n",
    "\n",
    "Penjelasan pada dataset characteristics untuk column `weather_sit` terlalu panjang, jadi saya menggunakan kondisi yang sering muncul pada masing-masing arti pada `weather_sit`, yaitu:\n",
    "\n",
    "- Clear = 1\n",
    "- Mist = 2\n",
    "- Light Rain = 3\n",
    "- Heavy Rain = 4"
   ]
  },
  {
   "cell_type": "code",
   "execution_count": 36,
   "id": "89c66618",
   "metadata": {},
   "outputs": [
    {
     "data": {
      "text/plain": [
       "1    11413\n",
       "2     4544\n",
       "3     1419\n",
       "4        3\n",
       "Name: weather_sit, dtype: int64"
      ]
     },
     "execution_count": 36,
     "metadata": {},
     "output_type": "execute_result"
    }
   ],
   "source": [
    "hour.weather_sit.value_counts()"
   ]
  },
  {
   "cell_type": "code",
   "execution_count": 37,
   "id": "a4e11d0d",
   "metadata": {},
   "outputs": [],
   "source": [
    "hour['weather_sit'] = hour['weather_sit'].apply(lambda x: 'clear' if x == 1 else x)\n",
    "hour['weather_sit'] = hour['weather_sit'].apply(lambda x: 'mist' if x == 2 else x)\n",
    "hour['weather_sit'] = hour['weather_sit'].apply(lambda x: 'light rain' if x == 3 else x)\n",
    "hour['weather_sit'] = hour['weather_sit'].apply(lambda x: 'heavy rain' if x == 4 else x)"
   ]
  },
  {
   "cell_type": "code",
   "execution_count": 38,
   "id": "ca2b2220",
   "metadata": {},
   "outputs": [
    {
     "data": {
      "text/plain": [
       "array(['clear', 'mist', 'light rain', 'heavy rain'], dtype=object)"
      ]
     },
     "execution_count": 38,
     "metadata": {},
     "output_type": "execute_result"
    }
   ],
   "source": [
    "hour.weather_sit.unique()"
   ]
  },
  {
   "cell_type": "markdown",
   "id": "39fd08da",
   "metadata": {},
   "source": [
    "Melalui perubahan data tersebut, kita bisa melihat bahwa pada dataset day hanya terjadi 3 `weather_sit` yaitu mist, clear, dan light rain, sedangkan pada dataset hour terjadi 4 weather_sit yaitu  mist, clear, light rain, dan heavy rain"
   ]
  },
  {
   "cell_type": "markdown",
   "id": "494691c6",
   "metadata": {},
   "source": [
    "----------------------------------------------------"
   ]
  },
  {
   "cell_type": "markdown",
   "id": "6935208b",
   "metadata": {},
   "source": [
    "### 11. Merubah column `working_day` dan `holiday`"
   ]
  },
  {
   "cell_type": "markdown",
   "id": "c1dc6fff",
   "metadata": {},
   "source": [
    "Pada Dataset characteristics dijelaskan bahwa `working_day : if day is neither weekend nor holiday is 1, otherwise is 0`. Maka, saya akan merubah column working_day menjadi yes(1) atau no(0)\n",
    "\n",
    "Misalnya, jika hari ini adalah hari Selasa, maka ekspresi bernilai 1 karena hari Selasa bukanlah akhir pekan atau hari libur. Namun, jika hari ini adalah hari Sabtu, maka ekspresi bernilai 0 karena hari Sabtu adalah akhir pekan.\n",
    "\n",
    "Begitu juga dengan column `holiday`, yang berarti apakah pada hari tersebut liburan(1) atau tidak(0)"
   ]
  },
  {
   "cell_type": "code",
   "execution_count": 39,
   "id": "13febef6",
   "metadata": {},
   "outputs": [
    {
     "data": {
      "text/plain": [
       "1    11865\n",
       "0     5514\n",
       "Name: working_day, dtype: int64"
      ]
     },
     "execution_count": 39,
     "metadata": {},
     "output_type": "execute_result"
    }
   ],
   "source": [
    "hour.working_day.value_counts()"
   ]
  },
  {
   "cell_type": "code",
   "execution_count": 40,
   "id": "27a20b0d",
   "metadata": {},
   "outputs": [],
   "source": [
    "hour['working_day'] = hour['working_day'].apply(lambda x: 'no' if x == 0 else x)\n",
    "hour['working_day'] = hour['working_day'].apply(lambda x: 'yes' if x == 1 else x)"
   ]
  },
  {
   "cell_type": "code",
   "execution_count": 41,
   "id": "fb495c1f",
   "metadata": {},
   "outputs": [
    {
     "data": {
      "text/plain": [
       "yes    11865\n",
       "no      5514\n",
       "Name: working_day, dtype: int64"
      ]
     },
     "execution_count": 41,
     "metadata": {},
     "output_type": "execute_result"
    }
   ],
   "source": [
    "hour.working_day.value_counts()"
   ]
  },
  {
   "cell_type": "code",
   "execution_count": 42,
   "id": "49f3e06c",
   "metadata": {},
   "outputs": [
    {
     "data": {
      "text/plain": [
       "0    16879\n",
       "1      500\n",
       "Name: holiday, dtype: int64"
      ]
     },
     "execution_count": 42,
     "metadata": {},
     "output_type": "execute_result"
    }
   ],
   "source": [
    "hour.holiday.value_counts()"
   ]
  },
  {
   "cell_type": "code",
   "execution_count": 43,
   "id": "656f98b5",
   "metadata": {},
   "outputs": [],
   "source": [
    "hour['holiday'] = hour['holiday'].apply(lambda x: 'no' if x == 0 else x)\n",
    "hour['holiday'] = hour['holiday'].apply(lambda x: 'yes' if x == 1 else x)"
   ]
  },
  {
   "cell_type": "code",
   "execution_count": 44,
   "id": "3e9b1970",
   "metadata": {},
   "outputs": [
    {
     "data": {
      "text/plain": [
       "no     16879\n",
       "yes      500\n",
       "Name: holiday, dtype: int64"
      ]
     },
     "execution_count": 44,
     "metadata": {},
     "output_type": "execute_result"
    }
   ],
   "source": [
    "hour.holiday.value_counts()"
   ]
  },
  {
   "cell_type": "markdown",
   "id": "fad8c922",
   "metadata": {},
   "source": [
    "------------------------------------------------------------------------------"
   ]
  },
  {
   "cell_type": "markdown",
   "id": "a6064236",
   "metadata": {},
   "source": [
    "## Exploratory Data Analysis (EDA)"
   ]
  },
  {
   "cell_type": "markdown",
   "id": "3331a58b",
   "metadata": {},
   "source": [
    "### Explore "
   ]
  },
  {
   "cell_type": "markdown",
   "id": "aa41cec4",
   "metadata": {},
   "source": [
    "Bike sharing system merupakan sebuah rental sepeda dimana user dengan mudah merental sepeda pada sebuah tempat tertentu dan mengembalikannya sesuai pada tempat yang tersedia. System rental sepeda tentunya memiliki pengaruh penting dalam lalu lintas, lingkukan dan kesehatan. \n",
    "\n",
    "Bike sharing system memperoleh data dari proses pemakaian usernya pada tahun 2011 sampai 2012 dari Capital Bikeshare System untuk kota Washington D.C., USA. Data yang diperoleh memiliki korelasi dengan cuaca, hari, musim, jam, dan lain sebagainya, sehingga dapat mempengaruhi perilaku user untuk menggunakan sepeda. \n",
    "\n",
    "Berdasarkan penjelasan tersebut, dapat didefinisikan pertanyaan sebagai berikut:\n",
    "1. Apakah kondisi musim dan cuaca mempengaruhi jumlah user?\n",
    "2. Bagaimana perkembangan jumlah user berdasarkan bulannya?\n",
    "3. Pada jam berapa user bike sharing system paling sering digunakan? "
   ]
  },
  {
   "cell_type": "code",
   "execution_count": 45,
   "id": "fdc42f12",
   "metadata": {},
   "outputs": [
    {
     "data": {
      "text/html": [
       "<div>\n",
       "<style scoped>\n",
       "    .dataframe tbody tr th:only-of-type {\n",
       "        vertical-align: middle;\n",
       "    }\n",
       "\n",
       "    .dataframe tbody tr th {\n",
       "        vertical-align: top;\n",
       "    }\n",
       "\n",
       "    .dataframe thead th {\n",
       "        text-align: right;\n",
       "    }\n",
       "</style>\n",
       "<table border=\"1\" class=\"dataframe\">\n",
       "  <thead>\n",
       "    <tr style=\"text-align: right;\">\n",
       "      <th></th>\n",
       "      <th>date</th>\n",
       "      <th>season</th>\n",
       "      <th>year</th>\n",
       "      <th>month</th>\n",
       "      <th>hour</th>\n",
       "      <th>holiday</th>\n",
       "      <th>week_day</th>\n",
       "      <th>working_day</th>\n",
       "      <th>weather_sit</th>\n",
       "      <th>temprature</th>\n",
       "      <th>feel_temprature</th>\n",
       "      <th>humidity</th>\n",
       "      <th>wind_speed</th>\n",
       "      <th>casual_user</th>\n",
       "      <th>registered_user</th>\n",
       "      <th>total_user</th>\n",
       "    </tr>\n",
       "  </thead>\n",
       "  <tbody>\n",
       "    <tr>\n",
       "      <th>13614</th>\n",
       "      <td>2012-07-26</td>\n",
       "      <td>fall</td>\n",
       "      <td>2012</td>\n",
       "      <td>Jul</td>\n",
       "      <td>11</td>\n",
       "      <td>no</td>\n",
       "      <td>friday</td>\n",
       "      <td>yes</td>\n",
       "      <td>clear</td>\n",
       "      <td>32.80</td>\n",
       "      <td>40.15</td>\n",
       "      <td>66.0</td>\n",
       "      <td>15.0</td>\n",
       "      <td>69</td>\n",
       "      <td>143</td>\n",
       "      <td>212</td>\n",
       "    </tr>\n",
       "    <tr>\n",
       "      <th>16807</th>\n",
       "      <td>2012-12-08</td>\n",
       "      <td>winter</td>\n",
       "      <td>2012</td>\n",
       "      <td>Dec</td>\n",
       "      <td>2</td>\n",
       "      <td>no</td>\n",
       "      <td>sunday</td>\n",
       "      <td>no</td>\n",
       "      <td>mist</td>\n",
       "      <td>14.76</td>\n",
       "      <td>17.42</td>\n",
       "      <td>93.0</td>\n",
       "      <td>9.0</td>\n",
       "      <td>3</td>\n",
       "      <td>67</td>\n",
       "      <td>70</td>\n",
       "    </tr>\n",
       "    <tr>\n",
       "      <th>13187</th>\n",
       "      <td>2012-07-08</td>\n",
       "      <td>fall</td>\n",
       "      <td>2012</td>\n",
       "      <td>Jul</td>\n",
       "      <td>16</td>\n",
       "      <td>no</td>\n",
       "      <td>monday</td>\n",
       "      <td>no</td>\n",
       "      <td>mist</td>\n",
       "      <td>32.80</td>\n",
       "      <td>40.15</td>\n",
       "      <td>66.0</td>\n",
       "      <td>15.0</td>\n",
       "      <td>65</td>\n",
       "      <td>226</td>\n",
       "      <td>291</td>\n",
       "    </tr>\n",
       "    <tr>\n",
       "      <th>17111</th>\n",
       "      <td>2012-12-20</td>\n",
       "      <td>winter</td>\n",
       "      <td>2012</td>\n",
       "      <td>Dec</td>\n",
       "      <td>18</td>\n",
       "      <td>no</td>\n",
       "      <td>friday</td>\n",
       "      <td>yes</td>\n",
       "      <td>mist</td>\n",
       "      <td>13.94</td>\n",
       "      <td>16.66</td>\n",
       "      <td>71.0</td>\n",
       "      <td>13.0</td>\n",
       "      <td>22</td>\n",
       "      <td>359</td>\n",
       "      <td>381</td>\n",
       "    </tr>\n",
       "    <tr>\n",
       "      <th>1908</th>\n",
       "      <td>2011-03-25</td>\n",
       "      <td>summer</td>\n",
       "      <td>2011</td>\n",
       "      <td>Mar</td>\n",
       "      <td>7</td>\n",
       "      <td>no</td>\n",
       "      <td>saturday</td>\n",
       "      <td>yes</td>\n",
       "      <td>clear</td>\n",
       "      <td>8.20</td>\n",
       "      <td>9.09</td>\n",
       "      <td>59.0</td>\n",
       "      <td>24.0</td>\n",
       "      <td>4</td>\n",
       "      <td>100</td>\n",
       "      <td>104</td>\n",
       "    </tr>\n",
       "  </tbody>\n",
       "</table>\n",
       "</div>"
      ],
      "text/plain": [
       "            date  season  year month  hour holiday  week_day working_day  \\\n",
       "13614 2012-07-26    fall  2012   Jul    11      no    friday         yes   \n",
       "16807 2012-12-08  winter  2012   Dec     2      no    sunday          no   \n",
       "13187 2012-07-08    fall  2012   Jul    16      no    monday          no   \n",
       "17111 2012-12-20  winter  2012   Dec    18      no    friday         yes   \n",
       "1908  2011-03-25  summer  2011   Mar     7      no  saturday         yes   \n",
       "\n",
       "      weather_sit  temprature  feel_temprature  humidity  wind_speed  \\\n",
       "13614       clear       32.80            40.15      66.0        15.0   \n",
       "16807        mist       14.76            17.42      93.0         9.0   \n",
       "13187        mist       32.80            40.15      66.0        15.0   \n",
       "17111        mist       13.94            16.66      71.0        13.0   \n",
       "1908        clear        8.20             9.09      59.0        24.0   \n",
       "\n",
       "       casual_user  registered_user  total_user  \n",
       "13614           69              143         212  \n",
       "16807            3               67          70  \n",
       "13187           65              226         291  \n",
       "17111           22              359         381  \n",
       "1908             4              100         104  "
      ]
     },
     "execution_count": 45,
     "metadata": {},
     "output_type": "execute_result"
    }
   ],
   "source": [
    "hour.sample(5)"
   ]
  },
  {
   "cell_type": "code",
   "execution_count": 46,
   "id": "5f382d1d",
   "metadata": {},
   "outputs": [
    {
     "data": {
      "text/html": [
       "<div>\n",
       "<style scoped>\n",
       "    .dataframe tbody tr th:only-of-type {\n",
       "        vertical-align: middle;\n",
       "    }\n",
       "\n",
       "    .dataframe tbody tr th {\n",
       "        vertical-align: top;\n",
       "    }\n",
       "\n",
       "    .dataframe thead th {\n",
       "        text-align: right;\n",
       "    }\n",
       "</style>\n",
       "<table border=\"1\" class=\"dataframe\">\n",
       "  <thead>\n",
       "    <tr style=\"text-align: right;\">\n",
       "      <th></th>\n",
       "      <th>year</th>\n",
       "      <th>hour</th>\n",
       "      <th>temprature</th>\n",
       "      <th>feel_temprature</th>\n",
       "      <th>humidity</th>\n",
       "      <th>wind_speed</th>\n",
       "      <th>casual_user</th>\n",
       "      <th>registered_user</th>\n",
       "      <th>total_user</th>\n",
       "    </tr>\n",
       "  </thead>\n",
       "  <tbody>\n",
       "    <tr>\n",
       "      <th>count</th>\n",
       "      <td>17379.000000</td>\n",
       "      <td>17379.000000</td>\n",
       "      <td>17379.000000</td>\n",
       "      <td>17379.000000</td>\n",
       "      <td>17379.000000</td>\n",
       "      <td>17379.000000</td>\n",
       "      <td>17379.000000</td>\n",
       "      <td>17379.000000</td>\n",
       "      <td>17379.000000</td>\n",
       "    </tr>\n",
       "    <tr>\n",
       "      <th>mean</th>\n",
       "      <td>2011.502561</td>\n",
       "      <td>11.546752</td>\n",
       "      <td>20.376474</td>\n",
       "      <td>23.791274</td>\n",
       "      <td>62.802635</td>\n",
       "      <td>14.333069</td>\n",
       "      <td>35.676218</td>\n",
       "      <td>153.786869</td>\n",
       "      <td>189.463088</td>\n",
       "    </tr>\n",
       "    <tr>\n",
       "      <th>std</th>\n",
       "      <td>0.500008</td>\n",
       "      <td>6.914405</td>\n",
       "      <td>7.894801</td>\n",
       "      <td>8.588798</td>\n",
       "      <td>19.163309</td>\n",
       "      <td>6.655089</td>\n",
       "      <td>49.305030</td>\n",
       "      <td>151.357286</td>\n",
       "      <td>181.387599</td>\n",
       "    </tr>\n",
       "    <tr>\n",
       "      <th>min</th>\n",
       "      <td>2011.000000</td>\n",
       "      <td>0.000000</td>\n",
       "      <td>0.820000</td>\n",
       "      <td>0.760000</td>\n",
       "      <td>8.000000</td>\n",
       "      <td>6.000000</td>\n",
       "      <td>0.000000</td>\n",
       "      <td>0.000000</td>\n",
       "      <td>1.000000</td>\n",
       "    </tr>\n",
       "    <tr>\n",
       "      <th>25%</th>\n",
       "      <td>2011.000000</td>\n",
       "      <td>6.000000</td>\n",
       "      <td>13.940000</td>\n",
       "      <td>16.660000</td>\n",
       "      <td>48.000000</td>\n",
       "      <td>9.000000</td>\n",
       "      <td>4.000000</td>\n",
       "      <td>34.000000</td>\n",
       "      <td>40.000000</td>\n",
       "    </tr>\n",
       "    <tr>\n",
       "      <th>50%</th>\n",
       "      <td>2012.000000</td>\n",
       "      <td>12.000000</td>\n",
       "      <td>20.500000</td>\n",
       "      <td>24.240000</td>\n",
       "      <td>63.000000</td>\n",
       "      <td>13.000000</td>\n",
       "      <td>17.000000</td>\n",
       "      <td>115.000000</td>\n",
       "      <td>142.000000</td>\n",
       "    </tr>\n",
       "    <tr>\n",
       "      <th>75%</th>\n",
       "      <td>2012.000000</td>\n",
       "      <td>18.000000</td>\n",
       "      <td>27.060000</td>\n",
       "      <td>31.060000</td>\n",
       "      <td>78.000000</td>\n",
       "      <td>17.000000</td>\n",
       "      <td>48.000000</td>\n",
       "      <td>220.000000</td>\n",
       "      <td>281.000000</td>\n",
       "    </tr>\n",
       "    <tr>\n",
       "      <th>max</th>\n",
       "      <td>2012.000000</td>\n",
       "      <td>23.000000</td>\n",
       "      <td>41.000000</td>\n",
       "      <td>50.000000</td>\n",
       "      <td>100.000000</td>\n",
       "      <td>57.000000</td>\n",
       "      <td>367.000000</td>\n",
       "      <td>886.000000</td>\n",
       "      <td>977.000000</td>\n",
       "    </tr>\n",
       "  </tbody>\n",
       "</table>\n",
       "</div>"
      ],
      "text/plain": [
       "               year          hour    temprature  feel_temprature  \\\n",
       "count  17379.000000  17379.000000  17379.000000     17379.000000   \n",
       "mean    2011.502561     11.546752     20.376474        23.791274   \n",
       "std        0.500008      6.914405      7.894801         8.588798   \n",
       "min     2011.000000      0.000000      0.820000         0.760000   \n",
       "25%     2011.000000      6.000000     13.940000        16.660000   \n",
       "50%     2012.000000     12.000000     20.500000        24.240000   \n",
       "75%     2012.000000     18.000000     27.060000        31.060000   \n",
       "max     2012.000000     23.000000     41.000000        50.000000   \n",
       "\n",
       "           humidity    wind_speed   casual_user  registered_user    total_user  \n",
       "count  17379.000000  17379.000000  17379.000000     17379.000000  17379.000000  \n",
       "mean      62.802635     14.333069     35.676218       153.786869    189.463088  \n",
       "std       19.163309      6.655089     49.305030       151.357286    181.387599  \n",
       "min        8.000000      6.000000      0.000000         0.000000      1.000000  \n",
       "25%       48.000000      9.000000      4.000000        34.000000     40.000000  \n",
       "50%       63.000000     13.000000     17.000000       115.000000    142.000000  \n",
       "75%       78.000000     17.000000     48.000000       220.000000    281.000000  \n",
       "max      100.000000     57.000000    367.000000       886.000000    977.000000  "
      ]
     },
     "execution_count": 46,
     "metadata": {},
     "output_type": "execute_result"
    }
   ],
   "source": [
    "hour.describe()"
   ]
  },
  {
   "cell_type": "markdown",
   "id": "ae330834",
   "metadata": {},
   "source": [
    "Pada dataset hour didapatkan data dengan jumlah 17379 yang artinya data tersebut diperoleh selama 1739 jam. Didapatkan bahwa rata-rata user menggunakan bike sharing pada jam 12 kurang (tertera pada rata-rata hour 11,54). Diketahui rata-ratanya sebanyak 181,38 total user menggunakan bike sharing system perjamnya. "
   ]
  },
  {
   "cell_type": "code",
   "execution_count": 47,
   "id": "bd0ff065",
   "metadata": {},
   "outputs": [
    {
     "data": {
      "text/plain": [
       "clear         11413\n",
       "mist           4544\n",
       "light rain     1419\n",
       "heavy rain        3\n",
       "Name: weather_sit, dtype: int64"
      ]
     },
     "execution_count": 47,
     "metadata": {},
     "output_type": "execute_result"
    }
   ],
   "source": [
    "hour.weather_sit.value_counts()"
   ]
  },
  {
   "cell_type": "markdown",
   "id": "f847cef1",
   "metadata": {},
   "source": [
    "Disimpulkan bahwa `weather_sit` didominasi oleh clear sedangkan heavy rain dengan jumlah paling sedikit"
   ]
  },
  {
   "cell_type": "code",
   "execution_count": 48,
   "id": "77184dbb",
   "metadata": {},
   "outputs": [
    {
     "data": {
      "text/html": [
       "<div>\n",
       "<style scoped>\n",
       "    .dataframe tbody tr th:only-of-type {\n",
       "        vertical-align: middle;\n",
       "    }\n",
       "\n",
       "    .dataframe tbody tr th {\n",
       "        vertical-align: top;\n",
       "    }\n",
       "\n",
       "    .dataframe thead th {\n",
       "        text-align: right;\n",
       "    }\n",
       "</style>\n",
       "<table border=\"1\" class=\"dataframe\">\n",
       "  <thead>\n",
       "    <tr style=\"text-align: right;\">\n",
       "      <th></th>\n",
       "      <th>hour</th>\n",
       "      <th>casual_user</th>\n",
       "      <th>registered_user</th>\n",
       "      <th>total_user</th>\n",
       "    </tr>\n",
       "  </thead>\n",
       "  <tbody>\n",
       "    <tr>\n",
       "      <th>0</th>\n",
       "      <td>0</td>\n",
       "      <td>7375</td>\n",
       "      <td>31755</td>\n",
       "      <td>39130</td>\n",
       "    </tr>\n",
       "    <tr>\n",
       "      <th>1</th>\n",
       "      <td>1</td>\n",
       "      <td>4709</td>\n",
       "      <td>19455</td>\n",
       "      <td>24164</td>\n",
       "    </tr>\n",
       "    <tr>\n",
       "      <th>2</th>\n",
       "      <td>2</td>\n",
       "      <td>3412</td>\n",
       "      <td>12940</td>\n",
       "      <td>16352</td>\n",
       "    </tr>\n",
       "    <tr>\n",
       "      <th>3</th>\n",
       "      <td>3</td>\n",
       "      <td>1893</td>\n",
       "      <td>6281</td>\n",
       "      <td>8174</td>\n",
       "    </tr>\n",
       "    <tr>\n",
       "      <th>4</th>\n",
       "      <td>4</td>\n",
       "      <td>874</td>\n",
       "      <td>3554</td>\n",
       "      <td>4428</td>\n",
       "    </tr>\n",
       "    <tr>\n",
       "      <th>5</th>\n",
       "      <td>5</td>\n",
       "      <td>1012</td>\n",
       "      <td>13249</td>\n",
       "      <td>14261</td>\n",
       "    </tr>\n",
       "    <tr>\n",
       "      <th>6</th>\n",
       "      <td>6</td>\n",
       "      <td>3017</td>\n",
       "      <td>52115</td>\n",
       "      <td>55132</td>\n",
       "    </tr>\n",
       "    <tr>\n",
       "      <th>7</th>\n",
       "      <td>7</td>\n",
       "      <td>8037</td>\n",
       "      <td>146134</td>\n",
       "      <td>154171</td>\n",
       "    </tr>\n",
       "    <tr>\n",
       "      <th>8</th>\n",
       "      <td>8</td>\n",
       "      <td>15761</td>\n",
       "      <td>245240</td>\n",
       "      <td>261001</td>\n",
       "    </tr>\n",
       "    <tr>\n",
       "      <th>9</th>\n",
       "      <td>9</td>\n",
       "      <td>22458</td>\n",
       "      <td>136980</td>\n",
       "      <td>159438</td>\n",
       "    </tr>\n",
       "    <tr>\n",
       "      <th>10</th>\n",
       "      <td>10</td>\n",
       "      <td>33789</td>\n",
       "      <td>92468</td>\n",
       "      <td>126257</td>\n",
       "    </tr>\n",
       "    <tr>\n",
       "      <th>11</th>\n",
       "      <td>11</td>\n",
       "      <td>43286</td>\n",
       "      <td>108034</td>\n",
       "      <td>151320</td>\n",
       "    </tr>\n",
       "    <tr>\n",
       "      <th>12</th>\n",
       "      <td>12</td>\n",
       "      <td>49718</td>\n",
       "      <td>134696</td>\n",
       "      <td>184414</td>\n",
       "    </tr>\n",
       "    <tr>\n",
       "      <th>13</th>\n",
       "      <td>13</td>\n",
       "      <td>52713</td>\n",
       "      <td>132206</td>\n",
       "      <td>184919</td>\n",
       "    </tr>\n",
       "    <tr>\n",
       "      <th>14</th>\n",
       "      <td>14</td>\n",
       "      <td>55089</td>\n",
       "      <td>120563</td>\n",
       "      <td>175652</td>\n",
       "    </tr>\n",
       "    <tr>\n",
       "      <th>15</th>\n",
       "      <td>15</td>\n",
       "      <td>54606</td>\n",
       "      <td>128543</td>\n",
       "      <td>183149</td>\n",
       "    </tr>\n",
       "    <tr>\n",
       "      <th>16</th>\n",
       "      <td>16</td>\n",
       "      <td>53834</td>\n",
       "      <td>173914</td>\n",
       "      <td>227748</td>\n",
       "    </tr>\n",
       "    <tr>\n",
       "      <th>17</th>\n",
       "      <td>17</td>\n",
       "      <td>54220</td>\n",
       "      <td>282640</td>\n",
       "      <td>336860</td>\n",
       "    </tr>\n",
       "    <tr>\n",
       "      <th>18</th>\n",
       "      <td>18</td>\n",
       "      <td>44496</td>\n",
       "      <td>265276</td>\n",
       "      <td>309772</td>\n",
       "    </tr>\n",
       "    <tr>\n",
       "      <th>19</th>\n",
       "      <td>19</td>\n",
       "      <td>35505</td>\n",
       "      <td>191284</td>\n",
       "      <td>226789</td>\n",
       "    </tr>\n",
       "    <tr>\n",
       "      <th>20</th>\n",
       "      <td>20</td>\n",
       "      <td>26378</td>\n",
       "      <td>138172</td>\n",
       "      <td>164550</td>\n",
       "    </tr>\n",
       "    <tr>\n",
       "      <th>21</th>\n",
       "      <td>21</td>\n",
       "      <td>20570</td>\n",
       "      <td>104875</td>\n",
       "      <td>125445</td>\n",
       "    </tr>\n",
       "    <tr>\n",
       "      <th>22</th>\n",
       "      <td>22</td>\n",
       "      <td>16200</td>\n",
       "      <td>79412</td>\n",
       "      <td>95612</td>\n",
       "    </tr>\n",
       "    <tr>\n",
       "      <th>23</th>\n",
       "      <td>23</td>\n",
       "      <td>11065</td>\n",
       "      <td>52876</td>\n",
       "      <td>63941</td>\n",
       "    </tr>\n",
       "  </tbody>\n",
       "</table>\n",
       "</div>"
      ],
      "text/plain": [
       "    hour  casual_user  registered_user  total_user\n",
       "0      0         7375            31755       39130\n",
       "1      1         4709            19455       24164\n",
       "2      2         3412            12940       16352\n",
       "3      3         1893             6281        8174\n",
       "4      4          874             3554        4428\n",
       "5      5         1012            13249       14261\n",
       "6      6         3017            52115       55132\n",
       "7      7         8037           146134      154171\n",
       "8      8        15761           245240      261001\n",
       "9      9        22458           136980      159438\n",
       "10    10        33789            92468      126257\n",
       "11    11        43286           108034      151320\n",
       "12    12        49718           134696      184414\n",
       "13    13        52713           132206      184919\n",
       "14    14        55089           120563      175652\n",
       "15    15        54606           128543      183149\n",
       "16    16        53834           173914      227748\n",
       "17    17        54220           282640      336860\n",
       "18    18        44496           265276      309772\n",
       "19    19        35505           191284      226789\n",
       "20    20        26378           138172      164550\n",
       "21    21        20570           104875      125445\n",
       "22    22        16200            79412       95612\n",
       "23    23        11065            52876       63941"
      ]
     },
     "execution_count": 48,
     "metadata": {},
     "output_type": "execute_result"
    }
   ],
   "source": [
    "work_vs_day = hour.groupby(by=['hour']).agg({\n",
    "    'casual_user': 'sum',\n",
    "    'registered_user': 'sum',\n",
    "    'total_user': 'sum'\n",
    "}).sort_values(by='hour', ascending=True).reset_index()\n",
    "\n",
    "work_vs_day"
   ]
  },
  {
   "cell_type": "markdown",
   "id": "9fb9e69c",
   "metadata": {},
   "source": [
    "Berikut merupakan rata-rata user pada tiap jamnya"
   ]
  },
  {
   "cell_type": "code",
   "execution_count": 49,
   "id": "d943a1f6",
   "metadata": {},
   "outputs": [
    {
     "data": {
      "text/plain": [
       "fall        4496\n",
       "summer      4409\n",
       "springer    4242\n",
       "winter      4232\n",
       "Name: season, dtype: int64"
      ]
     },
     "execution_count": 49,
     "metadata": {},
     "output_type": "execute_result"
    }
   ],
   "source": [
    "hour.season.value_counts()"
   ]
  },
  {
   "cell_type": "code",
   "execution_count": 50,
   "id": "ce06f200",
   "metadata": {},
   "outputs": [
    {
     "data": {
      "text/plain": [
       "<Axes: >"
      ]
     },
     "execution_count": 50,
     "metadata": {},
     "output_type": "execute_result"
    },
    {
     "data": {
      "image/png": "[encoded data removed]",
      "text/plain": [
       "<Figure size 640x480 with 2 Axes>"
      ]
     },
     "metadata": {},
     "output_type": "display_data"
    }
   ],
   "source": [
    "corr = hour[['hour', 'temprature', 'feel_temprature', 'humidity', 'wind_speed', 'total_user']].corr()\n",
    "sns.heatmap(data=corr, annot=True, cmap='crest')"
   ]
  },
  {
   "cell_type": "markdown",
   "id": "28806c01",
   "metadata": {},
   "source": [
    "Diketahui bahwa korelasi `total_user` dengan `column hour, temprature, dan feel_temparature` mendapatkan value **positif**, sehingga memiliki korelasi yang kuat. \n",
    "\n",
    "Column `wind_speed` walaupun positif nilainya cukup kecil, terdapat juga column `humidity` yang bervalue **negatif** terhadap `total_user` sehingga column `wind_speed` dan `humidity` **tidak memiliki korelasi** karena nilainya mendekati nol."
   ]
  },
  {
   "cell_type": "markdown",
   "id": "73968d8e",
   "metadata": {},
   "source": [
    "## Visualization & Explanatory Analysis"
   ]
  },
  {
   "cell_type": "markdown",
   "id": "5aaa652a",
   "metadata": {},
   "source": [
    "### 1. Apakah kondisi musim dan cuaca mempengaruhi jumlah user?"
   ]
  },
  {
   "cell_type": "code",
   "execution_count": 192,
   "id": "1eda8725",
   "metadata": {},
   "outputs": [],
   "source": [
    "season_user = hour.groupby('season').agg({\n",
    "    'total_user': 'sum'\n",
    "}).reset_index().sort_values(by='total_user', ascending=False)"
   ]
  },
  {
   "cell_type": "code",
   "execution_count": 180,
   "id": "d2fd1948",
   "metadata": {},
   "outputs": [
    {
     "data": {
      "image/png": "[encoded data removed]",
      "text/plain": [
       "<Figure size 1000x500 with 1 Axes>"
      ]
     },
     "metadata": {},
     "output_type": "display_data"
    }
   ],
   "source": [
    "plt.figure(figsize=(10,5))\n",
    "plt.title('Total User by Season', size=20)\n",
    "sns.set(font_scale=0.8)\n",
    "graph = sns.barplot(data=season_user, x='total_user', y='season', orient='h', palette='mako')\n",
    "for i in graph.containers:\n",
    "    graph.bar_label(i, fmt='%d', label_type='center', color='white')\n",
    "plt.show()"
   ]
  },
  {
   "cell_type": "markdown",
   "id": "7394c9c4",
   "metadata": {},
   "source": [
    "\n",
    "Berdasarkan plot diatas disimpulkan bahwa kebanyakan user menggunakan sepeda ketika musim gugur/fall sebanyak 1 juta lebih user, diikuti oleh*musim panas/summer dengan 900rb user dan musim dingin/winter dengan 800rb user, serta musim dengan jumlah user paling sedikit yaitu musim gugur/springer dengan 470rb user."
   ]
  },
  {
   "cell_type": "markdown",
   "id": "152622f8",
   "metadata": {},
   "source": [
    "--------------------------------------------------"
   ]
  },
  {
   "cell_type": "code",
   "execution_count": 191,
   "id": "fe1eec88",
   "metadata": {},
   "outputs": [],
   "source": [
    "weather_user = hour.groupby('weather_sit').agg({\n",
    "    'total_user': 'sum'\n",
    "}).reset_index().sort_values(by='total_user', ascending=False)"
   ]
  },
  {
   "cell_type": "code",
   "execution_count": 188,
   "id": "6a22b3ed",
   "metadata": {},
   "outputs": [
    {
     "data": {
      "image/png": "[encoded data removed]",
      "text/plain": [
       "<Figure size 1000x500 with 1 Axes>"
      ]
     },
     "metadata": {},
     "output_type": "display_data"
    }
   ],
   "source": [
    "plt.figure(figsize=(10,5))\n",
    "plt.title('Total User by Season', size=20)\n",
    "sns.set(font_scale=0.8)\n",
    "graph = sns.barplot(data=weather_user, x='total_user', y='weather_sit', orient='h', palette='mako')\n",
    "for i in graph.containers:\n",
    "    graph.bar_label(i, fmt='%d', label_type='center', color='white')\n",
    "plt.show()"
   ]
  },
  {
   "cell_type": "markdown",
   "id": "c949898a",
   "metadata": {},
   "source": [
    "\n",
    "Disimpulkan bahwa user pesepeda sangat menyukai bersepeda ketika cuaca sedang cerah/clear, sehingga melalui plot tersebut sangat mendominasi. "
   ]
  },
  {
   "cell_type": "markdown",
   "id": "8031d588",
   "metadata": {},
   "source": [
    "--------------------------------------------------"
   ]
  },
  {
   "cell_type": "markdown",
   "id": "7e91f7d8",
   "metadata": {},
   "source": [
    "### 2. Bagaimana perkembangan jumlah user berdasarkan bulannya?"
   ]
  },
  {
   "cell_type": "code",
   "execution_count": 190,
   "id": "5dd252d8",
   "metadata": {},
   "outputs": [],
   "source": [
    "month_user = hour.groupby('month').agg({\n",
    "    'registered_user': 'sum',\n",
    "    'casual_user': 'sum',\n",
    "    'total_user': 'sum'\n",
    "}).reset_index()\n",
    "\n",
    "month_user['index'] = [3,7,11,1,0,6,5,2,4,10,9,8]\n",
    "month_user = month_user.sort_values(by='index')"
   ]
  },
  {
   "cell_type": "code",
   "execution_count": 178,
   "id": "9125e84b",
   "metadata": {},
   "outputs": [
    {
     "data": {
      "image/png": "[encoded data removed]",
      "text/plain": [
       "<Figure size 800x500 with 1 Axes>"
      ]
     },
     "metadata": {},
     "output_type": "display_data"
    }
   ],
   "source": [
    "plt.figure(figsize=(8,5))\n",
    "plt.title('Casual and Registered User by Month', size=20)\n",
    "sns.lineplot(data=month_user, x='month', y='registered_user', marker='o', label='Register User')\n",
    "sns.lineplot(data=month_user, x='month', y='casual_user', marker='o', label='Casual User')\n",
    "plt.legend()\n",
    "plt.show()"
   ]
  },
  {
   "cell_type": "markdown",
   "id": "f8927f8e",
   "metadata": {},
   "source": [
    "\n",
    "Melalui plot tersebut, diketahui bahwa perbedaan jumlah user antara yang telah teregistrasi dan casual cukup jauh, namun jumlah register user cenderung meningkat sepanjang tahun, berbeda dengan casual user yang cenderung menurun menjelang akhir tahun.\n",
    "\n",
    "Saya mengasumsikan bahwa casual user mendaftar dalam bike sharing sehingga jumlah user yang telah teregistrasi meningkat."
   ]
  },
  {
   "cell_type": "markdown",
   "id": "a50fc142",
   "metadata": {},
   "source": [
    "--------------------------------------------------"
   ]
  },
  {
   "cell_type": "markdown",
   "id": "9d924b22",
   "metadata": {},
   "source": [
    "### 3. Pada jam berapa user bike sharing system paling sering digunakan?"
   ]
  },
  {
   "cell_type": "code",
   "execution_count": 114,
   "id": "97316d6c",
   "metadata": {},
   "outputs": [],
   "source": [
    "hour_user = hour.groupby('hour').agg({\n",
    "    'total_user': 'sum',\n",
    "}).reset_index().sort_values(by='hour')"
   ]
  },
  {
   "cell_type": "code",
   "execution_count": 177,
   "id": "e6e569e8",
   "metadata": {
    "scrolled": false
   },
   "outputs": [
    {
     "data": {
      "image/png": "[encoded data removed]",
      "text/plain": [
       "<Figure size 800x500 with 1 Axes>"
      ]
     },
     "metadata": {},
     "output_type": "display_data"
    }
   ],
   "source": [
    "plt.figure(figsize=(8,5))\n",
    "plt.title('Total User by Hour', size=20)\n",
    "sns.lineplot(data=hour_user, x='hour', y='total_user', marker='o')\n",
    "plt.show()"
   ]
  },
  {
   "cell_type": "markdown",
   "id": "55f5f397",
   "metadata": {},
   "source": [
    "\n",
    "Diketahui bahwa jumlah user meningkat setelah melewati jam 05.00 dan menurun setelah mendekati jam 20.00, artinya user lebih menggunakan sepeda ketika siang hari untuk aktivitasnya."
   ]
  },
  {
   "cell_type": "markdown",
   "id": "b9a5cfaa",
   "metadata": {},
   "source": [
    "--------------------------------------------------"
   ]
  },
  {
   "cell_type": "markdown",
   "id": "8f088f4e",
   "metadata": {},
   "source": [
    "## Kesimpulan"
   ]
  },
  {
   "cell_type": "code",
   "execution_count": 189,
   "id": "aaaa9e85",
   "metadata": {},
   "outputs": [],
   "source": [
    "hour_temp = hour.groupby('month').agg({\n",
    "    'temprature': 'mean',\n",
    "    'total_user': 'sum'\n",
    "}).reset_index().sort_values(by='month')\n",
    "\n",
    "hour_temp['index'] = [3,7,11,1,0,6,5,2,4,10,9,8]\n",
    "hour_temp = hour_temp.sort_values(by='index')"
   ]
  },
  {
   "cell_type": "code",
   "execution_count": 195,
   "id": "23099744",
   "metadata": {},
   "outputs": [
    {
     "data": {
      "image/png": "[encoded data removed]",
      "text/plain": [
       "<Figure size 800x500 with 2 Axes>"
      ]
     },
     "metadata": {},
     "output_type": "display_data"
    }
   ],
   "source": [
    "ax = hour_temp.plot.bar(y='total_user',x='month', ylabel='Total User', figsize=(8, 5))\n",
    "hour_temp.plot(y='temprature', c='k', ax=ax, use_index=False, secondary_y=True, mark_right=False)\n",
    "plt.title('Total User by Average Temprature and Month', size=20)\n",
    "ax.right_ax.set_ylabel('Temprature');"
   ]
  },
  {
   "cell_type": "markdown",
   "id": "d5f2339e",
   "metadata": {},
   "source": [
    "### Analysis\n",
    "\n",
    "Diketahui bahwa selama sepanjang tahun pengguna bike sharing system menyukai bersepeda ketika di siang hari dengan temprature yang hangat, dengan begitu jumlah userpun meningkat. Dapat dilihat diantara bulan maret hingga september jumlah user sangatlah tinggi, penyebabnya adalah meningkatnya temprature yang melebihi 20°C."
   ]
  }
 ],
 "metadata": {
  "kernelspec": {
   "display_name": "Python 3 (ipykernel)",
   "language": "python",
   "name": "python3"
  },
  "language_info": {
   "codemirror_mode": {
    "name": "ipython",
    "version": 3
   },
   "file_extension": ".py",
   "mimetype": "text/x-python",
   "name": "python",
   "nbconvert_exporter": "python",
   "pygments_lexer": "ipython3",
   "version": "3.10.9"
  }
 },
 "nbformat": 4,
 "nbformat_minor": 5
}
