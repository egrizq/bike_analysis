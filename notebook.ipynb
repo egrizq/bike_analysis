{
 "cells": [
  {
   "cell_type": "markdown",
   "id": "0a6b6096",
   "metadata": {},
   "source": [
    "# Proyek Analisis Data: Bike-sharing-dataset\n",
    "- Nama: Muhammad Rizq Ramadhan\n",
    "- Email: XXXXXXXXX\n",
    "- Id Dicoding: XXXXXXX"
   ]
  },
  {
   "cell_type": "markdown",
   "id": "a9af9333",
   "metadata": {},
   "source": [
    "## Menentukan Pertanyaan Bisnis"
   ]
  },
  {
   "cell_type": "markdown",
   "id": "fcfe3809",
   "metadata": {},
   "source": [
    "1. Apakah kondisi musim dan cuaca mempengaruhi jumlah user? \n",
    "2.  Apakah waktu kerja meningkatkan jumlah user? \n",
    "3. Pada jam berapa user bike sharing system paling sering dan paling sedikit digunakan? "
   ]
  },
  {
   "cell_type": "markdown",
   "id": "3d07c8fd",
   "metadata": {},
   "source": [
    "## Menyiapkan semua library yang dibutuhkan"
   ]
  },
  {
   "cell_type": "code",
   "execution_count": 1,
   "id": "6ba55326",
   "metadata": {},
   "outputs": [],
   "source": [
    "import numpy as np\n",
    "import pandas as pd  \n",
    "import matplotlib.pyplot as plt\n",
    "import seaborn as sns\n",
    "plt.style.use('ggplot')"
   ]
  },
  {
   "cell_type": "markdown",
   "id": "9a0fece5",
   "metadata": {},
   "source": [
    "## Data Wrangling"
   ]
  },
  {
   "cell_type": "markdown",
   "id": "cc2972f6",
   "metadata": {},
   "source": [
    "### Gathering Data"
   ]
  },
  {
   "cell_type": "code",
   "execution_count": 2,
   "id": "f7af8863",
   "metadata": {},
   "outputs": [],
   "source": [
    "day = pd.read_csv('data/day.csv')"
   ]
  },
  {
   "cell_type": "code",
   "execution_count": 3,
   "id": "5441eaaa",
   "metadata": {},
   "outputs": [
    {
     "data": {
      "text/html": [
       "<div>\n",
       "<style scoped>\n",
       "    .dataframe tbody tr th:only-of-type {\n",
       "        vertical-align: middle;\n",
       "    }\n",
       "\n",
       "    .dataframe tbody tr th {\n",
       "        vertical-align: top;\n",
       "    }\n",
       "\n",
       "    .dataframe thead th {\n",
       "        text-align: right;\n",
       "    }\n",
       "</style>\n",
       "<table border=\"1\" class=\"dataframe\">\n",
       "  <thead>\n",
       "    <tr style=\"text-align: right;\">\n",
       "      <th></th>\n",
       "      <th>instant</th>\n",
       "      <th>dteday</th>\n",
       "      <th>season</th>\n",
       "      <th>yr</th>\n",
       "      <th>mnth</th>\n",
       "      <th>holiday</th>\n",
       "      <th>weekday</th>\n",
       "      <th>workingday</th>\n",
       "      <th>weathersit</th>\n",
       "      <th>temp</th>\n",
       "      <th>atemp</th>\n",
       "      <th>hum</th>\n",
       "      <th>windspeed</th>\n",
       "      <th>casual</th>\n",
       "      <th>registered</th>\n",
       "      <th>cnt</th>\n",
       "    </tr>\n",
       "  </thead>\n",
       "  <tbody>\n",
       "    <tr>\n",
       "      <th>0</th>\n",
       "      <td>1</td>\n",
       "      <td>2011-01-01</td>\n",
       "      <td>1</td>\n",
       "      <td>0</td>\n",
       "      <td>1</td>\n",
       "      <td>0</td>\n",
       "      <td>6</td>\n",
       "      <td>0</td>\n",
       "      <td>2</td>\n",
       "      <td>0.344167</td>\n",
       "      <td>0.363625</td>\n",
       "      <td>0.805833</td>\n",
       "      <td>0.160446</td>\n",
       "      <td>331</td>\n",
       "      <td>654</td>\n",
       "      <td>985</td>\n",
       "    </tr>\n",
       "    <tr>\n",
       "      <th>1</th>\n",
       "      <td>2</td>\n",
       "      <td>2011-01-02</td>\n",
       "      <td>1</td>\n",
       "      <td>0</td>\n",
       "      <td>1</td>\n",
       "      <td>0</td>\n",
       "      <td>0</td>\n",
       "      <td>0</td>\n",
       "      <td>2</td>\n",
       "      <td>0.363478</td>\n",
       "      <td>0.353739</td>\n",
       "      <td>0.696087</td>\n",
       "      <td>0.248539</td>\n",
       "      <td>131</td>\n",
       "      <td>670</td>\n",
       "      <td>801</td>\n",
       "    </tr>\n",
       "    <tr>\n",
       "      <th>2</th>\n",
       "      <td>3</td>\n",
       "      <td>2011-01-03</td>\n",
       "      <td>1</td>\n",
       "      <td>0</td>\n",
       "      <td>1</td>\n",
       "      <td>0</td>\n",
       "      <td>1</td>\n",
       "      <td>1</td>\n",
       "      <td>1</td>\n",
       "      <td>0.196364</td>\n",
       "      <td>0.189405</td>\n",
       "      <td>0.437273</td>\n",
       "      <td>0.248309</td>\n",
       "      <td>120</td>\n",
       "      <td>1229</td>\n",
       "      <td>1349</td>\n",
       "    </tr>\n",
       "    <tr>\n",
       "      <th>3</th>\n",
       "      <td>4</td>\n",
       "      <td>2011-01-04</td>\n",
       "      <td>1</td>\n",
       "      <td>0</td>\n",
       "      <td>1</td>\n",
       "      <td>0</td>\n",
       "      <td>2</td>\n",
       "      <td>1</td>\n",
       "      <td>1</td>\n",
       "      <td>0.200000</td>\n",
       "      <td>0.212122</td>\n",
       "      <td>0.590435</td>\n",
       "      <td>0.160296</td>\n",
       "      <td>108</td>\n",
       "      <td>1454</td>\n",
       "      <td>1562</td>\n",
       "    </tr>\n",
       "    <tr>\n",
       "      <th>4</th>\n",
       "      <td>5</td>\n",
       "      <td>2011-01-05</td>\n",
       "      <td>1</td>\n",
       "      <td>0</td>\n",
       "      <td>1</td>\n",
       "      <td>0</td>\n",
       "      <td>3</td>\n",
       "      <td>1</td>\n",
       "      <td>1</td>\n",
       "      <td>0.226957</td>\n",
       "      <td>0.229270</td>\n",
       "      <td>0.436957</td>\n",
       "      <td>0.186900</td>\n",
       "      <td>82</td>\n",
       "      <td>1518</td>\n",
       "      <td>1600</td>\n",
       "    </tr>\n",
       "  </tbody>\n",
       "</table>\n",
       "</div>"
      ],
      "text/plain": [
       "   instant      dteday  season  yr  mnth  holiday  weekday  workingday  \\\n",
       "0        1  2011-01-01       1   0     1        0        6           0   \n",
       "1        2  2011-01-02       1   0     1        0        0           0   \n",
       "2        3  2011-01-03       1   0     1        0        1           1   \n",
       "3        4  2011-01-04       1   0     1        0        2           1   \n",
       "4        5  2011-01-05       1   0     1        0        3           1   \n",
       "\n",
       "   weathersit      temp     atemp       hum  windspeed  casual  registered  \\\n",
       "0           2  0.344167  0.363625  0.805833   0.160446     331         654   \n",
       "1           2  0.363478  0.353739  0.696087   0.248539     131         670   \n",
       "2           1  0.196364  0.189405  0.437273   0.248309     120        1229   \n",
       "3           1  0.200000  0.212122  0.590435   0.160296     108        1454   \n",
       "4           1  0.226957  0.229270  0.436957   0.186900      82        1518   \n",
       "\n",
       "    cnt  \n",
       "0   985  \n",
       "1   801  \n",
       "2  1349  \n",
       "3  1562  \n",
       "4  1600  "
      ]
     },
     "execution_count": 3,
     "metadata": {},
     "output_type": "execute_result"
    }
   ],
   "source": [
    "day.head()"
   ]
  },
  {
   "cell_type": "code",
   "execution_count": 4,
   "id": "2956f2db",
   "metadata": {},
   "outputs": [],
   "source": [
    "hour = pd.read_csv('data/hour.csv')"
   ]
  },
  {
   "cell_type": "code",
   "execution_count": 5,
   "id": "ecafa086",
   "metadata": {
    "scrolled": true
   },
   "outputs": [
    {
     "data": {
      "text/html": [
       "<div>\n",
       "<style scoped>\n",
       "    .dataframe tbody tr th:only-of-type {\n",
       "        vertical-align: middle;\n",
       "    }\n",
       "\n",
       "    .dataframe tbody tr th {\n",
       "        vertical-align: top;\n",
       "    }\n",
       "\n",
       "    .dataframe thead th {\n",
       "        text-align: right;\n",
       "    }\n",
       "</style>\n",
       "<table border=\"1\" class=\"dataframe\">\n",
       "  <thead>\n",
       "    <tr style=\"text-align: right;\">\n",
       "      <th></th>\n",
       "      <th>instant</th>\n",
       "      <th>dteday</th>\n",
       "      <th>season</th>\n",
       "      <th>yr</th>\n",
       "      <th>mnth</th>\n",
       "      <th>hr</th>\n",
       "      <th>holiday</th>\n",
       "      <th>weekday</th>\n",
       "      <th>workingday</th>\n",
       "      <th>weathersit</th>\n",
       "      <th>temp</th>\n",
       "      <th>atemp</th>\n",
       "      <th>hum</th>\n",
       "      <th>windspeed</th>\n",
       "      <th>casual</th>\n",
       "      <th>registered</th>\n",
       "      <th>cnt</th>\n",
       "    </tr>\n",
       "  </thead>\n",
       "  <tbody>\n",
       "    <tr>\n",
       "      <th>0</th>\n",
       "      <td>1</td>\n",
       "      <td>2011-01-01</td>\n",
       "      <td>1</td>\n",
       "      <td>0</td>\n",
       "      <td>1</td>\n",
       "      <td>0</td>\n",
       "      <td>0</td>\n",
       "      <td>6</td>\n",
       "      <td>0</td>\n",
       "      <td>1</td>\n",
       "      <td>0.24</td>\n",
       "      <td>0.2879</td>\n",
       "      <td>0.81</td>\n",
       "      <td>0.0</td>\n",
       "      <td>3</td>\n",
       "      <td>13</td>\n",
       "      <td>16</td>\n",
       "    </tr>\n",
       "    <tr>\n",
       "      <th>1</th>\n",
       "      <td>2</td>\n",
       "      <td>2011-01-01</td>\n",
       "      <td>1</td>\n",
       "      <td>0</td>\n",
       "      <td>1</td>\n",
       "      <td>1</td>\n",
       "      <td>0</td>\n",
       "      <td>6</td>\n",
       "      <td>0</td>\n",
       "      <td>1</td>\n",
       "      <td>0.22</td>\n",
       "      <td>0.2727</td>\n",
       "      <td>0.80</td>\n",
       "      <td>0.0</td>\n",
       "      <td>8</td>\n",
       "      <td>32</td>\n",
       "      <td>40</td>\n",
       "    </tr>\n",
       "    <tr>\n",
       "      <th>2</th>\n",
       "      <td>3</td>\n",
       "      <td>2011-01-01</td>\n",
       "      <td>1</td>\n",
       "      <td>0</td>\n",
       "      <td>1</td>\n",
       "      <td>2</td>\n",
       "      <td>0</td>\n",
       "      <td>6</td>\n",
       "      <td>0</td>\n",
       "      <td>1</td>\n",
       "      <td>0.22</td>\n",
       "      <td>0.2727</td>\n",
       "      <td>0.80</td>\n",
       "      <td>0.0</td>\n",
       "      <td>5</td>\n",
       "      <td>27</td>\n",
       "      <td>32</td>\n",
       "    </tr>\n",
       "    <tr>\n",
       "      <th>3</th>\n",
       "      <td>4</td>\n",
       "      <td>2011-01-01</td>\n",
       "      <td>1</td>\n",
       "      <td>0</td>\n",
       "      <td>1</td>\n",
       "      <td>3</td>\n",
       "      <td>0</td>\n",
       "      <td>6</td>\n",
       "      <td>0</td>\n",
       "      <td>1</td>\n",
       "      <td>0.24</td>\n",
       "      <td>0.2879</td>\n",
       "      <td>0.75</td>\n",
       "      <td>0.0</td>\n",
       "      <td>3</td>\n",
       "      <td>10</td>\n",
       "      <td>13</td>\n",
       "    </tr>\n",
       "    <tr>\n",
       "      <th>4</th>\n",
       "      <td>5</td>\n",
       "      <td>2011-01-01</td>\n",
       "      <td>1</td>\n",
       "      <td>0</td>\n",
       "      <td>1</td>\n",
       "      <td>4</td>\n",
       "      <td>0</td>\n",
       "      <td>6</td>\n",
       "      <td>0</td>\n",
       "      <td>1</td>\n",
       "      <td>0.24</td>\n",
       "      <td>0.2879</td>\n",
       "      <td>0.75</td>\n",
       "      <td>0.0</td>\n",
       "      <td>0</td>\n",
       "      <td>1</td>\n",
       "      <td>1</td>\n",
       "    </tr>\n",
       "  </tbody>\n",
       "</table>\n",
       "</div>"
      ],
      "text/plain": [
       "   instant      dteday  season  yr  mnth  hr  holiday  weekday  workingday  \\\n",
       "0        1  2011-01-01       1   0     1   0        0        6           0   \n",
       "1        2  2011-01-01       1   0     1   1        0        6           0   \n",
       "2        3  2011-01-01       1   0     1   2        0        6           0   \n",
       "3        4  2011-01-01       1   0     1   3        0        6           0   \n",
       "4        5  2011-01-01       1   0     1   4        0        6           0   \n",
       "\n",
       "   weathersit  temp   atemp   hum  windspeed  casual  registered  cnt  \n",
       "0           1  0.24  0.2879  0.81        0.0       3          13   16  \n",
       "1           1  0.22  0.2727  0.80        0.0       8          32   40  \n",
       "2           1  0.22  0.2727  0.80        0.0       5          27   32  \n",
       "3           1  0.24  0.2879  0.75        0.0       3          10   13  \n",
       "4           1  0.24  0.2879  0.75        0.0       0           1    1  "
      ]
     },
     "execution_count": 5,
     "metadata": {},
     "output_type": "execute_result"
    }
   ],
   "source": [
    "hour.head()"
   ]
  },
  {
   "cell_type": "markdown",
   "id": "32a3fde1",
   "metadata": {},
   "source": [
    "### Dataset characteristics\n",
    "\n",
    "Berikut merupakan keterangan dari masing-masing kolom yang terdapat pada **day.csv** dan **hour.csv**\n",
    "    \n",
    "    - instant: record index\n",
    "\t- dteday : date\n",
    "\t- season : season (1:springer, 2:summer, 3:fall, 4:winter)\n",
    "\t- yr : year (0: 2011, 1:2012)\n",
    "\t- mnth : month ( 1 to 12)\n",
    "\t- hr : hour (0 to 23)\n",
    "\t- holiday : weather day is holiday or not (extracted from http://dchr.dc.gov/page/holiday-schedule)\n",
    "\t- weekday : day of the week\n",
    "\t- workingday : if day is neither weekend nor holiday is 1, otherwise is 0.\n",
    "\t+ weathersit : \n",
    "\t\t- 1: Clear, Few clouds, Partly cloudy, Partly cloudy\n",
    "\t\t- 2: Mist + Cloudy, Mist + Broken clouds, Mist + Few clouds, Mist\n",
    "\t\t- 3: Light Snow, Light Rain + Thunderstorm + Scattered clouds, Light Rain + Scattered clouds\n",
    "\t\t- 4: Heavy Rain + Ice Pallets + Thunderstorm + Mist, Snow + Fog\n",
    "\t- temp : Normalized temperature in Celsius. The values are divided to 41 (max)\n",
    "\t- atemp: Normalized feeling temperature in Celsius. The values are divided to 50 (max)\n",
    "\t- hum: Normalized humidity. The values are divided to 100 (max)\n",
    "\t- windspeed: Normalized wind speed. The values are divided to 67 (max)\n",
    "\t- casual: count of casual users\n",
    "\t- registered: count of registered users\n",
    "\t- cnt: count of total rental bikes including both casual and registered\n",
    "\n",
    "Dataset **day.csv** dan **hour.csv** diambil dari Capital Bikeshare system di kota Washington D.C., USA \n",
    "\n",
    "1. **day.csv** merupakan dataset yang menampung bike sharing selama 731 hari\n",
    "2. **hour.csv** merupakan dataset yang menampung bike sharing selama 17379 jam\n",
    "3. **day** merupakan variable yang menampung dataset **day.csv**\n",
    "4. **hour** merupakann variable yang menampung dataset **hour.csv**\n",
    "\n",
    "\n",
    "Pada proses cleaning data nantinya saya akan memanipulasi beberapa kolom yang sebelumnya angka menjadi keterangan yang sesuai, sehingga dataset lebih mudah dipahami, dalam menjelaskan setiap tahapan analisis data dataset **day** dan **hour** memiliki karakteristik column yang hampir sama, sehingga **saya akan bergantian dalam melakukan analisis data**. "
   ]
  },
  {
   "cell_type": "markdown",
   "id": "00ed1abe",
   "metadata": {},
   "source": [
    "### Assesing data"
   ]
  },
  {
   "cell_type": "markdown",
   "id": "e92ffb71",
   "metadata": {},
   "source": [
    "### DAY"
   ]
  },
  {
   "cell_type": "code",
   "execution_count": 6,
   "id": "69d32c44",
   "metadata": {
    "scrolled": false
   },
   "outputs": [
    {
     "name": "stdout",
     "output_type": "stream",
     "text": [
      "<class 'pandas.core.frame.DataFrame'>\n",
      "RangeIndex: 731 entries, 0 to 730\n",
      "Data columns (total 16 columns):\n",
      " #   Column      Non-Null Count  Dtype  \n",
      "---  ------      --------------  -----  \n",
      " 0   instant     731 non-null    int64  \n",
      " 1   dteday      731 non-null    object \n",
      " 2   season      731 non-null    int64  \n",
      " 3   yr          731 non-null    int64  \n",
      " 4   mnth        731 non-null    int64  \n",
      " 5   holiday     731 non-null    int64  \n",
      " 6   weekday     731 non-null    int64  \n",
      " 7   workingday  731 non-null    int64  \n",
      " 8   weathersit  731 non-null    int64  \n",
      " 9   temp        731 non-null    float64\n",
      " 10  atemp       731 non-null    float64\n",
      " 11  hum         731 non-null    float64\n",
      " 12  windspeed   731 non-null    float64\n",
      " 13  casual      731 non-null    int64  \n",
      " 14  registered  731 non-null    int64  \n",
      " 15  cnt         731 non-null    int64  \n",
      "dtypes: float64(4), int64(11), object(1)\n",
      "memory usage: 91.5+ KB\n"
     ]
    }
   ],
   "source": [
    "day.info()"
   ]
  },
  {
   "cell_type": "markdown",
   "id": "a4579b6b",
   "metadata": {},
   "source": [
    "### HOUR"
   ]
  },
  {
   "cell_type": "code",
   "execution_count": 7,
   "id": "99291e1a",
   "metadata": {},
   "outputs": [
    {
     "name": "stdout",
     "output_type": "stream",
     "text": [
      "<class 'pandas.core.frame.DataFrame'>\n",
      "RangeIndex: 17379 entries, 0 to 17378\n",
      "Data columns (total 17 columns):\n",
      " #   Column      Non-Null Count  Dtype  \n",
      "---  ------      --------------  -----  \n",
      " 0   instant     17379 non-null  int64  \n",
      " 1   dteday      17379 non-null  object \n",
      " 2   season      17379 non-null  int64  \n",
      " 3   yr          17379 non-null  int64  \n",
      " 4   mnth        17379 non-null  int64  \n",
      " 5   hr          17379 non-null  int64  \n",
      " 6   holiday     17379 non-null  int64  \n",
      " 7   weekday     17379 non-null  int64  \n",
      " 8   workingday  17379 non-null  int64  \n",
      " 9   weathersit  17379 non-null  int64  \n",
      " 10  temp        17379 non-null  float64\n",
      " 11  atemp       17379 non-null  float64\n",
      " 12  hum         17379 non-null  float64\n",
      " 13  windspeed   17379 non-null  float64\n",
      " 14  casual      17379 non-null  int64  \n",
      " 15  registered  17379 non-null  int64  \n",
      " 16  cnt         17379 non-null  int64  \n",
      "dtypes: float64(4), int64(12), object(1)\n",
      "memory usage: 2.3+ MB\n"
     ]
    }
   ],
   "source": [
    "hour.info()"
   ]
  },
  {
   "cell_type": "markdown",
   "id": "d2b53264",
   "metadata": {},
   "source": [
    "1. Saya akan merubah nama column karena column tersebut disingkat-singkat\n",
    "2. column instant berarti record index, pada dasarnya pandas sudah memiliki index tersendiri, sehingga tidak membutuhkan index lagi. Saya melakukan drop column karena tidak dibutuhkan\n",
    "3. dteday bertype object, sehingga perlu merubahnya menjadi type datetime"
   ]
  },
  {
   "cell_type": "markdown",
   "id": "91597a19",
   "metadata": {},
   "source": [
    "-----------------------------------------------------------------"
   ]
  },
  {
   "cell_type": "markdown",
   "id": "3d6e0faf",
   "metadata": {},
   "source": [
    "### DAY"
   ]
  },
  {
   "cell_type": "code",
   "execution_count": 8,
   "id": "afccd2f6",
   "metadata": {
    "scrolled": false
   },
   "outputs": [
    {
     "data": {
      "text/html": [
       "<div>\n",
       "<style scoped>\n",
       "    .dataframe tbody tr th:only-of-type {\n",
       "        vertical-align: middle;\n",
       "    }\n",
       "\n",
       "    .dataframe tbody tr th {\n",
       "        vertical-align: top;\n",
       "    }\n",
       "\n",
       "    .dataframe thead th {\n",
       "        text-align: right;\n",
       "    }\n",
       "</style>\n",
       "<table border=\"1\" class=\"dataframe\">\n",
       "  <thead>\n",
       "    <tr style=\"text-align: right;\">\n",
       "      <th></th>\n",
       "      <th>instant</th>\n",
       "      <th>dteday</th>\n",
       "      <th>season</th>\n",
       "      <th>yr</th>\n",
       "      <th>mnth</th>\n",
       "      <th>holiday</th>\n",
       "      <th>weekday</th>\n",
       "      <th>workingday</th>\n",
       "      <th>weathersit</th>\n",
       "      <th>temp</th>\n",
       "      <th>atemp</th>\n",
       "      <th>hum</th>\n",
       "      <th>windspeed</th>\n",
       "      <th>casual</th>\n",
       "      <th>registered</th>\n",
       "      <th>cnt</th>\n",
       "    </tr>\n",
       "  </thead>\n",
       "  <tbody>\n",
       "    <tr>\n",
       "      <th>count</th>\n",
       "      <td>731.000000</td>\n",
       "      <td>731</td>\n",
       "      <td>731.000000</td>\n",
       "      <td>731.000000</td>\n",
       "      <td>731.000000</td>\n",
       "      <td>731.000000</td>\n",
       "      <td>731.000000</td>\n",
       "      <td>731.000000</td>\n",
       "      <td>731.000000</td>\n",
       "      <td>731.000000</td>\n",
       "      <td>731.000000</td>\n",
       "      <td>731.000000</td>\n",
       "      <td>731.000000</td>\n",
       "      <td>731.000000</td>\n",
       "      <td>731.000000</td>\n",
       "      <td>731.000000</td>\n",
       "    </tr>\n",
       "    <tr>\n",
       "      <th>unique</th>\n",
       "      <td>NaN</td>\n",
       "      <td>731</td>\n",
       "      <td>NaN</td>\n",
       "      <td>NaN</td>\n",
       "      <td>NaN</td>\n",
       "      <td>NaN</td>\n",
       "      <td>NaN</td>\n",
       "      <td>NaN</td>\n",
       "      <td>NaN</td>\n",
       "      <td>NaN</td>\n",
       "      <td>NaN</td>\n",
       "      <td>NaN</td>\n",
       "      <td>NaN</td>\n",
       "      <td>NaN</td>\n",
       "      <td>NaN</td>\n",
       "      <td>NaN</td>\n",
       "    </tr>\n",
       "    <tr>\n",
       "      <th>top</th>\n",
       "      <td>NaN</td>\n",
       "      <td>2011-01-01</td>\n",
       "      <td>NaN</td>\n",
       "      <td>NaN</td>\n",
       "      <td>NaN</td>\n",
       "      <td>NaN</td>\n",
       "      <td>NaN</td>\n",
       "      <td>NaN</td>\n",
       "      <td>NaN</td>\n",
       "      <td>NaN</td>\n",
       "      <td>NaN</td>\n",
       "      <td>NaN</td>\n",
       "      <td>NaN</td>\n",
       "      <td>NaN</td>\n",
       "      <td>NaN</td>\n",
       "      <td>NaN</td>\n",
       "    </tr>\n",
       "    <tr>\n",
       "      <th>freq</th>\n",
       "      <td>NaN</td>\n",
       "      <td>1</td>\n",
       "      <td>NaN</td>\n",
       "      <td>NaN</td>\n",
       "      <td>NaN</td>\n",
       "      <td>NaN</td>\n",
       "      <td>NaN</td>\n",
       "      <td>NaN</td>\n",
       "      <td>NaN</td>\n",
       "      <td>NaN</td>\n",
       "      <td>NaN</td>\n",
       "      <td>NaN</td>\n",
       "      <td>NaN</td>\n",
       "      <td>NaN</td>\n",
       "      <td>NaN</td>\n",
       "      <td>NaN</td>\n",
       "    </tr>\n",
       "    <tr>\n",
       "      <th>mean</th>\n",
       "      <td>366.000000</td>\n",
       "      <td>NaN</td>\n",
       "      <td>2.496580</td>\n",
       "      <td>0.500684</td>\n",
       "      <td>6.519836</td>\n",
       "      <td>0.028728</td>\n",
       "      <td>2.997264</td>\n",
       "      <td>0.683995</td>\n",
       "      <td>1.395349</td>\n",
       "      <td>0.495385</td>\n",
       "      <td>0.474354</td>\n",
       "      <td>0.627894</td>\n",
       "      <td>0.190486</td>\n",
       "      <td>848.176471</td>\n",
       "      <td>3656.172367</td>\n",
       "      <td>4504.348837</td>\n",
       "    </tr>\n",
       "    <tr>\n",
       "      <th>std</th>\n",
       "      <td>211.165812</td>\n",
       "      <td>NaN</td>\n",
       "      <td>1.110807</td>\n",
       "      <td>0.500342</td>\n",
       "      <td>3.451913</td>\n",
       "      <td>0.167155</td>\n",
       "      <td>2.004787</td>\n",
       "      <td>0.465233</td>\n",
       "      <td>0.544894</td>\n",
       "      <td>0.183051</td>\n",
       "      <td>0.162961</td>\n",
       "      <td>0.142429</td>\n",
       "      <td>0.077498</td>\n",
       "      <td>686.622488</td>\n",
       "      <td>1560.256377</td>\n",
       "      <td>1937.211452</td>\n",
       "    </tr>\n",
       "    <tr>\n",
       "      <th>min</th>\n",
       "      <td>1.000000</td>\n",
       "      <td>NaN</td>\n",
       "      <td>1.000000</td>\n",
       "      <td>0.000000</td>\n",
       "      <td>1.000000</td>\n",
       "      <td>0.000000</td>\n",
       "      <td>0.000000</td>\n",
       "      <td>0.000000</td>\n",
       "      <td>1.000000</td>\n",
       "      <td>0.059130</td>\n",
       "      <td>0.079070</td>\n",
       "      <td>0.000000</td>\n",
       "      <td>0.022392</td>\n",
       "      <td>2.000000</td>\n",
       "      <td>20.000000</td>\n",
       "      <td>22.000000</td>\n",
       "    </tr>\n",
       "    <tr>\n",
       "      <th>25%</th>\n",
       "      <td>183.500000</td>\n",
       "      <td>NaN</td>\n",
       "      <td>2.000000</td>\n",
       "      <td>0.000000</td>\n",
       "      <td>4.000000</td>\n",
       "      <td>0.000000</td>\n",
       "      <td>1.000000</td>\n",
       "      <td>0.000000</td>\n",
       "      <td>1.000000</td>\n",
       "      <td>0.337083</td>\n",
       "      <td>0.337842</td>\n",
       "      <td>0.520000</td>\n",
       "      <td>0.134950</td>\n",
       "      <td>315.500000</td>\n",
       "      <td>2497.000000</td>\n",
       "      <td>3152.000000</td>\n",
       "    </tr>\n",
       "    <tr>\n",
       "      <th>50%</th>\n",
       "      <td>366.000000</td>\n",
       "      <td>NaN</td>\n",
       "      <td>3.000000</td>\n",
       "      <td>1.000000</td>\n",
       "      <td>7.000000</td>\n",
       "      <td>0.000000</td>\n",
       "      <td>3.000000</td>\n",
       "      <td>1.000000</td>\n",
       "      <td>1.000000</td>\n",
       "      <td>0.498333</td>\n",
       "      <td>0.486733</td>\n",
       "      <td>0.626667</td>\n",
       "      <td>0.180975</td>\n",
       "      <td>713.000000</td>\n",
       "      <td>3662.000000</td>\n",
       "      <td>4548.000000</td>\n",
       "    </tr>\n",
       "    <tr>\n",
       "      <th>75%</th>\n",
       "      <td>548.500000</td>\n",
       "      <td>NaN</td>\n",
       "      <td>3.000000</td>\n",
       "      <td>1.000000</td>\n",
       "      <td>10.000000</td>\n",
       "      <td>0.000000</td>\n",
       "      <td>5.000000</td>\n",
       "      <td>1.000000</td>\n",
       "      <td>2.000000</td>\n",
       "      <td>0.655417</td>\n",
       "      <td>0.608602</td>\n",
       "      <td>0.730209</td>\n",
       "      <td>0.233214</td>\n",
       "      <td>1096.000000</td>\n",
       "      <td>4776.500000</td>\n",
       "      <td>5956.000000</td>\n",
       "    </tr>\n",
       "    <tr>\n",
       "      <th>max</th>\n",
       "      <td>731.000000</td>\n",
       "      <td>NaN</td>\n",
       "      <td>4.000000</td>\n",
       "      <td>1.000000</td>\n",
       "      <td>12.000000</td>\n",
       "      <td>1.000000</td>\n",
       "      <td>6.000000</td>\n",
       "      <td>1.000000</td>\n",
       "      <td>3.000000</td>\n",
       "      <td>0.861667</td>\n",
       "      <td>0.840896</td>\n",
       "      <td>0.972500</td>\n",
       "      <td>0.507463</td>\n",
       "      <td>3410.000000</td>\n",
       "      <td>6946.000000</td>\n",
       "      <td>8714.000000</td>\n",
       "    </tr>\n",
       "  </tbody>\n",
       "</table>\n",
       "</div>"
      ],
      "text/plain": [
       "           instant      dteday      season          yr        mnth  \\\n",
       "count   731.000000         731  731.000000  731.000000  731.000000   \n",
       "unique         NaN         731         NaN         NaN         NaN   \n",
       "top            NaN  2011-01-01         NaN         NaN         NaN   \n",
       "freq           NaN           1         NaN         NaN         NaN   \n",
       "mean    366.000000         NaN    2.496580    0.500684    6.519836   \n",
       "std     211.165812         NaN    1.110807    0.500342    3.451913   \n",
       "min       1.000000         NaN    1.000000    0.000000    1.000000   \n",
       "25%     183.500000         NaN    2.000000    0.000000    4.000000   \n",
       "50%     366.000000         NaN    3.000000    1.000000    7.000000   \n",
       "75%     548.500000         NaN    3.000000    1.000000   10.000000   \n",
       "max     731.000000         NaN    4.000000    1.000000   12.000000   \n",
       "\n",
       "           holiday     weekday  workingday  weathersit        temp  \\\n",
       "count   731.000000  731.000000  731.000000  731.000000  731.000000   \n",
       "unique         NaN         NaN         NaN         NaN         NaN   \n",
       "top            NaN         NaN         NaN         NaN         NaN   \n",
       "freq           NaN         NaN         NaN         NaN         NaN   \n",
       "mean      0.028728    2.997264    0.683995    1.395349    0.495385   \n",
       "std       0.167155    2.004787    0.465233    0.544894    0.183051   \n",
       "min       0.000000    0.000000    0.000000    1.000000    0.059130   \n",
       "25%       0.000000    1.000000    0.000000    1.000000    0.337083   \n",
       "50%       0.000000    3.000000    1.000000    1.000000    0.498333   \n",
       "75%       0.000000    5.000000    1.000000    2.000000    0.655417   \n",
       "max       1.000000    6.000000    1.000000    3.000000    0.861667   \n",
       "\n",
       "             atemp         hum   windspeed       casual   registered  \\\n",
       "count   731.000000  731.000000  731.000000   731.000000   731.000000   \n",
       "unique         NaN         NaN         NaN          NaN          NaN   \n",
       "top            NaN         NaN         NaN          NaN          NaN   \n",
       "freq           NaN         NaN         NaN          NaN          NaN   \n",
       "mean      0.474354    0.627894    0.190486   848.176471  3656.172367   \n",
       "std       0.162961    0.142429    0.077498   686.622488  1560.256377   \n",
       "min       0.079070    0.000000    0.022392     2.000000    20.000000   \n",
       "25%       0.337842    0.520000    0.134950   315.500000  2497.000000   \n",
       "50%       0.486733    0.626667    0.180975   713.000000  3662.000000   \n",
       "75%       0.608602    0.730209    0.233214  1096.000000  4776.500000   \n",
       "max       0.840896    0.972500    0.507463  3410.000000  6946.000000   \n",
       "\n",
       "                cnt  \n",
       "count    731.000000  \n",
       "unique          NaN  \n",
       "top             NaN  \n",
       "freq            NaN  \n",
       "mean    4504.348837  \n",
       "std     1937.211452  \n",
       "min       22.000000  \n",
       "25%     3152.000000  \n",
       "50%     4548.000000  \n",
       "75%     5956.000000  \n",
       "max     8714.000000  "
      ]
     },
     "execution_count": 8,
     "metadata": {},
     "output_type": "execute_result"
    }
   ],
   "source": [
    "day.describe(include=\"all\")"
   ]
  },
  {
   "cell_type": "markdown",
   "id": "85d956b4",
   "metadata": {},
   "source": [
    "### HOUR"
   ]
  },
  {
   "cell_type": "code",
   "execution_count": 9,
   "id": "29ed6905",
   "metadata": {},
   "outputs": [
    {
     "data": {
      "text/html": [
       "<div>\n",
       "<style scoped>\n",
       "    .dataframe tbody tr th:only-of-type {\n",
       "        vertical-align: middle;\n",
       "    }\n",
       "\n",
       "    .dataframe tbody tr th {\n",
       "        vertical-align: top;\n",
       "    }\n",
       "\n",
       "    .dataframe thead th {\n",
       "        text-align: right;\n",
       "    }\n",
       "</style>\n",
       "<table border=\"1\" class=\"dataframe\">\n",
       "  <thead>\n",
       "    <tr style=\"text-align: right;\">\n",
       "      <th></th>\n",
       "      <th>instant</th>\n",
       "      <th>dteday</th>\n",
       "      <th>season</th>\n",
       "      <th>yr</th>\n",
       "      <th>mnth</th>\n",
       "      <th>hr</th>\n",
       "      <th>holiday</th>\n",
       "      <th>weekday</th>\n",
       "      <th>workingday</th>\n",
       "      <th>weathersit</th>\n",
       "      <th>temp</th>\n",
       "      <th>atemp</th>\n",
       "      <th>hum</th>\n",
       "      <th>windspeed</th>\n",
       "      <th>casual</th>\n",
       "      <th>registered</th>\n",
       "      <th>cnt</th>\n",
       "    </tr>\n",
       "  </thead>\n",
       "  <tbody>\n",
       "    <tr>\n",
       "      <th>count</th>\n",
       "      <td>17379.0000</td>\n",
       "      <td>17379</td>\n",
       "      <td>17379.000000</td>\n",
       "      <td>17379.000000</td>\n",
       "      <td>17379.000000</td>\n",
       "      <td>17379.000000</td>\n",
       "      <td>17379.000000</td>\n",
       "      <td>17379.000000</td>\n",
       "      <td>17379.000000</td>\n",
       "      <td>17379.000000</td>\n",
       "      <td>17379.000000</td>\n",
       "      <td>17379.000000</td>\n",
       "      <td>17379.000000</td>\n",
       "      <td>17379.000000</td>\n",
       "      <td>17379.000000</td>\n",
       "      <td>17379.000000</td>\n",
       "      <td>17379.000000</td>\n",
       "    </tr>\n",
       "    <tr>\n",
       "      <th>unique</th>\n",
       "      <td>NaN</td>\n",
       "      <td>731</td>\n",
       "      <td>NaN</td>\n",
       "      <td>NaN</td>\n",
       "      <td>NaN</td>\n",
       "      <td>NaN</td>\n",
       "      <td>NaN</td>\n",
       "      <td>NaN</td>\n",
       "      <td>NaN</td>\n",
       "      <td>NaN</td>\n",
       "      <td>NaN</td>\n",
       "      <td>NaN</td>\n",
       "      <td>NaN</td>\n",
       "      <td>NaN</td>\n",
       "      <td>NaN</td>\n",
       "      <td>NaN</td>\n",
       "      <td>NaN</td>\n",
       "    </tr>\n",
       "    <tr>\n",
       "      <th>top</th>\n",
       "      <td>NaN</td>\n",
       "      <td>2011-01-01</td>\n",
       "      <td>NaN</td>\n",
       "      <td>NaN</td>\n",
       "      <td>NaN</td>\n",
       "      <td>NaN</td>\n",
       "      <td>NaN</td>\n",
       "      <td>NaN</td>\n",
       "      <td>NaN</td>\n",
       "      <td>NaN</td>\n",
       "      <td>NaN</td>\n",
       "      <td>NaN</td>\n",
       "      <td>NaN</td>\n",
       "      <td>NaN</td>\n",
       "      <td>NaN</td>\n",
       "      <td>NaN</td>\n",
       "      <td>NaN</td>\n",
       "    </tr>\n",
       "    <tr>\n",
       "      <th>freq</th>\n",
       "      <td>NaN</td>\n",
       "      <td>24</td>\n",
       "      <td>NaN</td>\n",
       "      <td>NaN</td>\n",
       "      <td>NaN</td>\n",
       "      <td>NaN</td>\n",
       "      <td>NaN</td>\n",
       "      <td>NaN</td>\n",
       "      <td>NaN</td>\n",
       "      <td>NaN</td>\n",
       "      <td>NaN</td>\n",
       "      <td>NaN</td>\n",
       "      <td>NaN</td>\n",
       "      <td>NaN</td>\n",
       "      <td>NaN</td>\n",
       "      <td>NaN</td>\n",
       "      <td>NaN</td>\n",
       "    </tr>\n",
       "    <tr>\n",
       "      <th>mean</th>\n",
       "      <td>8690.0000</td>\n",
       "      <td>NaN</td>\n",
       "      <td>2.501640</td>\n",
       "      <td>0.502561</td>\n",
       "      <td>6.537775</td>\n",
       "      <td>11.546752</td>\n",
       "      <td>0.028770</td>\n",
       "      <td>3.003683</td>\n",
       "      <td>0.682721</td>\n",
       "      <td>1.425283</td>\n",
       "      <td>0.496987</td>\n",
       "      <td>0.475775</td>\n",
       "      <td>0.627229</td>\n",
       "      <td>0.190098</td>\n",
       "      <td>35.676218</td>\n",
       "      <td>153.786869</td>\n",
       "      <td>189.463088</td>\n",
       "    </tr>\n",
       "    <tr>\n",
       "      <th>std</th>\n",
       "      <td>5017.0295</td>\n",
       "      <td>NaN</td>\n",
       "      <td>1.106918</td>\n",
       "      <td>0.500008</td>\n",
       "      <td>3.438776</td>\n",
       "      <td>6.914405</td>\n",
       "      <td>0.167165</td>\n",
       "      <td>2.005771</td>\n",
       "      <td>0.465431</td>\n",
       "      <td>0.639357</td>\n",
       "      <td>0.192556</td>\n",
       "      <td>0.171850</td>\n",
       "      <td>0.192930</td>\n",
       "      <td>0.122340</td>\n",
       "      <td>49.305030</td>\n",
       "      <td>151.357286</td>\n",
       "      <td>181.387599</td>\n",
       "    </tr>\n",
       "    <tr>\n",
       "      <th>min</th>\n",
       "      <td>1.0000</td>\n",
       "      <td>NaN</td>\n",
       "      <td>1.000000</td>\n",
       "      <td>0.000000</td>\n",
       "      <td>1.000000</td>\n",
       "      <td>0.000000</td>\n",
       "      <td>0.000000</td>\n",
       "      <td>0.000000</td>\n",
       "      <td>0.000000</td>\n",
       "      <td>1.000000</td>\n",
       "      <td>0.020000</td>\n",
       "      <td>0.000000</td>\n",
       "      <td>0.000000</td>\n",
       "      <td>0.000000</td>\n",
       "      <td>0.000000</td>\n",
       "      <td>0.000000</td>\n",
       "      <td>1.000000</td>\n",
       "    </tr>\n",
       "    <tr>\n",
       "      <th>25%</th>\n",
       "      <td>4345.5000</td>\n",
       "      <td>NaN</td>\n",
       "      <td>2.000000</td>\n",
       "      <td>0.000000</td>\n",
       "      <td>4.000000</td>\n",
       "      <td>6.000000</td>\n",
       "      <td>0.000000</td>\n",
       "      <td>1.000000</td>\n",
       "      <td>0.000000</td>\n",
       "      <td>1.000000</td>\n",
       "      <td>0.340000</td>\n",
       "      <td>0.333300</td>\n",
       "      <td>0.480000</td>\n",
       "      <td>0.104500</td>\n",
       "      <td>4.000000</td>\n",
       "      <td>34.000000</td>\n",
       "      <td>40.000000</td>\n",
       "    </tr>\n",
       "    <tr>\n",
       "      <th>50%</th>\n",
       "      <td>8690.0000</td>\n",
       "      <td>NaN</td>\n",
       "      <td>3.000000</td>\n",
       "      <td>1.000000</td>\n",
       "      <td>7.000000</td>\n",
       "      <td>12.000000</td>\n",
       "      <td>0.000000</td>\n",
       "      <td>3.000000</td>\n",
       "      <td>1.000000</td>\n",
       "      <td>1.000000</td>\n",
       "      <td>0.500000</td>\n",
       "      <td>0.484800</td>\n",
       "      <td>0.630000</td>\n",
       "      <td>0.194000</td>\n",
       "      <td>17.000000</td>\n",
       "      <td>115.000000</td>\n",
       "      <td>142.000000</td>\n",
       "    </tr>\n",
       "    <tr>\n",
       "      <th>75%</th>\n",
       "      <td>13034.5000</td>\n",
       "      <td>NaN</td>\n",
       "      <td>3.000000</td>\n",
       "      <td>1.000000</td>\n",
       "      <td>10.000000</td>\n",
       "      <td>18.000000</td>\n",
       "      <td>0.000000</td>\n",
       "      <td>5.000000</td>\n",
       "      <td>1.000000</td>\n",
       "      <td>2.000000</td>\n",
       "      <td>0.660000</td>\n",
       "      <td>0.621200</td>\n",
       "      <td>0.780000</td>\n",
       "      <td>0.253700</td>\n",
       "      <td>48.000000</td>\n",
       "      <td>220.000000</td>\n",
       "      <td>281.000000</td>\n",
       "    </tr>\n",
       "    <tr>\n",
       "      <th>max</th>\n",
       "      <td>17379.0000</td>\n",
       "      <td>NaN</td>\n",
       "      <td>4.000000</td>\n",
       "      <td>1.000000</td>\n",
       "      <td>12.000000</td>\n",
       "      <td>23.000000</td>\n",
       "      <td>1.000000</td>\n",
       "      <td>6.000000</td>\n",
       "      <td>1.000000</td>\n",
       "      <td>4.000000</td>\n",
       "      <td>1.000000</td>\n",
       "      <td>1.000000</td>\n",
       "      <td>1.000000</td>\n",
       "      <td>0.850700</td>\n",
       "      <td>367.000000</td>\n",
       "      <td>886.000000</td>\n",
       "      <td>977.000000</td>\n",
       "    </tr>\n",
       "  </tbody>\n",
       "</table>\n",
       "</div>"
      ],
      "text/plain": [
       "           instant      dteday        season            yr          mnth  \\\n",
       "count   17379.0000       17379  17379.000000  17379.000000  17379.000000   \n",
       "unique         NaN         731           NaN           NaN           NaN   \n",
       "top            NaN  2011-01-01           NaN           NaN           NaN   \n",
       "freq           NaN          24           NaN           NaN           NaN   \n",
       "mean     8690.0000         NaN      2.501640      0.502561      6.537775   \n",
       "std      5017.0295         NaN      1.106918      0.500008      3.438776   \n",
       "min         1.0000         NaN      1.000000      0.000000      1.000000   \n",
       "25%      4345.5000         NaN      2.000000      0.000000      4.000000   \n",
       "50%      8690.0000         NaN      3.000000      1.000000      7.000000   \n",
       "75%     13034.5000         NaN      3.000000      1.000000     10.000000   \n",
       "max     17379.0000         NaN      4.000000      1.000000     12.000000   \n",
       "\n",
       "                  hr       holiday       weekday    workingday    weathersit  \\\n",
       "count   17379.000000  17379.000000  17379.000000  17379.000000  17379.000000   \n",
       "unique           NaN           NaN           NaN           NaN           NaN   \n",
       "top              NaN           NaN           NaN           NaN           NaN   \n",
       "freq             NaN           NaN           NaN           NaN           NaN   \n",
       "mean       11.546752      0.028770      3.003683      0.682721      1.425283   \n",
       "std         6.914405      0.167165      2.005771      0.465431      0.639357   \n",
       "min         0.000000      0.000000      0.000000      0.000000      1.000000   \n",
       "25%         6.000000      0.000000      1.000000      0.000000      1.000000   \n",
       "50%        12.000000      0.000000      3.000000      1.000000      1.000000   \n",
       "75%        18.000000      0.000000      5.000000      1.000000      2.000000   \n",
       "max        23.000000      1.000000      6.000000      1.000000      4.000000   \n",
       "\n",
       "                temp         atemp           hum     windspeed        casual  \\\n",
       "count   17379.000000  17379.000000  17379.000000  17379.000000  17379.000000   \n",
       "unique           NaN           NaN           NaN           NaN           NaN   \n",
       "top              NaN           NaN           NaN           NaN           NaN   \n",
       "freq             NaN           NaN           NaN           NaN           NaN   \n",
       "mean        0.496987      0.475775      0.627229      0.190098     35.676218   \n",
       "std         0.192556      0.171850      0.192930      0.122340     49.305030   \n",
       "min         0.020000      0.000000      0.000000      0.000000      0.000000   \n",
       "25%         0.340000      0.333300      0.480000      0.104500      4.000000   \n",
       "50%         0.500000      0.484800      0.630000      0.194000     17.000000   \n",
       "75%         0.660000      0.621200      0.780000      0.253700     48.000000   \n",
       "max         1.000000      1.000000      1.000000      0.850700    367.000000   \n",
       "\n",
       "          registered           cnt  \n",
       "count   17379.000000  17379.000000  \n",
       "unique           NaN           NaN  \n",
       "top              NaN           NaN  \n",
       "freq             NaN           NaN  \n",
       "mean      153.786869    189.463088  \n",
       "std       151.357286    181.387599  \n",
       "min         0.000000      1.000000  \n",
       "25%        34.000000     40.000000  \n",
       "50%       115.000000    142.000000  \n",
       "75%       220.000000    281.000000  \n",
       "max       886.000000    977.000000  "
      ]
     },
     "execution_count": 9,
     "metadata": {},
     "output_type": "execute_result"
    }
   ],
   "source": [
    "hour.describe(include='all')"
   ]
  },
  {
   "cell_type": "markdown",
   "id": "746c786d",
   "metadata": {},
   "source": [
    "4. Berdasarkan dataset characteristic, column:\n",
    "    - temp valuenya telah dibagi 41\n",
    "    - atemp valuenya telah dibagi 50\n",
    "    - hum valuenya telah dibagi 100\n",
    "    - windspeed valuenya telah dibagi 67\n",
    "\n",
    "5. Pada dataset **day** column `hum` memiliki minimal value 0.0000, sehingga dapat dikatakan **inaccurate data**\n",
    "\n",
    "6. Pada dataset **hour** column `atemp`, `hum`, dan `windspeed` memiliki minimal value 0.0000, sehingga dapat dikatakan **inaccurate data**\n",
    "\n",
    "pada nomer 5 dan 6, dikatakan **inaccurate data** karena itu bersifat **kondisi** sehingga tidak memungkinkan kondisi tersebut 0 \n",
    "\n",
    "Kebanyakan value berbentuk numerik, akan tetapi mereka sebenernya kategori berdasarkan dataset characteristic sehingga saya tidak mengecek apakah data tersebut terdapat duplicate atau tidak\n",
    "#### saya akan mengembalikan nilai aslinya dan membulatkannya sehingga lebih mudah dipahami"
   ]
  },
  {
   "cell_type": "markdown",
   "id": "3b8776e5",
   "metadata": {},
   "source": [
    "--------------------------------------------------------------"
   ]
  },
  {
   "cell_type": "markdown",
   "id": "ba718df8",
   "metadata": {},
   "source": [
    "### Day"
   ]
  },
  {
   "cell_type": "code",
   "execution_count": 10,
   "id": "42152104",
   "metadata": {},
   "outputs": [
    {
     "name": "stdout",
     "output_type": "stream",
     "text": [
      "day na value of instant: 0\n",
      "day na value of dteday: 0\n",
      "day na value of season: 0\n",
      "day na value of yr: 0\n",
      "day na value of mnth: 0\n",
      "day na value of holiday: 0\n",
      "day na value of weekday: 0\n",
      "day na value of workingday: 0\n",
      "day na value of weathersit: 0\n",
      "day na value of temp: 0\n",
      "day na value of atemp: 0\n",
      "day na value of hum: 0\n",
      "day na value of windspeed: 0\n",
      "day na value of casual: 0\n",
      "day na value of registered: 0\n",
      "day na value of cnt: 0\n"
     ]
    }
   ],
   "source": [
    "for column in day.columns:\n",
    "    na_value = day[f\"{column}\"].isna().sum()\n",
    "    print(f\"day na value of {column}: {na_value}\", )"
   ]
  },
  {
   "cell_type": "markdown",
   "id": "d971129f",
   "metadata": {},
   "source": [
    "### Hour"
   ]
  },
  {
   "cell_type": "code",
   "execution_count": 11,
   "id": "510278cc",
   "metadata": {},
   "outputs": [
    {
     "name": "stdout",
     "output_type": "stream",
     "text": [
      "hour na value of instant: 0\n",
      "hour na value of dteday: 0\n",
      "hour na value of season: 0\n",
      "hour na value of yr: 0\n",
      "hour na value of mnth: 0\n",
      "hour na value of hr: 0\n",
      "hour na value of holiday: 0\n",
      "hour na value of weekday: 0\n",
      "hour na value of workingday: 0\n",
      "hour na value of weathersit: 0\n",
      "hour na value of temp: 0\n",
      "hour na value of atemp: 0\n",
      "hour na value of hum: 0\n",
      "hour na value of windspeed: 0\n",
      "hour na value of casual: 0\n",
      "hour na value of registered: 0\n",
      "hour na value of cnt: 0\n"
     ]
    }
   ],
   "source": [
    "for column in hour.columns:\n",
    "    na_value = hour[f\"{column}\"].isna().sum()\n",
    "    print(f\"hour na value of {column}: {na_value}\", )"
   ]
  },
  {
   "cell_type": "markdown",
   "id": "3642eeb2",
   "metadata": {},
   "source": [
    "kode ini memastikan apakah benar2 tidak ada missing value, dapat disimpulkan tidak ada value yang hilang\n",
    "\n",
    "Melihat value yang kosong pada dataset day dan hour, dapat dilihat **tidak ada value yang kosong pada dataset ini**"
   ]
  },
  {
   "cell_type": "markdown",
   "id": "89531ff3",
   "metadata": {},
   "source": [
    "----------------------------------------------"
   ]
  },
  {
   "cell_type": "markdown",
   "id": "42019638",
   "metadata": {},
   "source": [
    "## Cleaning Data"
   ]
  },
  {
   "cell_type": "markdown",
   "id": "f26353fe",
   "metadata": {},
   "source": [
    "### 1. Mengganti nama kolom"
   ]
  },
  {
   "cell_type": "markdown",
   "id": "60d9ed67",
   "metadata": {},
   "source": [
    "### Day"
   ]
  },
  {
   "cell_type": "code",
   "execution_count": 12,
   "id": "a09a99c6",
   "metadata": {},
   "outputs": [
    {
     "data": {
      "text/plain": [
       "Index(['instant', 'dteday', 'season', 'yr', 'mnth', 'holiday', 'weekday',\n",
       "       'workingday', 'weathersit', 'temp', 'atemp', 'hum', 'windspeed',\n",
       "       'casual', 'registered', 'cnt'],\n",
       "      dtype='object')"
      ]
     },
     "execution_count": 12,
     "metadata": {},
     "output_type": "execute_result"
    }
   ],
   "source": [
    "day.columns"
   ]
  },
  {
   "cell_type": "code",
   "execution_count": 13,
   "id": "5a2c5c85",
   "metadata": {},
   "outputs": [],
   "source": [
    "day.rename(columns={'dteday': 'date', \n",
    "                    'yr': 'year',\n",
    "                    'mnth': 'month',\n",
    "                    'weekday': 'week_day',\n",
    "                    'workingday': 'working_day',\n",
    "                    'weathersit': 'weather_sit',\n",
    "                    'temp': 'temprature',\n",
    "                    'atemp': 'feel_temprature',\n",
    "                    'hum': 'humidity',\n",
    "                    'windspeed': 'wind_speed',\n",
    "                    'casual': 'casual_user',\n",
    "                    'registered': 'registered_user',\n",
    "                    'cnt': 'total_user'}, inplace=True)"
   ]
  },
  {
   "cell_type": "code",
   "execution_count": 14,
   "id": "52ed218e",
   "metadata": {
    "scrolled": false
   },
   "outputs": [
    {
     "data": {
      "text/plain": [
       "Index(['instant', 'date', 'season', 'year', 'month', 'holiday', 'week_day',\n",
       "       'working_day', 'weather_sit', 'temprature', 'feel_temprature',\n",
       "       'humidity', 'wind_speed', 'casual_user', 'registered_user',\n",
       "       'total_user'],\n",
       "      dtype='object')"
      ]
     },
     "execution_count": 14,
     "metadata": {},
     "output_type": "execute_result"
    }
   ],
   "source": [
    "day.columns"
   ]
  },
  {
   "cell_type": "markdown",
   "id": "8da65382",
   "metadata": {},
   "source": [
    "### Hour"
   ]
  },
  {
   "cell_type": "code",
   "execution_count": 15,
   "id": "db574a80",
   "metadata": {},
   "outputs": [
    {
     "data": {
      "text/plain": [
       "Index(['instant', 'dteday', 'season', 'yr', 'mnth', 'hr', 'holiday', 'weekday',\n",
       "       'workingday', 'weathersit', 'temp', 'atemp', 'hum', 'windspeed',\n",
       "       'casual', 'registered', 'cnt'],\n",
       "      dtype='object')"
      ]
     },
     "execution_count": 15,
     "metadata": {},
     "output_type": "execute_result"
    }
   ],
   "source": [
    "hour.columns"
   ]
  },
  {
   "cell_type": "code",
   "execution_count": 16,
   "id": "50b6593b",
   "metadata": {},
   "outputs": [],
   "source": [
    "hour.rename(columns={'dteday': 'date', \n",
    "                    'yr': 'year',\n",
    "                    'mnth': 'month',\n",
    "                    'hr': 'hour',\n",
    "                    'weekday': 'week_day',\n",
    "                    'workingday': 'working_day',\n",
    "                    'weathersit': 'weather_sit',\n",
    "                    'temp': 'temprature',\n",
    "                    'atemp': 'feel_temprature',\n",
    "                    'hum': 'humidity',\n",
    "                    'windspeed': 'wind_speed',\n",
    "                    'casual': 'casual_user',\n",
    "                    'registered': 'registered_user',\n",
    "                    'cnt': 'total_user'}, inplace=True)"
   ]
  },
  {
   "cell_type": "code",
   "execution_count": 17,
   "id": "0bf6016c",
   "metadata": {
    "scrolled": true
   },
   "outputs": [
    {
     "data": {
      "text/plain": [
       "Index(['instant', 'date', 'season', 'year', 'month', 'hour', 'holiday',\n",
       "       'week_day', 'working_day', 'weather_sit', 'temprature',\n",
       "       'feel_temprature', 'humidity', 'wind_speed', 'casual_user',\n",
       "       'registered_user', 'total_user'],\n",
       "      dtype='object')"
      ]
     },
     "execution_count": 17,
     "metadata": {},
     "output_type": "execute_result"
    }
   ],
   "source": [
    "hour.columns"
   ]
  },
  {
   "cell_type": "markdown",
   "id": "03bc167c",
   "metadata": {},
   "source": [
    "Nama column kedua dataset telah berganti, sehingga memudahkan untuk dibaca"
   ]
  },
  {
   "cell_type": "markdown",
   "id": "2f0f7251",
   "metadata": {},
   "source": [
    "---------------------------------------------------------------"
   ]
  },
  {
   "cell_type": "markdown",
   "id": "88248150",
   "metadata": {},
   "source": [
    "### 2. Melakukan drop pada column instant"
   ]
  },
  {
   "cell_type": "markdown",
   "id": "5bdcfb02",
   "metadata": {},
   "source": [
    "### Day"
   ]
  },
  {
   "cell_type": "code",
   "execution_count": 18,
   "id": "a854e9b2",
   "metadata": {},
   "outputs": [],
   "source": [
    "day.drop('instant', axis=1, inplace=True)"
   ]
  },
  {
   "cell_type": "code",
   "execution_count": 19,
   "id": "8b378b92",
   "metadata": {},
   "outputs": [
    {
     "data": {
      "text/html": [
       "<div>\n",
       "<style scoped>\n",
       "    .dataframe tbody tr th:only-of-type {\n",
       "        vertical-align: middle;\n",
       "    }\n",
       "\n",
       "    .dataframe tbody tr th {\n",
       "        vertical-align: top;\n",
       "    }\n",
       "\n",
       "    .dataframe thead th {\n",
       "        text-align: right;\n",
       "    }\n",
       "</style>\n",
       "<table border=\"1\" class=\"dataframe\">\n",
       "  <thead>\n",
       "    <tr style=\"text-align: right;\">\n",
       "      <th></th>\n",
       "      <th>date</th>\n",
       "      <th>season</th>\n",
       "      <th>year</th>\n",
       "      <th>month</th>\n",
       "      <th>holiday</th>\n",
       "      <th>week_day</th>\n",
       "      <th>working_day</th>\n",
       "      <th>weather_sit</th>\n",
       "      <th>temprature</th>\n",
       "      <th>feel_temprature</th>\n",
       "      <th>humidity</th>\n",
       "      <th>wind_speed</th>\n",
       "      <th>casual_user</th>\n",
       "      <th>registered_user</th>\n",
       "      <th>total_user</th>\n",
       "    </tr>\n",
       "  </thead>\n",
       "  <tbody>\n",
       "    <tr>\n",
       "      <th>0</th>\n",
       "      <td>2011-01-01</td>\n",
       "      <td>1</td>\n",
       "      <td>0</td>\n",
       "      <td>1</td>\n",
       "      <td>0</td>\n",
       "      <td>6</td>\n",
       "      <td>0</td>\n",
       "      <td>2</td>\n",
       "      <td>0.344167</td>\n",
       "      <td>0.363625</td>\n",
       "      <td>0.805833</td>\n",
       "      <td>0.160446</td>\n",
       "      <td>331</td>\n",
       "      <td>654</td>\n",
       "      <td>985</td>\n",
       "    </tr>\n",
       "    <tr>\n",
       "      <th>1</th>\n",
       "      <td>2011-01-02</td>\n",
       "      <td>1</td>\n",
       "      <td>0</td>\n",
       "      <td>1</td>\n",
       "      <td>0</td>\n",
       "      <td>0</td>\n",
       "      <td>0</td>\n",
       "      <td>2</td>\n",
       "      <td>0.363478</td>\n",
       "      <td>0.353739</td>\n",
       "      <td>0.696087</td>\n",
       "      <td>0.248539</td>\n",
       "      <td>131</td>\n",
       "      <td>670</td>\n",
       "      <td>801</td>\n",
       "    </tr>\n",
       "    <tr>\n",
       "      <th>2</th>\n",
       "      <td>2011-01-03</td>\n",
       "      <td>1</td>\n",
       "      <td>0</td>\n",
       "      <td>1</td>\n",
       "      <td>0</td>\n",
       "      <td>1</td>\n",
       "      <td>1</td>\n",
       "      <td>1</td>\n",
       "      <td>0.196364</td>\n",
       "      <td>0.189405</td>\n",
       "      <td>0.437273</td>\n",
       "      <td>0.248309</td>\n",
       "      <td>120</td>\n",
       "      <td>1229</td>\n",
       "      <td>1349</td>\n",
       "    </tr>\n",
       "    <tr>\n",
       "      <th>3</th>\n",
       "      <td>2011-01-04</td>\n",
       "      <td>1</td>\n",
       "      <td>0</td>\n",
       "      <td>1</td>\n",
       "      <td>0</td>\n",
       "      <td>2</td>\n",
       "      <td>1</td>\n",
       "      <td>1</td>\n",
       "      <td>0.200000</td>\n",
       "      <td>0.212122</td>\n",
       "      <td>0.590435</td>\n",
       "      <td>0.160296</td>\n",
       "      <td>108</td>\n",
       "      <td>1454</td>\n",
       "      <td>1562</td>\n",
       "    </tr>\n",
       "    <tr>\n",
       "      <th>4</th>\n",
       "      <td>2011-01-05</td>\n",
       "      <td>1</td>\n",
       "      <td>0</td>\n",
       "      <td>1</td>\n",
       "      <td>0</td>\n",
       "      <td>3</td>\n",
       "      <td>1</td>\n",
       "      <td>1</td>\n",
       "      <td>0.226957</td>\n",
       "      <td>0.229270</td>\n",
       "      <td>0.436957</td>\n",
       "      <td>0.186900</td>\n",
       "      <td>82</td>\n",
       "      <td>1518</td>\n",
       "      <td>1600</td>\n",
       "    </tr>\n",
       "  </tbody>\n",
       "</table>\n",
       "</div>"
      ],
      "text/plain": [
       "         date  season  year  month  holiday  week_day  working_day  \\\n",
       "0  2011-01-01       1     0      1        0         6            0   \n",
       "1  2011-01-02       1     0      1        0         0            0   \n",
       "2  2011-01-03       1     0      1        0         1            1   \n",
       "3  2011-01-04       1     0      1        0         2            1   \n",
       "4  2011-01-05       1     0      1        0         3            1   \n",
       "\n",
       "   weather_sit  temprature  feel_temprature  humidity  wind_speed  \\\n",
       "0            2    0.344167         0.363625  0.805833    0.160446   \n",
       "1            2    0.363478         0.353739  0.696087    0.248539   \n",
       "2            1    0.196364         0.189405  0.437273    0.248309   \n",
       "3            1    0.200000         0.212122  0.590435    0.160296   \n",
       "4            1    0.226957         0.229270  0.436957    0.186900   \n",
       "\n",
       "   casual_user  registered_user  total_user  \n",
       "0          331              654         985  \n",
       "1          131              670         801  \n",
       "2          120             1229        1349  \n",
       "3          108             1454        1562  \n",
       "4           82             1518        1600  "
      ]
     },
     "execution_count": 19,
     "metadata": {},
     "output_type": "execute_result"
    }
   ],
   "source": [
    "day.head()"
   ]
  },
  {
   "cell_type": "markdown",
   "id": "bbfcabd4",
   "metadata": {},
   "source": [
    "### Hour"
   ]
  },
  {
   "cell_type": "code",
   "execution_count": 20,
   "id": "0410e957",
   "metadata": {},
   "outputs": [],
   "source": [
    "hour.drop('instant', axis=1, inplace=True)"
   ]
  },
  {
   "cell_type": "code",
   "execution_count": 21,
   "id": "70e37969",
   "metadata": {},
   "outputs": [
    {
     "data": {
      "text/html": [
       "<div>\n",
       "<style scoped>\n",
       "    .dataframe tbody tr th:only-of-type {\n",
       "        vertical-align: middle;\n",
       "    }\n",
       "\n",
       "    .dataframe tbody tr th {\n",
       "        vertical-align: top;\n",
       "    }\n",
       "\n",
       "    .dataframe thead th {\n",
       "        text-align: right;\n",
       "    }\n",
       "</style>\n",
       "<table border=\"1\" class=\"dataframe\">\n",
       "  <thead>\n",
       "    <tr style=\"text-align: right;\">\n",
       "      <th></th>\n",
       "      <th>date</th>\n",
       "      <th>season</th>\n",
       "      <th>year</th>\n",
       "      <th>month</th>\n",
       "      <th>hour</th>\n",
       "      <th>holiday</th>\n",
       "      <th>week_day</th>\n",
       "      <th>working_day</th>\n",
       "      <th>weather_sit</th>\n",
       "      <th>temprature</th>\n",
       "      <th>feel_temprature</th>\n",
       "      <th>humidity</th>\n",
       "      <th>wind_speed</th>\n",
       "      <th>casual_user</th>\n",
       "      <th>registered_user</th>\n",
       "      <th>total_user</th>\n",
       "    </tr>\n",
       "  </thead>\n",
       "  <tbody>\n",
       "    <tr>\n",
       "      <th>0</th>\n",
       "      <td>2011-01-01</td>\n",
       "      <td>1</td>\n",
       "      <td>0</td>\n",
       "      <td>1</td>\n",
       "      <td>0</td>\n",
       "      <td>0</td>\n",
       "      <td>6</td>\n",
       "      <td>0</td>\n",
       "      <td>1</td>\n",
       "      <td>0.24</td>\n",
       "      <td>0.2879</td>\n",
       "      <td>0.81</td>\n",
       "      <td>0.0</td>\n",
       "      <td>3</td>\n",
       "      <td>13</td>\n",
       "      <td>16</td>\n",
       "    </tr>\n",
       "    <tr>\n",
       "      <th>1</th>\n",
       "      <td>2011-01-01</td>\n",
       "      <td>1</td>\n",
       "      <td>0</td>\n",
       "      <td>1</td>\n",
       "      <td>1</td>\n",
       "      <td>0</td>\n",
       "      <td>6</td>\n",
       "      <td>0</td>\n",
       "      <td>1</td>\n",
       "      <td>0.22</td>\n",
       "      <td>0.2727</td>\n",
       "      <td>0.80</td>\n",
       "      <td>0.0</td>\n",
       "      <td>8</td>\n",
       "      <td>32</td>\n",
       "      <td>40</td>\n",
       "    </tr>\n",
       "    <tr>\n",
       "      <th>2</th>\n",
       "      <td>2011-01-01</td>\n",
       "      <td>1</td>\n",
       "      <td>0</td>\n",
       "      <td>1</td>\n",
       "      <td>2</td>\n",
       "      <td>0</td>\n",
       "      <td>6</td>\n",
       "      <td>0</td>\n",
       "      <td>1</td>\n",
       "      <td>0.22</td>\n",
       "      <td>0.2727</td>\n",
       "      <td>0.80</td>\n",
       "      <td>0.0</td>\n",
       "      <td>5</td>\n",
       "      <td>27</td>\n",
       "      <td>32</td>\n",
       "    </tr>\n",
       "    <tr>\n",
       "      <th>3</th>\n",
       "      <td>2011-01-01</td>\n",
       "      <td>1</td>\n",
       "      <td>0</td>\n",
       "      <td>1</td>\n",
       "      <td>3</td>\n",
       "      <td>0</td>\n",
       "      <td>6</td>\n",
       "      <td>0</td>\n",
       "      <td>1</td>\n",
       "      <td>0.24</td>\n",
       "      <td>0.2879</td>\n",
       "      <td>0.75</td>\n",
       "      <td>0.0</td>\n",
       "      <td>3</td>\n",
       "      <td>10</td>\n",
       "      <td>13</td>\n",
       "    </tr>\n",
       "    <tr>\n",
       "      <th>4</th>\n",
       "      <td>2011-01-01</td>\n",
       "      <td>1</td>\n",
       "      <td>0</td>\n",
       "      <td>1</td>\n",
       "      <td>4</td>\n",
       "      <td>0</td>\n",
       "      <td>6</td>\n",
       "      <td>0</td>\n",
       "      <td>1</td>\n",
       "      <td>0.24</td>\n",
       "      <td>0.2879</td>\n",
       "      <td>0.75</td>\n",
       "      <td>0.0</td>\n",
       "      <td>0</td>\n",
       "      <td>1</td>\n",
       "      <td>1</td>\n",
       "    </tr>\n",
       "  </tbody>\n",
       "</table>\n",
       "</div>"
      ],
      "text/plain": [
       "         date  season  year  month  hour  holiday  week_day  working_day  \\\n",
       "0  2011-01-01       1     0      1     0        0         6            0   \n",
       "1  2011-01-01       1     0      1     1        0         6            0   \n",
       "2  2011-01-01       1     0      1     2        0         6            0   \n",
       "3  2011-01-01       1     0      1     3        0         6            0   \n",
       "4  2011-01-01       1     0      1     4        0         6            0   \n",
       "\n",
       "   weather_sit  temprature  feel_temprature  humidity  wind_speed  \\\n",
       "0            1        0.24           0.2879      0.81         0.0   \n",
       "1            1        0.22           0.2727      0.80         0.0   \n",
       "2            1        0.22           0.2727      0.80         0.0   \n",
       "3            1        0.24           0.2879      0.75         0.0   \n",
       "4            1        0.24           0.2879      0.75         0.0   \n",
       "\n",
       "   casual_user  registered_user  total_user  \n",
       "0            3               13          16  \n",
       "1            8               32          40  \n",
       "2            5               27          32  \n",
       "3            3               10          13  \n",
       "4            0                1           1  "
      ]
     },
     "execution_count": 21,
     "metadata": {},
     "output_type": "execute_result"
    }
   ],
   "source": [
    "hour.head()"
   ]
  },
  {
   "cell_type": "markdown",
   "id": "5057afb8",
   "metadata": {},
   "source": [
    "Column instant telah didrop Karena berisi index, pandas dasarnya telah memiliki index jadi instant tidak dibutuhkan lagi"
   ]
  },
  {
   "cell_type": "markdown",
   "id": "ff0dd373",
   "metadata": {},
   "source": [
    "--------------------------------"
   ]
  },
  {
   "cell_type": "markdown",
   "id": "b2808634",
   "metadata": {},
   "source": [
    "### 3. Mengubah type column date menjadi type datetime"
   ]
  },
  {
   "cell_type": "markdown",
   "id": "1bba258c",
   "metadata": {},
   "source": [
    "### Day"
   ]
  },
  {
   "cell_type": "code",
   "execution_count": 22,
   "id": "e84ac223",
   "metadata": {},
   "outputs": [
    {
     "data": {
      "text/plain": [
       "0    2011-01-01\n",
       "1    2011-01-02\n",
       "2    2011-01-03\n",
       "3    2011-01-04\n",
       "4    2011-01-05\n",
       "Name: date, dtype: object"
      ]
     },
     "execution_count": 22,
     "metadata": {},
     "output_type": "execute_result"
    }
   ],
   "source": [
    "day.date[:5]"
   ]
  },
  {
   "cell_type": "code",
   "execution_count": 23,
   "id": "802d518e",
   "metadata": {},
   "outputs": [],
   "source": [
    "day.date = pd.to_datetime(day.date)"
   ]
  },
  {
   "cell_type": "code",
   "execution_count": 24,
   "id": "036b9c80",
   "metadata": {},
   "outputs": [
    {
     "name": "stdout",
     "output_type": "stream",
     "text": [
      "<class 'pandas.core.frame.DataFrame'>\n",
      "RangeIndex: 731 entries, 0 to 730\n",
      "Data columns (total 15 columns):\n",
      " #   Column           Non-Null Count  Dtype         \n",
      "---  ------           --------------  -----         \n",
      " 0   date             731 non-null    datetime64[ns]\n",
      " 1   season           731 non-null    int64         \n",
      " 2   year             731 non-null    int64         \n",
      " 3   month            731 non-null    int64         \n",
      " 4   holiday          731 non-null    int64         \n",
      " 5   week_day         731 non-null    int64         \n",
      " 6   working_day      731 non-null    int64         \n",
      " 7   weather_sit      731 non-null    int64         \n",
      " 8   temprature       731 non-null    float64       \n",
      " 9   feel_temprature  731 non-null    float64       \n",
      " 10  humidity         731 non-null    float64       \n",
      " 11  wind_speed       731 non-null    float64       \n",
      " 12  casual_user      731 non-null    int64         \n",
      " 13  registered_user  731 non-null    int64         \n",
      " 14  total_user       731 non-null    int64         \n",
      "dtypes: datetime64[ns](1), float64(4), int64(10)\n",
      "memory usage: 85.8 KB\n"
     ]
    }
   ],
   "source": [
    "day.info()"
   ]
  },
  {
   "cell_type": "markdown",
   "id": "b16ede0f",
   "metadata": {},
   "source": [
    "### Hour"
   ]
  },
  {
   "cell_type": "code",
   "execution_count": 25,
   "id": "0de1917f",
   "metadata": {},
   "outputs": [
    {
     "data": {
      "text/plain": [
       "0    2011-01-01\n",
       "1    2011-01-01\n",
       "2    2011-01-01\n",
       "3    2011-01-01\n",
       "4    2011-01-01\n",
       "Name: date, dtype: object"
      ]
     },
     "execution_count": 25,
     "metadata": {},
     "output_type": "execute_result"
    }
   ],
   "source": [
    "hour.date[:5]"
   ]
  },
  {
   "cell_type": "code",
   "execution_count": 26,
   "id": "2317b65f",
   "metadata": {},
   "outputs": [],
   "source": [
    "hour.date = pd.to_datetime(hour.date)"
   ]
  },
  {
   "cell_type": "code",
   "execution_count": 27,
   "id": "74561344",
   "metadata": {},
   "outputs": [
    {
     "name": "stdout",
     "output_type": "stream",
     "text": [
      "<class 'pandas.core.frame.DataFrame'>\n",
      "RangeIndex: 17379 entries, 0 to 17378\n",
      "Data columns (total 16 columns):\n",
      " #   Column           Non-Null Count  Dtype         \n",
      "---  ------           --------------  -----         \n",
      " 0   date             17379 non-null  datetime64[ns]\n",
      " 1   season           17379 non-null  int64         \n",
      " 2   year             17379 non-null  int64         \n",
      " 3   month            17379 non-null  int64         \n",
      " 4   hour             17379 non-null  int64         \n",
      " 5   holiday          17379 non-null  int64         \n",
      " 6   week_day         17379 non-null  int64         \n",
      " 7   working_day      17379 non-null  int64         \n",
      " 8   weather_sit      17379 non-null  int64         \n",
      " 9   temprature       17379 non-null  float64       \n",
      " 10  feel_temprature  17379 non-null  float64       \n",
      " 11  humidity         17379 non-null  float64       \n",
      " 12  wind_speed       17379 non-null  float64       \n",
      " 13  casual_user      17379 non-null  int64         \n",
      " 14  registered_user  17379 non-null  int64         \n",
      " 15  total_user       17379 non-null  int64         \n",
      "dtypes: datetime64[ns](1), float64(4), int64(11)\n",
      "memory usage: 2.1 MB\n"
     ]
    }
   ],
   "source": [
    "hour.info()"
   ]
  },
  {
   "cell_type": "markdown",
   "id": "8014d610",
   "metadata": {},
   "source": [
    "--------------------------------------------------------------"
   ]
  },
  {
   "cell_type": "markdown",
   "id": "7160df00",
   "metadata": {},
   "source": [
    "### 4. Mengembalikan value column"
   ]
  },
  {
   "cell_type": "markdown",
   "id": "43eb64b8",
   "metadata": {},
   "source": [
    "Berdasarkan dataset characteristic, column:\n",
    "   1. `temprature` valuenya telah dibagi 41\n",
    "   2. `feel_temprature` valuenya telah dibagi 50\n",
    "   3. `humidity` valuenya telah dibagi 100\n",
    "   4. `wind_speed` valuenya telah dibagi 67\n",
    "\n",
    "\n",
    "Bermadsud untuk mengembalikan value untuk memudahkan dalam analisis"
   ]
  },
  {
   "cell_type": "markdown",
   "id": "b81c46a7",
   "metadata": {},
   "source": [
    "### Day"
   ]
  },
  {
   "cell_type": "code",
   "execution_count": 28,
   "id": "5acca5bd",
   "metadata": {},
   "outputs": [
    {
     "data": {
      "text/html": [
       "<div>\n",
       "<style scoped>\n",
       "    .dataframe tbody tr th:only-of-type {\n",
       "        vertical-align: middle;\n",
       "    }\n",
       "\n",
       "    .dataframe tbody tr th {\n",
       "        vertical-align: top;\n",
       "    }\n",
       "\n",
       "    .dataframe thead th {\n",
       "        text-align: right;\n",
       "    }\n",
       "</style>\n",
       "<table border=\"1\" class=\"dataframe\">\n",
       "  <thead>\n",
       "    <tr style=\"text-align: right;\">\n",
       "      <th></th>\n",
       "      <th>temprature</th>\n",
       "      <th>feel_temprature</th>\n",
       "      <th>humidity</th>\n",
       "      <th>wind_speed</th>\n",
       "    </tr>\n",
       "  </thead>\n",
       "  <tbody>\n",
       "    <tr>\n",
       "      <th>0</th>\n",
       "      <td>0.344167</td>\n",
       "      <td>0.363625</td>\n",
       "      <td>0.805833</td>\n",
       "      <td>0.160446</td>\n",
       "    </tr>\n",
       "    <tr>\n",
       "      <th>1</th>\n",
       "      <td>0.363478</td>\n",
       "      <td>0.353739</td>\n",
       "      <td>0.696087</td>\n",
       "      <td>0.248539</td>\n",
       "    </tr>\n",
       "    <tr>\n",
       "      <th>2</th>\n",
       "      <td>0.196364</td>\n",
       "      <td>0.189405</td>\n",
       "      <td>0.437273</td>\n",
       "      <td>0.248309</td>\n",
       "    </tr>\n",
       "    <tr>\n",
       "      <th>3</th>\n",
       "      <td>0.200000</td>\n",
       "      <td>0.212122</td>\n",
       "      <td>0.590435</td>\n",
       "      <td>0.160296</td>\n",
       "    </tr>\n",
       "    <tr>\n",
       "      <th>4</th>\n",
       "      <td>0.226957</td>\n",
       "      <td>0.229270</td>\n",
       "      <td>0.436957</td>\n",
       "      <td>0.186900</td>\n",
       "    </tr>\n",
       "  </tbody>\n",
       "</table>\n",
       "</div>"
      ],
      "text/plain": [
       "   temprature  feel_temprature  humidity  wind_speed\n",
       "0    0.344167         0.363625  0.805833    0.160446\n",
       "1    0.363478         0.353739  0.696087    0.248539\n",
       "2    0.196364         0.189405  0.437273    0.248309\n",
       "3    0.200000         0.212122  0.590435    0.160296\n",
       "4    0.226957         0.229270  0.436957    0.186900"
      ]
     },
     "execution_count": 28,
     "metadata": {},
     "output_type": "execute_result"
    }
   ],
   "source": [
    "day[['temprature', 'feel_temprature', 'humidity', 'wind_speed']].head()"
   ]
  },
  {
   "cell_type": "code",
   "execution_count": 29,
   "id": "69c299f1",
   "metadata": {},
   "outputs": [],
   "source": [
    "changes = ['temprature', 'feel_temprature', 'humidity', 'wind_speed']\n",
    "for change in changes:\n",
    "    if change == 'temprature':\n",
    "        day[f'{change}'] = round(day[f'{change}']*41, 2)\n",
    "    elif change == 'feel_temprature':\n",
    "        day[f'{change}'] = round(day[f'{change}']*50, 2)\n",
    "    elif change == 'humidity':\n",
    "        day[f'{change}'] = round(day[f'{change}']*100, 2)\n",
    "    elif change == 'wind_speed':\n",
    "        day[f'{change}'] = round(day[f'{change}']*67, 2)"
   ]
  },
  {
   "cell_type": "code",
   "execution_count": 30,
   "id": "08af85a8",
   "metadata": {},
   "outputs": [
    {
     "data": {
      "text/html": [
       "<div>\n",
       "<style scoped>\n",
       "    .dataframe tbody tr th:only-of-type {\n",
       "        vertical-align: middle;\n",
       "    }\n",
       "\n",
       "    .dataframe tbody tr th {\n",
       "        vertical-align: top;\n",
       "    }\n",
       "\n",
       "    .dataframe thead th {\n",
       "        text-align: right;\n",
       "    }\n",
       "</style>\n",
       "<table border=\"1\" class=\"dataframe\">\n",
       "  <thead>\n",
       "    <tr style=\"text-align: right;\">\n",
       "      <th></th>\n",
       "      <th>temprature</th>\n",
       "      <th>feel_temprature</th>\n",
       "      <th>humidity</th>\n",
       "      <th>wind_speed</th>\n",
       "    </tr>\n",
       "  </thead>\n",
       "  <tbody>\n",
       "    <tr>\n",
       "      <th>409</th>\n",
       "      <td>13.09</td>\n",
       "      <td>16.70</td>\n",
       "      <td>50.88</td>\n",
       "      <td>9.46</td>\n",
       "    </tr>\n",
       "    <tr>\n",
       "      <th>722</th>\n",
       "      <td>10.08</td>\n",
       "      <td>12.97</td>\n",
       "      <td>51.54</td>\n",
       "      <td>8.92</td>\n",
       "    </tr>\n",
       "    <tr>\n",
       "      <th>415</th>\n",
       "      <td>11.48</td>\n",
       "      <td>13.67</td>\n",
       "      <td>50.78</td>\n",
       "      <td>15.35</td>\n",
       "    </tr>\n",
       "    <tr>\n",
       "      <th>330</th>\n",
       "      <td>18.83</td>\n",
       "      <td>22.79</td>\n",
       "      <td>69.83</td>\n",
       "      <td>14.00</td>\n",
       "    </tr>\n",
       "    <tr>\n",
       "      <th>568</th>\n",
       "      <td>27.37</td>\n",
       "      <td>31.16</td>\n",
       "      <td>76.25</td>\n",
       "      <td>6.29</td>\n",
       "    </tr>\n",
       "  </tbody>\n",
       "</table>\n",
       "</div>"
      ],
      "text/plain": [
       "     temprature  feel_temprature  humidity  wind_speed\n",
       "409       13.09            16.70     50.88        9.46\n",
       "722       10.08            12.97     51.54        8.92\n",
       "415       11.48            13.67     50.78       15.35\n",
       "330       18.83            22.79     69.83       14.00\n",
       "568       27.37            31.16     76.25        6.29"
      ]
     },
     "execution_count": 30,
     "metadata": {},
     "output_type": "execute_result"
    }
   ],
   "source": [
    "day[['temprature', 'feel_temprature', 'humidity', 'wind_speed']].sample(5)"
   ]
  },
  {
   "cell_type": "markdown",
   "id": "5e10809d",
   "metadata": {},
   "source": [
    "### Hour"
   ]
  },
  {
   "cell_type": "code",
   "execution_count": 31,
   "id": "6ff2feff",
   "metadata": {},
   "outputs": [
    {
     "data": {
      "text/html": [
       "<div>\n",
       "<style scoped>\n",
       "    .dataframe tbody tr th:only-of-type {\n",
       "        vertical-align: middle;\n",
       "    }\n",
       "\n",
       "    .dataframe tbody tr th {\n",
       "        vertical-align: top;\n",
       "    }\n",
       "\n",
       "    .dataframe thead th {\n",
       "        text-align: right;\n",
       "    }\n",
       "</style>\n",
       "<table border=\"1\" class=\"dataframe\">\n",
       "  <thead>\n",
       "    <tr style=\"text-align: right;\">\n",
       "      <th></th>\n",
       "      <th>temprature</th>\n",
       "      <th>feel_temprature</th>\n",
       "      <th>humidity</th>\n",
       "      <th>wind_speed</th>\n",
       "    </tr>\n",
       "  </thead>\n",
       "  <tbody>\n",
       "    <tr>\n",
       "      <th>0</th>\n",
       "      <td>0.24</td>\n",
       "      <td>0.2879</td>\n",
       "      <td>0.81</td>\n",
       "      <td>0.0</td>\n",
       "    </tr>\n",
       "    <tr>\n",
       "      <th>1</th>\n",
       "      <td>0.22</td>\n",
       "      <td>0.2727</td>\n",
       "      <td>0.80</td>\n",
       "      <td>0.0</td>\n",
       "    </tr>\n",
       "    <tr>\n",
       "      <th>2</th>\n",
       "      <td>0.22</td>\n",
       "      <td>0.2727</td>\n",
       "      <td>0.80</td>\n",
       "      <td>0.0</td>\n",
       "    </tr>\n",
       "    <tr>\n",
       "      <th>3</th>\n",
       "      <td>0.24</td>\n",
       "      <td>0.2879</td>\n",
       "      <td>0.75</td>\n",
       "      <td>0.0</td>\n",
       "    </tr>\n",
       "    <tr>\n",
       "      <th>4</th>\n",
       "      <td>0.24</td>\n",
       "      <td>0.2879</td>\n",
       "      <td>0.75</td>\n",
       "      <td>0.0</td>\n",
       "    </tr>\n",
       "  </tbody>\n",
       "</table>\n",
       "</div>"
      ],
      "text/plain": [
       "   temprature  feel_temprature  humidity  wind_speed\n",
       "0        0.24           0.2879      0.81         0.0\n",
       "1        0.22           0.2727      0.80         0.0\n",
       "2        0.22           0.2727      0.80         0.0\n",
       "3        0.24           0.2879      0.75         0.0\n",
       "4        0.24           0.2879      0.75         0.0"
      ]
     },
     "execution_count": 31,
     "metadata": {},
     "output_type": "execute_result"
    }
   ],
   "source": [
    "hour[['temprature', 'feel_temprature', 'humidity', 'wind_speed']].head()"
   ]
  },
  {
   "cell_type": "code",
   "execution_count": 32,
   "id": "7db9f14b",
   "metadata": {},
   "outputs": [],
   "source": [
    "changes = ['temprature', 'feel_temprature', 'humidity', 'wind_speed']\n",
    "for change in changes:\n",
    "    if change == 'temprature':\n",
    "        hour[f'{change}'] = round(hour[f'{change}']*41, 2)\n",
    "    elif change == 'feel_temprature':\n",
    "        hour[f'{change}'] = round(hour[f'{change}']*50, 2)\n",
    "    elif change == 'humidity':\n",
    "        hour[f'{change}'] = round(hour[f'{change}']*100, 2)\n",
    "    elif change == 'wind_speed':\n",
    "        hour[f'{change}'] = round(hour[f'{change}']*67, 2)"
   ]
  },
  {
   "cell_type": "code",
   "execution_count": 33,
   "id": "7ef04e5a",
   "metadata": {},
   "outputs": [
    {
     "data": {
      "text/html": [
       "<div>\n",
       "<style scoped>\n",
       "    .dataframe tbody tr th:only-of-type {\n",
       "        vertical-align: middle;\n",
       "    }\n",
       "\n",
       "    .dataframe tbody tr th {\n",
       "        vertical-align: top;\n",
       "    }\n",
       "\n",
       "    .dataframe thead th {\n",
       "        text-align: right;\n",
       "    }\n",
       "</style>\n",
       "<table border=\"1\" class=\"dataframe\">\n",
       "  <thead>\n",
       "    <tr style=\"text-align: right;\">\n",
       "      <th></th>\n",
       "      <th>temprature</th>\n",
       "      <th>feel_temprature</th>\n",
       "      <th>humidity</th>\n",
       "      <th>wind_speed</th>\n",
       "    </tr>\n",
       "  </thead>\n",
       "  <tbody>\n",
       "    <tr>\n",
       "      <th>3316</th>\n",
       "      <td>22.96</td>\n",
       "      <td>26.52</td>\n",
       "      <td>88.0</td>\n",
       "      <td>11.0</td>\n",
       "    </tr>\n",
       "    <tr>\n",
       "      <th>11869</th>\n",
       "      <td>23.78</td>\n",
       "      <td>27.28</td>\n",
       "      <td>83.0</td>\n",
       "      <td>0.0</td>\n",
       "    </tr>\n",
       "    <tr>\n",
       "      <th>5010</th>\n",
       "      <td>36.90</td>\n",
       "      <td>39.40</td>\n",
       "      <td>27.0</td>\n",
       "      <td>0.0</td>\n",
       "    </tr>\n",
       "    <tr>\n",
       "      <th>15101</th>\n",
       "      <td>24.60</td>\n",
       "      <td>29.54</td>\n",
       "      <td>73.0</td>\n",
       "      <td>19.0</td>\n",
       "    </tr>\n",
       "    <tr>\n",
       "      <th>15308</th>\n",
       "      <td>22.14</td>\n",
       "      <td>25.76</td>\n",
       "      <td>68.0</td>\n",
       "      <td>7.0</td>\n",
       "    </tr>\n",
       "  </tbody>\n",
       "</table>\n",
       "</div>"
      ],
      "text/plain": [
       "       temprature  feel_temprature  humidity  wind_speed\n",
       "3316        22.96            26.52      88.0        11.0\n",
       "11869       23.78            27.28      83.0         0.0\n",
       "5010        36.90            39.40      27.0         0.0\n",
       "15101       24.60            29.54      73.0        19.0\n",
       "15308       22.14            25.76      68.0         7.0"
      ]
     },
     "execution_count": 33,
     "metadata": {},
     "output_type": "execute_result"
    }
   ],
   "source": [
    "hour[['temprature', 'feel_temprature', 'humidity', 'wind_speed']].sample(5)"
   ]
  },
  {
   "cell_type": "markdown",
   "id": "3c4b640e",
   "metadata": {},
   "source": [
    "Dengan mengembalikan kolom tersebut ke value semula, kita dimudahkan untuk memahami kondisi pada setiap columnnya, akan tetapi masih terdapat **inaccurate data** sehingga saya perlu memanipulasinya"
   ]
  },
  {
   "cell_type": "markdown",
   "id": "23e76f7a",
   "metadata": {},
   "source": [
    "### 5. Memanipulasi dataset `day` pada column `humidity`"
   ]
  },
  {
   "cell_type": "code",
   "execution_count": 34,
   "id": "530a42fd",
   "metadata": {},
   "outputs": [
    {
     "data": {
      "text/plain": [
       "count    731.000000\n",
       "mean      62.789357\n",
       "std       14.242923\n",
       "min        0.000000\n",
       "25%       52.000000\n",
       "50%       62.670000\n",
       "75%       73.020000\n",
       "max       97.250000\n",
       "Name: humidity, dtype: float64"
      ]
     },
     "execution_count": 34,
     "metadata": {},
     "output_type": "execute_result"
    }
   ],
   "source": [
    "day.humidity.describe()"
   ]
  },
  {
   "cell_type": "code",
   "execution_count": 35,
   "id": "4b858625",
   "metadata": {},
   "outputs": [
    {
     "data": {
      "text/html": [
       "<div>\n",
       "<style scoped>\n",
       "    .dataframe tbody tr th:only-of-type {\n",
       "        vertical-align: middle;\n",
       "    }\n",
       "\n",
       "    .dataframe tbody tr th {\n",
       "        vertical-align: top;\n",
       "    }\n",
       "\n",
       "    .dataframe thead th {\n",
       "        text-align: right;\n",
       "    }\n",
       "</style>\n",
       "<table border=\"1\" class=\"dataframe\">\n",
       "  <thead>\n",
       "    <tr style=\"text-align: right;\">\n",
       "      <th></th>\n",
       "      <th>date</th>\n",
       "      <th>season</th>\n",
       "      <th>year</th>\n",
       "      <th>month</th>\n",
       "      <th>holiday</th>\n",
       "      <th>week_day</th>\n",
       "      <th>working_day</th>\n",
       "      <th>weather_sit</th>\n",
       "      <th>temprature</th>\n",
       "      <th>feel_temprature</th>\n",
       "      <th>humidity</th>\n",
       "      <th>wind_speed</th>\n",
       "      <th>casual_user</th>\n",
       "      <th>registered_user</th>\n",
       "      <th>total_user</th>\n",
       "    </tr>\n",
       "  </thead>\n",
       "  <tbody>\n",
       "    <tr>\n",
       "      <th>68</th>\n",
       "      <td>2011-03-10</td>\n",
       "      <td>1</td>\n",
       "      <td>0</td>\n",
       "      <td>3</td>\n",
       "      <td>0</td>\n",
       "      <td>4</td>\n",
       "      <td>1</td>\n",
       "      <td>3</td>\n",
       "      <td>15.95</td>\n",
       "      <td>19.28</td>\n",
       "      <td>0.0</td>\n",
       "      <td>17.55</td>\n",
       "      <td>46</td>\n",
       "      <td>577</td>\n",
       "      <td>623</td>\n",
       "    </tr>\n",
       "  </tbody>\n",
       "</table>\n",
       "</div>"
      ],
      "text/plain": [
       "         date  season  year  month  holiday  week_day  working_day  \\\n",
       "68 2011-03-10       1     0      3        0         4            1   \n",
       "\n",
       "    weather_sit  temprature  feel_temprature  humidity  wind_speed  \\\n",
       "68            3       15.95            19.28       0.0       17.55   \n",
       "\n",
       "    casual_user  registered_user  total_user  \n",
       "68           46              577         623  "
      ]
     },
     "execution_count": 35,
     "metadata": {},
     "output_type": "execute_result"
    }
   ],
   "source": [
    "day[day['humidity'] == 0]"
   ]
  },
  {
   "cell_type": "code",
   "execution_count": 36,
   "id": "fdde0c87",
   "metadata": {},
   "outputs": [
    {
     "data": {
      "text/plain": [
       "count    731.000000\n",
       "mean      62.875089\n",
       "std       14.051791\n",
       "min       18.790000\n",
       "25%       52.105000\n",
       "50%       62.670000\n",
       "75%       73.020000\n",
       "max       97.250000\n",
       "Name: humidity, dtype: float64"
      ]
     },
     "execution_count": 36,
     "metadata": {},
     "output_type": "execute_result"
    }
   ],
   "source": [
    "day.humidity.replace(day.humidity.min(), 62.67, inplace=True)\n",
    "day.humidity.describe()"
   ]
  },
  {
   "cell_type": "markdown",
   "id": "3daf8009",
   "metadata": {},
   "source": [
    "Saya mengganti value yang 0 dengan median karena perbedaan mean dan median yang tidak berbeda jauh, serta baris yang memiliki 0 hanya ada 1"
   ]
  },
  {
   "cell_type": "markdown",
   "id": "18705dbe",
   "metadata": {},
   "source": [
    "----------------------------------------------"
   ]
  },
  {
   "cell_type": "markdown",
   "id": "eb06919b",
   "metadata": {},
   "source": [
    "### 6. Memanipulasi dataset `hour` pada column `feel_temprature`, `humidity`, dan `wind_speed`"
   ]
  },
  {
   "cell_type": "code",
   "execution_count": 37,
   "id": "4468d4da",
   "metadata": {},
   "outputs": [
    {
     "data": {
      "text/html": [
       "<div>\n",
       "<style scoped>\n",
       "    .dataframe tbody tr th:only-of-type {\n",
       "        vertical-align: middle;\n",
       "    }\n",
       "\n",
       "    .dataframe tbody tr th {\n",
       "        vertical-align: top;\n",
       "    }\n",
       "\n",
       "    .dataframe thead th {\n",
       "        text-align: right;\n",
       "    }\n",
       "</style>\n",
       "<table border=\"1\" class=\"dataframe\">\n",
       "  <thead>\n",
       "    <tr style=\"text-align: right;\">\n",
       "      <th></th>\n",
       "      <th>season</th>\n",
       "      <th>year</th>\n",
       "      <th>month</th>\n",
       "      <th>hour</th>\n",
       "      <th>holiday</th>\n",
       "      <th>week_day</th>\n",
       "      <th>working_day</th>\n",
       "      <th>weather_sit</th>\n",
       "      <th>temprature</th>\n",
       "      <th>feel_temprature</th>\n",
       "      <th>humidity</th>\n",
       "      <th>wind_speed</th>\n",
       "      <th>casual_user</th>\n",
       "      <th>registered_user</th>\n",
       "      <th>total_user</th>\n",
       "    </tr>\n",
       "  </thead>\n",
       "  <tbody>\n",
       "    <tr>\n",
       "      <th>count</th>\n",
       "      <td>17379.000000</td>\n",
       "      <td>17379.000000</td>\n",
       "      <td>17379.000000</td>\n",
       "      <td>17379.000000</td>\n",
       "      <td>17379.000000</td>\n",
       "      <td>17379.000000</td>\n",
       "      <td>17379.000000</td>\n",
       "      <td>17379.000000</td>\n",
       "      <td>17379.000000</td>\n",
       "      <td>17379.000000</td>\n",
       "      <td>17379.000000</td>\n",
       "      <td>17379.000000</td>\n",
       "      <td>17379.000000</td>\n",
       "      <td>17379.000000</td>\n",
       "      <td>17379.000000</td>\n",
       "    </tr>\n",
       "    <tr>\n",
       "      <th>mean</th>\n",
       "      <td>2.501640</td>\n",
       "      <td>0.502561</td>\n",
       "      <td>6.537775</td>\n",
       "      <td>11.546752</td>\n",
       "      <td>0.028770</td>\n",
       "      <td>3.003683</td>\n",
       "      <td>0.682721</td>\n",
       "      <td>1.425283</td>\n",
       "      <td>20.376474</td>\n",
       "      <td>23.788484</td>\n",
       "      <td>62.722884</td>\n",
       "      <td>12.736233</td>\n",
       "      <td>35.676218</td>\n",
       "      <td>153.786869</td>\n",
       "      <td>189.463088</td>\n",
       "    </tr>\n",
       "    <tr>\n",
       "      <th>std</th>\n",
       "      <td>1.106918</td>\n",
       "      <td>0.500008</td>\n",
       "      <td>3.438776</td>\n",
       "      <td>6.914405</td>\n",
       "      <td>0.167165</td>\n",
       "      <td>2.005771</td>\n",
       "      <td>0.465431</td>\n",
       "      <td>0.639357</td>\n",
       "      <td>7.894801</td>\n",
       "      <td>8.592587</td>\n",
       "      <td>19.292983</td>\n",
       "      <td>8.196891</td>\n",
       "      <td>49.305030</td>\n",
       "      <td>151.357286</td>\n",
       "      <td>181.387599</td>\n",
       "    </tr>\n",
       "    <tr>\n",
       "      <th>min</th>\n",
       "      <td>1.000000</td>\n",
       "      <td>0.000000</td>\n",
       "      <td>1.000000</td>\n",
       "      <td>0.000000</td>\n",
       "      <td>0.000000</td>\n",
       "      <td>0.000000</td>\n",
       "      <td>0.000000</td>\n",
       "      <td>1.000000</td>\n",
       "      <td>0.820000</td>\n",
       "      <td>0.000000</td>\n",
       "      <td>0.000000</td>\n",
       "      <td>0.000000</td>\n",
       "      <td>0.000000</td>\n",
       "      <td>0.000000</td>\n",
       "      <td>1.000000</td>\n",
       "    </tr>\n",
       "    <tr>\n",
       "      <th>25%</th>\n",
       "      <td>2.000000</td>\n",
       "      <td>0.000000</td>\n",
       "      <td>4.000000</td>\n",
       "      <td>6.000000</td>\n",
       "      <td>0.000000</td>\n",
       "      <td>1.000000</td>\n",
       "      <td>0.000000</td>\n",
       "      <td>1.000000</td>\n",
       "      <td>13.940000</td>\n",
       "      <td>16.660000</td>\n",
       "      <td>48.000000</td>\n",
       "      <td>7.000000</td>\n",
       "      <td>4.000000</td>\n",
       "      <td>34.000000</td>\n",
       "      <td>40.000000</td>\n",
       "    </tr>\n",
       "    <tr>\n",
       "      <th>50%</th>\n",
       "      <td>3.000000</td>\n",
       "      <td>1.000000</td>\n",
       "      <td>7.000000</td>\n",
       "      <td>12.000000</td>\n",
       "      <td>0.000000</td>\n",
       "      <td>3.000000</td>\n",
       "      <td>1.000000</td>\n",
       "      <td>1.000000</td>\n",
       "      <td>20.500000</td>\n",
       "      <td>24.240000</td>\n",
       "      <td>63.000000</td>\n",
       "      <td>13.000000</td>\n",
       "      <td>17.000000</td>\n",
       "      <td>115.000000</td>\n",
       "      <td>142.000000</td>\n",
       "    </tr>\n",
       "    <tr>\n",
       "      <th>75%</th>\n",
       "      <td>3.000000</td>\n",
       "      <td>1.000000</td>\n",
       "      <td>10.000000</td>\n",
       "      <td>18.000000</td>\n",
       "      <td>0.000000</td>\n",
       "      <td>5.000000</td>\n",
       "      <td>1.000000</td>\n",
       "      <td>2.000000</td>\n",
       "      <td>27.060000</td>\n",
       "      <td>31.060000</td>\n",
       "      <td>78.000000</td>\n",
       "      <td>17.000000</td>\n",
       "      <td>48.000000</td>\n",
       "      <td>220.000000</td>\n",
       "      <td>281.000000</td>\n",
       "    </tr>\n",
       "    <tr>\n",
       "      <th>max</th>\n",
       "      <td>4.000000</td>\n",
       "      <td>1.000000</td>\n",
       "      <td>12.000000</td>\n",
       "      <td>23.000000</td>\n",
       "      <td>1.000000</td>\n",
       "      <td>6.000000</td>\n",
       "      <td>1.000000</td>\n",
       "      <td>4.000000</td>\n",
       "      <td>41.000000</td>\n",
       "      <td>50.000000</td>\n",
       "      <td>100.000000</td>\n",
       "      <td>57.000000</td>\n",
       "      <td>367.000000</td>\n",
       "      <td>886.000000</td>\n",
       "      <td>977.000000</td>\n",
       "    </tr>\n",
       "  </tbody>\n",
       "</table>\n",
       "</div>"
      ],
      "text/plain": [
       "             season          year         month          hour       holiday  \\\n",
       "count  17379.000000  17379.000000  17379.000000  17379.000000  17379.000000   \n",
       "mean       2.501640      0.502561      6.537775     11.546752      0.028770   \n",
       "std        1.106918      0.500008      3.438776      6.914405      0.167165   \n",
       "min        1.000000      0.000000      1.000000      0.000000      0.000000   \n",
       "25%        2.000000      0.000000      4.000000      6.000000      0.000000   \n",
       "50%        3.000000      1.000000      7.000000     12.000000      0.000000   \n",
       "75%        3.000000      1.000000     10.000000     18.000000      0.000000   \n",
       "max        4.000000      1.000000     12.000000     23.000000      1.000000   \n",
       "\n",
       "           week_day   working_day   weather_sit    temprature  \\\n",
       "count  17379.000000  17379.000000  17379.000000  17379.000000   \n",
       "mean       3.003683      0.682721      1.425283     20.376474   \n",
       "std        2.005771      0.465431      0.639357      7.894801   \n",
       "min        0.000000      0.000000      1.000000      0.820000   \n",
       "25%        1.000000      0.000000      1.000000     13.940000   \n",
       "50%        3.000000      1.000000      1.000000     20.500000   \n",
       "75%        5.000000      1.000000      2.000000     27.060000   \n",
       "max        6.000000      1.000000      4.000000     41.000000   \n",
       "\n",
       "       feel_temprature      humidity    wind_speed   casual_user  \\\n",
       "count     17379.000000  17379.000000  17379.000000  17379.000000   \n",
       "mean         23.788484     62.722884     12.736233     35.676218   \n",
       "std           8.592587     19.292983      8.196891     49.305030   \n",
       "min           0.000000      0.000000      0.000000      0.000000   \n",
       "25%          16.660000     48.000000      7.000000      4.000000   \n",
       "50%          24.240000     63.000000     13.000000     17.000000   \n",
       "75%          31.060000     78.000000     17.000000     48.000000   \n",
       "max          50.000000    100.000000     57.000000    367.000000   \n",
       "\n",
       "       registered_user    total_user  \n",
       "count     17379.000000  17379.000000  \n",
       "mean        153.786869    189.463088  \n",
       "std         151.357286    181.387599  \n",
       "min           0.000000      1.000000  \n",
       "25%          34.000000     40.000000  \n",
       "50%         115.000000    142.000000  \n",
       "75%         220.000000    281.000000  \n",
       "max         886.000000    977.000000  "
      ]
     },
     "execution_count": 37,
     "metadata": {},
     "output_type": "execute_result"
    }
   ],
   "source": [
    "hour.describe()"
   ]
  },
  {
   "cell_type": "code",
   "execution_count": 38,
   "id": "ccffc2ea",
   "metadata": {},
   "outputs": [
    {
     "data": {
      "text/html": [
       "<div>\n",
       "<style scoped>\n",
       "    .dataframe tbody tr th:only-of-type {\n",
       "        vertical-align: middle;\n",
       "    }\n",
       "\n",
       "    .dataframe tbody tr th {\n",
       "        vertical-align: top;\n",
       "    }\n",
       "\n",
       "    .dataframe thead th {\n",
       "        text-align: right;\n",
       "    }\n",
       "</style>\n",
       "<table border=\"1\" class=\"dataframe\">\n",
       "  <thead>\n",
       "    <tr style=\"text-align: right;\">\n",
       "      <th></th>\n",
       "      <th>feel_temprature</th>\n",
       "      <th>humidity</th>\n",
       "      <th>wind_speed</th>\n",
       "    </tr>\n",
       "  </thead>\n",
       "  <tbody>\n",
       "    <tr>\n",
       "      <th>count</th>\n",
       "      <td>17379.000000</td>\n",
       "      <td>17379.000000</td>\n",
       "      <td>17379.000000</td>\n",
       "    </tr>\n",
       "    <tr>\n",
       "      <th>mean</th>\n",
       "      <td>23.788484</td>\n",
       "      <td>62.722884</td>\n",
       "      <td>12.736233</td>\n",
       "    </tr>\n",
       "    <tr>\n",
       "      <th>std</th>\n",
       "      <td>8.592587</td>\n",
       "      <td>19.292983</td>\n",
       "      <td>8.196891</td>\n",
       "    </tr>\n",
       "    <tr>\n",
       "      <th>min</th>\n",
       "      <td>0.000000</td>\n",
       "      <td>0.000000</td>\n",
       "      <td>0.000000</td>\n",
       "    </tr>\n",
       "    <tr>\n",
       "      <th>25%</th>\n",
       "      <td>16.660000</td>\n",
       "      <td>48.000000</td>\n",
       "      <td>7.000000</td>\n",
       "    </tr>\n",
       "    <tr>\n",
       "      <th>50%</th>\n",
       "      <td>24.240000</td>\n",
       "      <td>63.000000</td>\n",
       "      <td>13.000000</td>\n",
       "    </tr>\n",
       "    <tr>\n",
       "      <th>75%</th>\n",
       "      <td>31.060000</td>\n",
       "      <td>78.000000</td>\n",
       "      <td>17.000000</td>\n",
       "    </tr>\n",
       "    <tr>\n",
       "      <th>max</th>\n",
       "      <td>50.000000</td>\n",
       "      <td>100.000000</td>\n",
       "      <td>57.000000</td>\n",
       "    </tr>\n",
       "  </tbody>\n",
       "</table>\n",
       "</div>"
      ],
      "text/plain": [
       "       feel_temprature      humidity    wind_speed\n",
       "count     17379.000000  17379.000000  17379.000000\n",
       "mean         23.788484     62.722884     12.736233\n",
       "std           8.592587     19.292983      8.196891\n",
       "min           0.000000      0.000000      0.000000\n",
       "25%          16.660000     48.000000      7.000000\n",
       "50%          24.240000     63.000000     13.000000\n",
       "75%          31.060000     78.000000     17.000000\n",
       "max          50.000000    100.000000     57.000000"
      ]
     },
     "execution_count": 38,
     "metadata": {},
     "output_type": "execute_result"
    }
   ],
   "source": [
    "hour[['feel_temprature', 'humidity', 'wind_speed']].describe()"
   ]
  },
  {
   "cell_type": "code",
   "execution_count": 39,
   "id": "e1fc08b4",
   "metadata": {},
   "outputs": [
    {
     "name": "stdout",
     "output_type": "stream",
     "text": [
      "feel_temprature memiliki 0 value sebanyak: 2\n",
      "humidity memiliki 0 value sebanyak: 22\n",
      "wind_speed memiliki 0 value sebanyak: 2180\n"
     ]
    }
   ],
   "source": [
    "conditions = ['feel_temprature', 'humidity', 'wind_speed']\n",
    "for condition in conditions:\n",
    "    hasil = hour[hour[f'{condition}'] == 0][f'{condition}'].count()\n",
    "    print(f\"{condition} memiliki 0 value sebanyak: {hasil}\")"
   ]
  },
  {
   "cell_type": "code",
   "execution_count": 40,
   "id": "8e285eda",
   "metadata": {},
   "outputs": [],
   "source": [
    "hour.loc[hour['feel_temprature'] == 0, 'feel_temprature'] = 24.24\n",
    "hour.loc[hour['humidity'] == 0, 'humidity'] = 63.00\n",
    "hour.loc[hour['wind_speed'] == 0, 'wind_speed'] = 12.73"
   ]
  },
  {
   "cell_type": "code",
   "execution_count": 41,
   "id": "5e784fca",
   "metadata": {},
   "outputs": [
    {
     "data": {
      "text/html": [
       "<div>\n",
       "<style scoped>\n",
       "    .dataframe tbody tr th:only-of-type {\n",
       "        vertical-align: middle;\n",
       "    }\n",
       "\n",
       "    .dataframe tbody tr th {\n",
       "        vertical-align: top;\n",
       "    }\n",
       "\n",
       "    .dataframe thead th {\n",
       "        text-align: right;\n",
       "    }\n",
       "</style>\n",
       "<table border=\"1\" class=\"dataframe\">\n",
       "  <thead>\n",
       "    <tr style=\"text-align: right;\">\n",
       "      <th></th>\n",
       "      <th>feel_temprature</th>\n",
       "      <th>humidity</th>\n",
       "      <th>wind_speed</th>\n",
       "    </tr>\n",
       "  </thead>\n",
       "  <tbody>\n",
       "    <tr>\n",
       "      <th>count</th>\n",
       "      <td>17379.000000</td>\n",
       "      <td>17379.000000</td>\n",
       "      <td>17379.000000</td>\n",
       "    </tr>\n",
       "    <tr>\n",
       "      <th>mean</th>\n",
       "      <td>23.791274</td>\n",
       "      <td>62.802635</td>\n",
       "      <td>14.333069</td>\n",
       "    </tr>\n",
       "    <tr>\n",
       "      <th>std</th>\n",
       "      <td>8.588798</td>\n",
       "      <td>19.163309</td>\n",
       "      <td>6.655089</td>\n",
       "    </tr>\n",
       "    <tr>\n",
       "      <th>min</th>\n",
       "      <td>0.760000</td>\n",
       "      <td>8.000000</td>\n",
       "      <td>6.000000</td>\n",
       "    </tr>\n",
       "    <tr>\n",
       "      <th>25%</th>\n",
       "      <td>16.660000</td>\n",
       "      <td>48.000000</td>\n",
       "      <td>9.000000</td>\n",
       "    </tr>\n",
       "    <tr>\n",
       "      <th>50%</th>\n",
       "      <td>24.240000</td>\n",
       "      <td>63.000000</td>\n",
       "      <td>13.000000</td>\n",
       "    </tr>\n",
       "    <tr>\n",
       "      <th>75%</th>\n",
       "      <td>31.060000</td>\n",
       "      <td>78.000000</td>\n",
       "      <td>17.000000</td>\n",
       "    </tr>\n",
       "    <tr>\n",
       "      <th>max</th>\n",
       "      <td>50.000000</td>\n",
       "      <td>100.000000</td>\n",
       "      <td>57.000000</td>\n",
       "    </tr>\n",
       "  </tbody>\n",
       "</table>\n",
       "</div>"
      ],
      "text/plain": [
       "       feel_temprature      humidity    wind_speed\n",
       "count     17379.000000  17379.000000  17379.000000\n",
       "mean         23.791274     62.802635     14.333069\n",
       "std           8.588798     19.163309      6.655089\n",
       "min           0.760000      8.000000      6.000000\n",
       "25%          16.660000     48.000000      9.000000\n",
       "50%          24.240000     63.000000     13.000000\n",
       "75%          31.060000     78.000000     17.000000\n",
       "max          50.000000    100.000000     57.000000"
      ]
     },
     "execution_count": 41,
     "metadata": {},
     "output_type": "execute_result"
    }
   ],
   "source": [
    "hour[['feel_temprature', 'humidity', 'wind_speed']].describe()"
   ]
  },
  {
   "cell_type": "markdown",
   "id": "372ecc23",
   "metadata": {},
   "source": [
    "1. Untuk column `feel_temprature` dan `humidity` saya memanipulasi value 0 dengan **median** dari masing-masing kolom, karena jumlah value yang 0 tidak terlalu banyak\n",
    "\n",
    "2. Pada colum `wind_speed` saya memanipulasi value 0 dengan **nilai rata-ratanya** karena datanya lumayan banyak sehingga mean bisa mempresentasikan datanya"
   ]
  },
  {
   "cell_type": "markdown",
   "id": "a4c7d760",
   "metadata": {},
   "source": [
    "------------------------------------------------------------"
   ]
  },
  {
   "cell_type": "markdown",
   "id": "555c2a78",
   "metadata": {},
   "source": [
    "### 7. Merubah column `season`"
   ]
  },
  {
   "cell_type": "markdown",
   "id": "109a270b",
   "metadata": {},
   "source": [
    "Pada Dataset characteristics terdapat keterangan tentang column `season`, yaitu:\n",
    "   - springer = 1\n",
    "   - summer = 2\n",
    "   - fall = 3\n",
    "   - winter = 4\n",
    "\n",
    "Saya mengubah data tersebut untuk mempermudah pemahaman datanya"
   ]
  },
  {
   "cell_type": "markdown",
   "id": "34eee69c",
   "metadata": {},
   "source": [
    "### Day"
   ]
  },
  {
   "cell_type": "code",
   "execution_count": 42,
   "id": "c21d532e",
   "metadata": {},
   "outputs": [
    {
     "data": {
      "text/plain": [
       "3    188\n",
       "2    184\n",
       "1    181\n",
       "4    178\n",
       "Name: season, dtype: int64"
      ]
     },
     "execution_count": 42,
     "metadata": {},
     "output_type": "execute_result"
    }
   ],
   "source": [
    "day.season.value_counts()"
   ]
  },
  {
   "cell_type": "code",
   "execution_count": 43,
   "id": "9a8015d9",
   "metadata": {},
   "outputs": [
    {
     "data": {
      "text/plain": [
       "array(['springer', 'summer', 'fall', 'winter'], dtype=object)"
      ]
     },
     "execution_count": 43,
     "metadata": {},
     "output_type": "execute_result"
    }
   ],
   "source": [
    "day['season'] = day['season'].apply(lambda x: 'springer' if x == 1 else x)\n",
    "day['season'] = day['season'].apply(lambda x: 'summer' if x == 2 else x)\n",
    "day['season'] = day['season'].apply(lambda x: 'fall' if x == 3 else x)\n",
    "day['season'] = day['season'].apply(lambda x: 'winter' if x == 4 else x)\n",
    "\n",
    "day.season.unique()"
   ]
  },
  {
   "cell_type": "markdown",
   "id": "74b35e8f",
   "metadata": {},
   "source": [
    "### Hour"
   ]
  },
  {
   "cell_type": "code",
   "execution_count": 44,
   "id": "9e4d4af9",
   "metadata": {},
   "outputs": [
    {
     "data": {
      "text/plain": [
       "3    4496\n",
       "2    4409\n",
       "1    4242\n",
       "4    4232\n",
       "Name: season, dtype: int64"
      ]
     },
     "execution_count": 44,
     "metadata": {},
     "output_type": "execute_result"
    }
   ],
   "source": [
    "hour.season.value_counts()"
   ]
  },
  {
   "cell_type": "code",
   "execution_count": 45,
   "id": "de80fb21",
   "metadata": {},
   "outputs": [
    {
     "data": {
      "text/plain": [
       "array(['springer', 'summer', 'fall', 'winter'], dtype=object)"
      ]
     },
     "execution_count": 45,
     "metadata": {},
     "output_type": "execute_result"
    }
   ],
   "source": [
    "hour['season'] = hour['season'].apply(lambda x: 'springer' if x == 1 else x)\n",
    "hour['season'] = hour['season'].apply(lambda x: 'summer' if x == 2 else x)\n",
    "hour['season'] = hour['season'].apply(lambda x: 'fall' if x == 3 else x)\n",
    "hour['season'] = hour['season'].apply(lambda x: 'winter' if x == 4 else x)\n",
    "\n",
    "day.season.unique()"
   ]
  },
  {
   "cell_type": "markdown",
   "id": "b85525cd",
   "metadata": {},
   "source": [
    "Dengan mengubah value pada column season yang sebelumnya berupa numerik menjadi nama season itu sendiri, membuat kita memahami arti dari datanya"
   ]
  },
  {
   "cell_type": "markdown",
   "id": "d186e471",
   "metadata": {},
   "source": [
    "----------------------------------------------------------"
   ]
  },
  {
   "cell_type": "markdown",
   "id": "534ca8ba",
   "metadata": {},
   "source": [
    "### 8. Merubah column `year`"
   ]
  },
  {
   "cell_type": "markdown",
   "id": "737a1281",
   "metadata": {},
   "source": [
    "Pada Dataset characteristics terdapat keterangan tentang column `year`, yaitu:\n",
    "- 2011 = 0\n",
    "- 2012 = 1\n",
    "\n",
    "Saya mengubah data tersebut untuk mempermudah pemahaman datanya"
   ]
  },
  {
   "cell_type": "markdown",
   "id": "6b9ab699",
   "metadata": {},
   "source": [
    "### Day"
   ]
  },
  {
   "cell_type": "code",
   "execution_count": 46,
   "id": "29eff79a",
   "metadata": {},
   "outputs": [
    {
     "data": {
      "text/plain": [
       "1    366\n",
       "0    365\n",
       "Name: year, dtype: int64"
      ]
     },
     "execution_count": 46,
     "metadata": {},
     "output_type": "execute_result"
    }
   ],
   "source": [
    "day.year.value_counts()"
   ]
  },
  {
   "cell_type": "code",
   "execution_count": 47,
   "id": "c99cb9ea",
   "metadata": {},
   "outputs": [
    {
     "data": {
      "text/plain": [
       "array([2011, 2012], dtype=int64)"
      ]
     },
     "execution_count": 47,
     "metadata": {},
     "output_type": "execute_result"
    }
   ],
   "source": [
    "day['year'] = day['year'].apply(lambda x: 2011 if x == 0 else x)\n",
    "day['year'] = day['year'].apply(lambda x: 2012 if x == 1 else x)\n",
    "day.year.unique()"
   ]
  },
  {
   "cell_type": "markdown",
   "id": "0f9b5b12",
   "metadata": {},
   "source": [
    "### Hour"
   ]
  },
  {
   "cell_type": "code",
   "execution_count": 48,
   "id": "2f6e909c",
   "metadata": {},
   "outputs": [
    {
     "data": {
      "text/plain": [
       "1    8734\n",
       "0    8645\n",
       "Name: year, dtype: int64"
      ]
     },
     "execution_count": 48,
     "metadata": {},
     "output_type": "execute_result"
    }
   ],
   "source": [
    "hour.year.value_counts()"
   ]
  },
  {
   "cell_type": "code",
   "execution_count": 49,
   "id": "2ae50d7b",
   "metadata": {},
   "outputs": [
    {
     "data": {
      "text/plain": [
       "array([2011, 2012], dtype=int64)"
      ]
     },
     "execution_count": 49,
     "metadata": {},
     "output_type": "execute_result"
    }
   ],
   "source": [
    "hour['year'] = hour['year'].apply(lambda x: 2011 if x == 0 else x)\n",
    "hour['year'] = hour['year'].apply(lambda x: 2012 if x == 1 else x)\n",
    "hour.year.unique()"
   ]
  },
  {
   "cell_type": "markdown",
   "id": "b01c33f8",
   "metadata": {},
   "source": [
    "Dapat dilihat persebaran tahun pada kedua dataset itu merata, setelah kita mengubah valuenya"
   ]
  },
  {
   "cell_type": "markdown",
   "id": "45a5492b",
   "metadata": {},
   "source": [
    "--------------------------------------------------------------"
   ]
  },
  {
   "cell_type": "markdown",
   "id": "96965192",
   "metadata": {},
   "source": [
    "### 9. Merubah column `month`"
   ]
  },
  {
   "cell_type": "markdown",
   "id": "433984da",
   "metadata": {},
   "source": [
    "Melakukan perubahan untuk memahami data dengan mudah sesuai dengan bulannya"
   ]
  },
  {
   "cell_type": "markdown",
   "id": "02e9e64b",
   "metadata": {},
   "source": [
    "### Day"
   ]
  },
  {
   "cell_type": "code",
   "execution_count": 50,
   "id": "d58af2e7",
   "metadata": {},
   "outputs": [],
   "source": [
    "day.month = pd.to_datetime(day.month, format='%m').dt.strftime('%b')"
   ]
  },
  {
   "cell_type": "code",
   "execution_count": 51,
   "id": "d4f9e0f1",
   "metadata": {},
   "outputs": [
    {
     "data": {
      "text/plain": [
       "array(['Jan', 'Feb', 'Mar', 'Apr', 'May', 'Jun', 'Jul', 'Aug', 'Sep',\n",
       "       'Oct', 'Nov', 'Dec'], dtype=object)"
      ]
     },
     "execution_count": 51,
     "metadata": {},
     "output_type": "execute_result"
    }
   ],
   "source": [
    "day.month.unique()"
   ]
  },
  {
   "cell_type": "markdown",
   "id": "6d96fdba",
   "metadata": {},
   "source": [
    "### Hour"
   ]
  },
  {
   "cell_type": "code",
   "execution_count": 52,
   "id": "e446d342",
   "metadata": {},
   "outputs": [],
   "source": [
    "hour.month = pd.to_datetime(hour.month, format='%m').dt.strftime('%b')"
   ]
  },
  {
   "cell_type": "code",
   "execution_count": 53,
   "id": "de817f0a",
   "metadata": {},
   "outputs": [
    {
     "data": {
      "text/plain": [
       "array(['Jan', 'Feb', 'Mar', 'Apr', 'May', 'Jun', 'Jul', 'Aug', 'Sep',\n",
       "       'Oct', 'Nov', 'Dec'], dtype=object)"
      ]
     },
     "execution_count": 53,
     "metadata": {},
     "output_type": "execute_result"
    }
   ],
   "source": [
    "hour.month.unique()"
   ]
  },
  {
   "cell_type": "markdown",
   "id": "69a5f030",
   "metadata": {},
   "source": [
    "Melalui perubahan ini, kita bisa melihat persebaran datanya tergantung bulannya"
   ]
  },
  {
   "cell_type": "markdown",
   "id": "23b6427f",
   "metadata": {},
   "source": [
    "----------------------------------------------------"
   ]
  },
  {
   "cell_type": "markdown",
   "id": "115921ef",
   "metadata": {},
   "source": [
    "### 10. Merubah column `week_day`"
   ]
  },
  {
   "cell_type": "markdown",
   "id": "396bc48b",
   "metadata": {},
   "source": [
    "Melalui data characteristics dijelaskan bahwa dataset **day.csv** dan **hour.csv** merupakan data yang diperoleh dari system bike di kota Washington, yang berarti sunday merupakan hari pertama dalam hitungan minggu di US"
   ]
  },
  {
   "cell_type": "markdown",
   "id": "2018ed40",
   "metadata": {},
   "source": [
    "### Day"
   ]
  },
  {
   "cell_type": "code",
   "execution_count": 54,
   "id": "05eb2f57",
   "metadata": {},
   "outputs": [
    {
     "data": {
      "text/plain": [
       "6    105\n",
       "0    105\n",
       "1    105\n",
       "2    104\n",
       "3    104\n",
       "4    104\n",
       "5    104\n",
       "Name: week_day, dtype: int64"
      ]
     },
     "execution_count": 54,
     "metadata": {},
     "output_type": "execute_result"
    }
   ],
   "source": [
    "day.week_day.value_counts()"
   ]
  },
  {
   "cell_type": "code",
   "execution_count": 55,
   "id": "cf7efbe1",
   "metadata": {},
   "outputs": [
    {
     "data": {
      "text/plain": [
       "array(['saturday', 'sunday', 'monday', 'tuesday', 'wednesday',\n",
       "       'thursday ', 'friday'], dtype=object)"
      ]
     },
     "execution_count": 55,
     "metadata": {},
     "output_type": "execute_result"
    }
   ],
   "source": [
    "day['week_day'] = day['week_day'].apply(lambda x: 'sunday' if x == 0 else x)\n",
    "day['week_day'] = day['week_day'].apply(lambda x: 'monday' if x == 1 else x)\n",
    "day['week_day'] = day['week_day'].apply(lambda x: 'tuesday' if x == 2 else x)\n",
    "day['week_day'] = day['week_day'].apply(lambda x: 'wednesday' if x == 3 else x)\n",
    "day['week_day'] = day['week_day'].apply(lambda x: 'thursday ' if x == 4 else x)\n",
    "day['week_day'] = day['week_day'].apply(lambda x: \"friday\" if x == 5 else x)\n",
    "day['week_day'] = day['week_day'].apply(lambda x: 'saturday' if x == 6 else x)\n",
    "\n",
    "day.week_day.unique()"
   ]
  },
  {
   "cell_type": "markdown",
   "id": "273107ba",
   "metadata": {},
   "source": [
    "### Hour"
   ]
  },
  {
   "cell_type": "code",
   "execution_count": 56,
   "id": "f36e1f59",
   "metadata": {},
   "outputs": [
    {
     "data": {
      "text/plain": [
       "6    2512\n",
       "0    2502\n",
       "5    2487\n",
       "1    2479\n",
       "3    2475\n",
       "4    2471\n",
       "2    2453\n",
       "Name: week_day, dtype: int64"
      ]
     },
     "execution_count": 56,
     "metadata": {},
     "output_type": "execute_result"
    }
   ],
   "source": [
    "hour.week_day.value_counts()"
   ]
  },
  {
   "cell_type": "code",
   "execution_count": 57,
   "id": "7c46af31",
   "metadata": {},
   "outputs": [
    {
     "data": {
      "text/plain": [
       "array(['saturday', 'sunday', 'monday', 'tuesday', 'wednesday',\n",
       "       'thursday ', 'friday'], dtype=object)"
      ]
     },
     "execution_count": 57,
     "metadata": {},
     "output_type": "execute_result"
    }
   ],
   "source": [
    "hour['week_day'] = hour['week_day'].apply(lambda x: 'monday' if x == 0 else x)\n",
    "hour['week_day'] = hour['week_day'].apply(lambda x: 'tuesday' if x == 1 else x)\n",
    "hour['week_day'] = hour['week_day'].apply(lambda x: 'wednesday' if x == 2 else x)\n",
    "hour['week_day'] = hour['week_day'].apply(lambda x: 'thursday ' if x == 3 else x)\n",
    "hour['week_day'] = hour['week_day'].apply(lambda x: \"friday\" if x == 4 else x)\n",
    "hour['week_day'] = hour['week_day'].apply(lambda x: 'saturday' if x == 5 else x)\n",
    "hour['week_day'] = hour['week_day'].apply(lambda x: 'sunday' if x == 6 else x)\n",
    "\n",
    "day.week_day.unique()"
   ]
  },
  {
   "cell_type": "markdown",
   "id": "60f28303",
   "metadata": {},
   "source": [
    "------------------------------------------"
   ]
  },
  {
   "cell_type": "markdown",
   "id": "fca346c0",
   "metadata": {},
   "source": [
    "### 10.  Merubah column `weather_sit`"
   ]
  },
  {
   "cell_type": "markdown",
   "id": "b958869d",
   "metadata": {},
   "source": [
    "Pada dataset characteristics dijelaskan bahwa:\n",
    "- Clear, Few clouds, Partly cloudy, Partly cloudy = 1\n",
    "- Mist + Cloudy, Mist + Broken clouds, Mist + Few clouds, Mist = 2\n",
    "- Light Snow, Light Rain + Thunderstorm + Scattered clouds, Light Rain + Scattered clouds = 3\n",
    "- Heavy Rain + Ice Pallets + Thunderstorm + Mist, Snow + Fog = 4\n",
    "\n",
    "Penjelasan pada dataset characteristics untuk column `weather_sit` terlalu panjang, jadi saya menggunakan kondisi yang sering muncul pada masing-masing arti pada `weather_sit`, yaitu:\n",
    "\n",
    "- Clear = 1\n",
    "- Mist = 2\n",
    "- Light Rain = 3\n",
    "- Heavy Rain = 4"
   ]
  },
  {
   "cell_type": "markdown",
   "id": "b1b87512",
   "metadata": {},
   "source": [
    "### Day"
   ]
  },
  {
   "cell_type": "code",
   "execution_count": 58,
   "id": "d9a1bad6",
   "metadata": {},
   "outputs": [
    {
     "data": {
      "text/plain": [
       "1    463\n",
       "2    247\n",
       "3     21\n",
       "Name: weather_sit, dtype: int64"
      ]
     },
     "execution_count": 58,
     "metadata": {},
     "output_type": "execute_result"
    }
   ],
   "source": [
    "day.weather_sit.value_counts()"
   ]
  },
  {
   "cell_type": "code",
   "execution_count": 59,
   "id": "7074ec8b",
   "metadata": {},
   "outputs": [],
   "source": [
    "day['weather_sit'] = day['weather_sit'].apply(lambda x: 'clear' if x == 1 else x)\n",
    "day['weather_sit'] = day['weather_sit'].apply(lambda x: 'mist' if x == 2 else x)\n",
    "day['weather_sit'] = day['weather_sit'].apply(lambda x: 'light rain' if x == 3 else x)\n",
    "day['weather_sit'] = day['weather_sit'].apply(lambda x: 'heavy rain' if x == 4 else x)"
   ]
  },
  {
   "cell_type": "code",
   "execution_count": 60,
   "id": "72d5497a",
   "metadata": {},
   "outputs": [
    {
     "data": {
      "text/plain": [
       "array(['mist', 'clear', 'light rain'], dtype=object)"
      ]
     },
     "execution_count": 60,
     "metadata": {},
     "output_type": "execute_result"
    }
   ],
   "source": [
    "day.weather_sit.unique()"
   ]
  },
  {
   "cell_type": "markdown",
   "id": "6716528f",
   "metadata": {},
   "source": [
    "### Hour"
   ]
  },
  {
   "cell_type": "code",
   "execution_count": 61,
   "id": "89c66618",
   "metadata": {},
   "outputs": [
    {
     "data": {
      "text/plain": [
       "1    11413\n",
       "2     4544\n",
       "3     1419\n",
       "4        3\n",
       "Name: weather_sit, dtype: int64"
      ]
     },
     "execution_count": 61,
     "metadata": {},
     "output_type": "execute_result"
    }
   ],
   "source": [
    "hour.weather_sit.value_counts()"
   ]
  },
  {
   "cell_type": "code",
   "execution_count": 62,
   "id": "a4e11d0d",
   "metadata": {},
   "outputs": [],
   "source": [
    "hour['weather_sit'] = hour['weather_sit'].apply(lambda x: 'clear' if x == 1 else x)\n",
    "hour['weather_sit'] = hour['weather_sit'].apply(lambda x: 'mist' if x == 2 else x)\n",
    "hour['weather_sit'] = hour['weather_sit'].apply(lambda x: 'light rain' if x == 3 else x)\n",
    "hour['weather_sit'] = hour['weather_sit'].apply(lambda x: 'heavy rain' if x == 4 else x)"
   ]
  },
  {
   "cell_type": "code",
   "execution_count": 63,
   "id": "ca2b2220",
   "metadata": {},
   "outputs": [
    {
     "data": {
      "text/plain": [
       "array(['clear', 'mist', 'light rain', 'heavy rain'], dtype=object)"
      ]
     },
     "execution_count": 63,
     "metadata": {},
     "output_type": "execute_result"
    }
   ],
   "source": [
    "hour.weather_sit.unique()"
   ]
  },
  {
   "cell_type": "markdown",
   "id": "39fd08da",
   "metadata": {},
   "source": [
    "Melalui perubahan data tersebut, kita bisa melihat bahwa pada dataset day hanya terjadi 3 `weather_sit` yaitu mist, clear, dan light rain, sedangkan pada dataset hour terjadi 4 weather_sit yaitu  mist, clear, light rain, dan heavy rain"
   ]
  },
  {
   "cell_type": "markdown",
   "id": "494691c6",
   "metadata": {},
   "source": [
    "----------------------------------------------------"
   ]
  },
  {
   "cell_type": "markdown",
   "id": "6935208b",
   "metadata": {},
   "source": [
    "### 11. Merubah column `working_day` dan `holiday`"
   ]
  },
  {
   "cell_type": "markdown",
   "id": "c1dc6fff",
   "metadata": {},
   "source": [
    "Pada Dataset characteristics dijelaskan bahwa `working_day : if day is neither weekend nor holiday is 1, otherwise is 0.`. Maka, saya akan merubah column working_day menjadi yes(1)/ no(0)\n",
    "\n",
    "Misalnya, jika hari ini adalah hari Selasa, maka ekspresi bernilai 1 karena hari Selasa bukanlah akhir pekan atau hari libur. Namun, jika hari ini adalah hari Sabtu, maka ekspresi bernilai 0 karena hari Sabtu adalah akhir pekan.\n",
    "\n",
    "Begitu juga dengan column `holiday`, yang berarti apakah pada hari tersebut `liburan(1) atau tidak(0)`"
   ]
  },
  {
   "cell_type": "markdown",
   "id": "00230f89",
   "metadata": {},
   "source": [
    "### Day"
   ]
  },
  {
   "cell_type": "code",
   "execution_count": 64,
   "id": "59d28e56",
   "metadata": {},
   "outputs": [
    {
     "data": {
      "text/plain": [
       "1    500\n",
       "0    231\n",
       "Name: working_day, dtype: int64"
      ]
     },
     "execution_count": 64,
     "metadata": {},
     "output_type": "execute_result"
    }
   ],
   "source": [
    "day.working_day.value_counts()"
   ]
  },
  {
   "cell_type": "code",
   "execution_count": 65,
   "id": "fdef65f3",
   "metadata": {},
   "outputs": [],
   "source": [
    "day['working_day'] = day['working_day'].apply(lambda x: 'no' if x == 0 else x)\n",
    "day['working_day'] = day['working_day'].apply(lambda x: 'yes' if x == 1 else x)"
   ]
  },
  {
   "cell_type": "code",
   "execution_count": 66,
   "id": "48ceb363",
   "metadata": {},
   "outputs": [
    {
     "data": {
      "text/plain": [
       "yes    500\n",
       "no     231\n",
       "Name: working_day, dtype: int64"
      ]
     },
     "execution_count": 66,
     "metadata": {},
     "output_type": "execute_result"
    }
   ],
   "source": [
    "day.working_day.value_counts()"
   ]
  },
  {
   "cell_type": "code",
   "execution_count": 67,
   "id": "71176fe0",
   "metadata": {},
   "outputs": [
    {
     "data": {
      "text/plain": [
       "0    710\n",
       "1     21\n",
       "Name: holiday, dtype: int64"
      ]
     },
     "execution_count": 67,
     "metadata": {},
     "output_type": "execute_result"
    }
   ],
   "source": [
    "day.holiday.value_counts()"
   ]
  },
  {
   "cell_type": "code",
   "execution_count": 68,
   "id": "deab283b",
   "metadata": {},
   "outputs": [],
   "source": [
    "day['holiday'] = day['holiday'].apply(lambda x: 'no' if x == 0 else x)\n",
    "day['holiday'] = day['holiday'].apply(lambda x: 'yes' if x == 1 else x)"
   ]
  },
  {
   "cell_type": "code",
   "execution_count": 69,
   "id": "0a9e756f",
   "metadata": {},
   "outputs": [
    {
     "data": {
      "text/plain": [
       "no     710\n",
       "yes     21\n",
       "Name: holiday, dtype: int64"
      ]
     },
     "execution_count": 69,
     "metadata": {},
     "output_type": "execute_result"
    }
   ],
   "source": [
    "day.holiday.value_counts()"
   ]
  },
  {
   "cell_type": "markdown",
   "id": "f5362007",
   "metadata": {},
   "source": [
    "### Hour"
   ]
  },
  {
   "cell_type": "code",
   "execution_count": 70,
   "id": "13febef6",
   "metadata": {},
   "outputs": [
    {
     "data": {
      "text/plain": [
       "1    11865\n",
       "0     5514\n",
       "Name: working_day, dtype: int64"
      ]
     },
     "execution_count": 70,
     "metadata": {},
     "output_type": "execute_result"
    }
   ],
   "source": [
    "hour.working_day.value_counts()"
   ]
  },
  {
   "cell_type": "code",
   "execution_count": 71,
   "id": "27a20b0d",
   "metadata": {},
   "outputs": [],
   "source": [
    "hour['working_day'] = hour['working_day'].apply(lambda x: 'no' if x == 0 else x)\n",
    "hour['working_day'] = hour['working_day'].apply(lambda x: 'yes' if x == 1 else x)"
   ]
  },
  {
   "cell_type": "code",
   "execution_count": 72,
   "id": "fb495c1f",
   "metadata": {},
   "outputs": [
    {
     "data": {
      "text/plain": [
       "yes    11865\n",
       "no      5514\n",
       "Name: working_day, dtype: int64"
      ]
     },
     "execution_count": 72,
     "metadata": {},
     "output_type": "execute_result"
    }
   ],
   "source": [
    "hour.working_day.value_counts()"
   ]
  },
  {
   "cell_type": "code",
   "execution_count": 73,
   "id": "49f3e06c",
   "metadata": {},
   "outputs": [
    {
     "data": {
      "text/plain": [
       "0    16879\n",
       "1      500\n",
       "Name: holiday, dtype: int64"
      ]
     },
     "execution_count": 73,
     "metadata": {},
     "output_type": "execute_result"
    }
   ],
   "source": [
    "hour.holiday.value_counts()"
   ]
  },
  {
   "cell_type": "code",
   "execution_count": 74,
   "id": "656f98b5",
   "metadata": {},
   "outputs": [],
   "source": [
    "hour['holiday'] = hour['holiday'].apply(lambda x: 'no' if x == 0 else x)\n",
    "hour['holiday'] = hour['holiday'].apply(lambda x: 'yes' if x == 1 else x)"
   ]
  },
  {
   "cell_type": "code",
   "execution_count": 75,
   "id": "3e9b1970",
   "metadata": {},
   "outputs": [
    {
     "data": {
      "text/plain": [
       "no     16879\n",
       "yes      500\n",
       "Name: holiday, dtype: int64"
      ]
     },
     "execution_count": 75,
     "metadata": {},
     "output_type": "execute_result"
    }
   ],
   "source": [
    "hour.holiday.value_counts()"
   ]
  },
  {
   "cell_type": "markdown",
   "id": "fad8c922",
   "metadata": {},
   "source": [
    "------------------------------------------------------------------------------"
   ]
  },
  {
   "cell_type": "markdown",
   "id": "a6064236",
   "metadata": {},
   "source": [
    "## Exploratory Data Analysis (EDA)"
   ]
  },
  {
   "cell_type": "markdown",
   "id": "3331a58b",
   "metadata": {},
   "source": [
    "### Explore ..."
   ]
  },
  {
   "cell_type": "markdown",
   "id": "aa41cec4",
   "metadata": {},
   "source": [
    "Bike sharing system merupakan sebuah rental sepeda dimana user dengan mudah merental sepeda pada sebuah tempat tertentu dan mengembalikannya sesuai pada tempat yang tersedia. System rental sepeda tentunya memiliki pengaruh penting dalam lalu lintas, lingkukan dan kesehatan. \n",
    "\n",
    "Bike sharing system memperoleh data dari proses pemakaian usernya pada tahun 2011 sampai 2012 dari Capital Bikeshare System untuk kota Washington D.C., USA. Data yang diperoleh memiliki korelasi dengan cuaca, hari, musim, jam, dan lain sebagainya, sehingga dapat mempengaruhi perilaku user untuk menggunakan sepeda. \n",
    "\n",
    "Berdasarkan penjelasan tersebut, dapat didefinisikan pertanyaan sebagai berikut:\n",
    "1. Apakah kondisi musim dan cuaca mempengaruhi jumlah user? \n",
    "2. Apakah waktu kerja meningkatkan jumlah user? \n",
    "3. Pada jam berapa user bike sharing system paling sering dan paling sedikit digunakan? "
   ]
  },
  {
   "cell_type": "markdown",
   "id": "f46a941a",
   "metadata": {},
   "source": [
    "### Explore Day"
   ]
  },
  {
   "cell_type": "code",
   "execution_count": 76,
   "id": "6719a219",
   "metadata": {},
   "outputs": [
    {
     "data": {
      "text/html": [
       "<div>\n",
       "<style scoped>\n",
       "    .dataframe tbody tr th:only-of-type {\n",
       "        vertical-align: middle;\n",
       "    }\n",
       "\n",
       "    .dataframe tbody tr th {\n",
       "        vertical-align: top;\n",
       "    }\n",
       "\n",
       "    .dataframe thead th {\n",
       "        text-align: right;\n",
       "    }\n",
       "</style>\n",
       "<table border=\"1\" class=\"dataframe\">\n",
       "  <thead>\n",
       "    <tr style=\"text-align: right;\">\n",
       "      <th></th>\n",
       "      <th>date</th>\n",
       "      <th>season</th>\n",
       "      <th>year</th>\n",
       "      <th>month</th>\n",
       "      <th>holiday</th>\n",
       "      <th>week_day</th>\n",
       "      <th>working_day</th>\n",
       "      <th>weather_sit</th>\n",
       "      <th>temprature</th>\n",
       "      <th>feel_temprature</th>\n",
       "      <th>humidity</th>\n",
       "      <th>wind_speed</th>\n",
       "      <th>casual_user</th>\n",
       "      <th>registered_user</th>\n",
       "      <th>total_user</th>\n",
       "    </tr>\n",
       "  </thead>\n",
       "  <tbody>\n",
       "    <tr>\n",
       "      <th>350</th>\n",
       "      <td>2011-12-17</td>\n",
       "      <td>winter</td>\n",
       "      <td>2011</td>\n",
       "      <td>Dec</td>\n",
       "      <td>no</td>\n",
       "      <td>saturday</td>\n",
       "      <td>no</td>\n",
       "      <td>mist</td>\n",
       "      <td>10.59</td>\n",
       "      <td>12.47</td>\n",
       "      <td>56.08</td>\n",
       "      <td>16.29</td>\n",
       "      <td>275</td>\n",
       "      <td>2464</td>\n",
       "      <td>2739</td>\n",
       "    </tr>\n",
       "    <tr>\n",
       "      <th>421</th>\n",
       "      <td>2012-02-26</td>\n",
       "      <td>springer</td>\n",
       "      <td>2012</td>\n",
       "      <td>Feb</td>\n",
       "      <td>no</td>\n",
       "      <td>sunday</td>\n",
       "      <td>no</td>\n",
       "      <td>clear</td>\n",
       "      <td>11.45</td>\n",
       "      <td>13.42</td>\n",
       "      <td>41.00</td>\n",
       "      <td>13.75</td>\n",
       "      <td>515</td>\n",
       "      <td>2874</td>\n",
       "      <td>3389</td>\n",
       "    </tr>\n",
       "    <tr>\n",
       "      <th>470</th>\n",
       "      <td>2012-04-15</td>\n",
       "      <td>summer</td>\n",
       "      <td>2012</td>\n",
       "      <td>Apr</td>\n",
       "      <td>no</td>\n",
       "      <td>sunday</td>\n",
       "      <td>no</td>\n",
       "      <td>clear</td>\n",
       "      <td>24.87</td>\n",
       "      <td>28.69</td>\n",
       "      <td>50.79</td>\n",
       "      <td>15.08</td>\n",
       "      <td>2846</td>\n",
       "      <td>4286</td>\n",
       "      <td>7132</td>\n",
       "    </tr>\n",
       "    <tr>\n",
       "      <th>381</th>\n",
       "      <td>2012-01-17</td>\n",
       "      <td>springer</td>\n",
       "      <td>2012</td>\n",
       "      <td>Jan</td>\n",
       "      <td>no</td>\n",
       "      <td>tuesday</td>\n",
       "      <td>yes</td>\n",
       "      <td>mist</td>\n",
       "      <td>15.29</td>\n",
       "      <td>18.21</td>\n",
       "      <td>71.61</td>\n",
       "      <td>23.39</td>\n",
       "      <td>127</td>\n",
       "      <td>2808</td>\n",
       "      <td>2935</td>\n",
       "    </tr>\n",
       "    <tr>\n",
       "      <th>538</th>\n",
       "      <td>2012-06-22</td>\n",
       "      <td>fall</td>\n",
       "      <td>2012</td>\n",
       "      <td>Jun</td>\n",
       "      <td>no</td>\n",
       "      <td>friday</td>\n",
       "      <td>yes</td>\n",
       "      <td>clear</td>\n",
       "      <td>31.88</td>\n",
       "      <td>36.21</td>\n",
       "      <td>57.38</td>\n",
       "      <td>12.25</td>\n",
       "      <td>964</td>\n",
       "      <td>4859</td>\n",
       "      <td>5823</td>\n",
       "    </tr>\n",
       "  </tbody>\n",
       "</table>\n",
       "</div>"
      ],
      "text/plain": [
       "          date    season  year month holiday  week_day working_day  \\\n",
       "350 2011-12-17    winter  2011   Dec      no  saturday          no   \n",
       "421 2012-02-26  springer  2012   Feb      no    sunday          no   \n",
       "470 2012-04-15    summer  2012   Apr      no    sunday          no   \n",
       "381 2012-01-17  springer  2012   Jan      no   tuesday         yes   \n",
       "538 2012-06-22      fall  2012   Jun      no    friday         yes   \n",
       "\n",
       "    weather_sit  temprature  feel_temprature  humidity  wind_speed  \\\n",
       "350        mist       10.59            12.47     56.08       16.29   \n",
       "421       clear       11.45            13.42     41.00       13.75   \n",
       "470       clear       24.87            28.69     50.79       15.08   \n",
       "381        mist       15.29            18.21     71.61       23.39   \n",
       "538       clear       31.88            36.21     57.38       12.25   \n",
       "\n",
       "     casual_user  registered_user  total_user  \n",
       "350          275             2464        2739  \n",
       "421          515             2874        3389  \n",
       "470         2846             4286        7132  \n",
       "381          127             2808        2935  \n",
       "538          964             4859        5823  "
      ]
     },
     "execution_count": 76,
     "metadata": {},
     "output_type": "execute_result"
    }
   ],
   "source": [
    "day.sample(5)"
   ]
  },
  {
   "cell_type": "code",
   "execution_count": 77,
   "id": "2756e7fe",
   "metadata": {},
   "outputs": [
    {
     "data": {
      "text/html": [
       "<div>\n",
       "<style scoped>\n",
       "    .dataframe tbody tr th:only-of-type {\n",
       "        vertical-align: middle;\n",
       "    }\n",
       "\n",
       "    .dataframe tbody tr th {\n",
       "        vertical-align: top;\n",
       "    }\n",
       "\n",
       "    .dataframe thead th {\n",
       "        text-align: right;\n",
       "    }\n",
       "</style>\n",
       "<table border=\"1\" class=\"dataframe\">\n",
       "  <thead>\n",
       "    <tr style=\"text-align: right;\">\n",
       "      <th></th>\n",
       "      <th>year</th>\n",
       "      <th>temprature</th>\n",
       "      <th>feel_temprature</th>\n",
       "      <th>humidity</th>\n",
       "      <th>wind_speed</th>\n",
       "      <th>casual_user</th>\n",
       "      <th>registered_user</th>\n",
       "      <th>total_user</th>\n",
       "    </tr>\n",
       "  </thead>\n",
       "  <tbody>\n",
       "    <tr>\n",
       "      <th>count</th>\n",
       "      <td>731.000000</td>\n",
       "      <td>731.000000</td>\n",
       "      <td>731.000000</td>\n",
       "      <td>731.000000</td>\n",
       "      <td>731.000000</td>\n",
       "      <td>731.000000</td>\n",
       "      <td>731.000000</td>\n",
       "      <td>731.000000</td>\n",
       "    </tr>\n",
       "    <tr>\n",
       "      <th>mean</th>\n",
       "      <td>2011.500684</td>\n",
       "      <td>20.310821</td>\n",
       "      <td>23.717784</td>\n",
       "      <td>62.875089</td>\n",
       "      <td>12.762654</td>\n",
       "      <td>848.176471</td>\n",
       "      <td>3656.172367</td>\n",
       "      <td>4504.348837</td>\n",
       "    </tr>\n",
       "    <tr>\n",
       "      <th>std</th>\n",
       "      <td>0.500342</td>\n",
       "      <td>7.505177</td>\n",
       "      <td>8.148006</td>\n",
       "      <td>14.051791</td>\n",
       "      <td>5.192157</td>\n",
       "      <td>686.622488</td>\n",
       "      <td>1560.256377</td>\n",
       "      <td>1937.211452</td>\n",
       "    </tr>\n",
       "    <tr>\n",
       "      <th>min</th>\n",
       "      <td>2011.000000</td>\n",
       "      <td>2.420000</td>\n",
       "      <td>3.950000</td>\n",
       "      <td>18.790000</td>\n",
       "      <td>1.500000</td>\n",
       "      <td>2.000000</td>\n",
       "      <td>20.000000</td>\n",
       "      <td>22.000000</td>\n",
       "    </tr>\n",
       "    <tr>\n",
       "      <th>25%</th>\n",
       "      <td>2011.000000</td>\n",
       "      <td>13.820000</td>\n",
       "      <td>16.895000</td>\n",
       "      <td>52.105000</td>\n",
       "      <td>9.040000</td>\n",
       "      <td>315.500000</td>\n",
       "      <td>2497.000000</td>\n",
       "      <td>3152.000000</td>\n",
       "    </tr>\n",
       "    <tr>\n",
       "      <th>50%</th>\n",
       "      <td>2012.000000</td>\n",
       "      <td>20.430000</td>\n",
       "      <td>24.340000</td>\n",
       "      <td>62.670000</td>\n",
       "      <td>12.130000</td>\n",
       "      <td>713.000000</td>\n",
       "      <td>3662.000000</td>\n",
       "      <td>4548.000000</td>\n",
       "    </tr>\n",
       "    <tr>\n",
       "      <th>75%</th>\n",
       "      <td>2012.000000</td>\n",
       "      <td>26.875000</td>\n",
       "      <td>30.430000</td>\n",
       "      <td>73.020000</td>\n",
       "      <td>15.625000</td>\n",
       "      <td>1096.000000</td>\n",
       "      <td>4776.500000</td>\n",
       "      <td>5956.000000</td>\n",
       "    </tr>\n",
       "    <tr>\n",
       "      <th>max</th>\n",
       "      <td>2012.000000</td>\n",
       "      <td>35.330000</td>\n",
       "      <td>42.040000</td>\n",
       "      <td>97.250000</td>\n",
       "      <td>34.000000</td>\n",
       "      <td>3410.000000</td>\n",
       "      <td>6946.000000</td>\n",
       "      <td>8714.000000</td>\n",
       "    </tr>\n",
       "  </tbody>\n",
       "</table>\n",
       "</div>"
      ],
      "text/plain": [
       "              year  temprature  feel_temprature    humidity  wind_speed  \\\n",
       "count   731.000000  731.000000       731.000000  731.000000  731.000000   \n",
       "mean   2011.500684   20.310821        23.717784   62.875089   12.762654   \n",
       "std       0.500342    7.505177         8.148006   14.051791    5.192157   \n",
       "min    2011.000000    2.420000         3.950000   18.790000    1.500000   \n",
       "25%    2011.000000   13.820000        16.895000   52.105000    9.040000   \n",
       "50%    2012.000000   20.430000        24.340000   62.670000   12.130000   \n",
       "75%    2012.000000   26.875000        30.430000   73.020000   15.625000   \n",
       "max    2012.000000   35.330000        42.040000   97.250000   34.000000   \n",
       "\n",
       "       casual_user  registered_user   total_user  \n",
       "count   731.000000       731.000000   731.000000  \n",
       "mean    848.176471      3656.172367  4504.348837  \n",
       "std     686.622488      1560.256377  1937.211452  \n",
       "min       2.000000        20.000000    22.000000  \n",
       "25%     315.500000      2497.000000  3152.000000  \n",
       "50%     713.000000      3662.000000  4548.000000  \n",
       "75%    1096.000000      4776.500000  5956.000000  \n",
       "max    3410.000000      6946.000000  8714.000000  "
      ]
     },
     "execution_count": 77,
     "metadata": {},
     "output_type": "execute_result"
    }
   ],
   "source": [
    "day.describe()"
   ]
  },
  {
   "cell_type": "markdown",
   "id": "9453c17d",
   "metadata": {},
   "source": [
    "Berdasarkan summary statistic diatas didapatkan jumlah data sebanyak 731, yang berarti data ini diambil selama **731 hari**. User terbagi menjadi 2 yaitu casual user dan registered user, dapat dilihat rata2nya jumlah registered user **3x lebih banyak** dari casual user."
   ]
  },
  {
   "cell_type": "code",
   "execution_count": 78,
   "id": "a604a6b5",
   "metadata": {
    "scrolled": true
   },
   "outputs": [
    {
     "data": {
      "text/html": [
       "<div>\n",
       "<style scoped>\n",
       "    .dataframe tbody tr th:only-of-type {\n",
       "        vertical-align: middle;\n",
       "    }\n",
       "\n",
       "    .dataframe tbody tr th {\n",
       "        vertical-align: top;\n",
       "    }\n",
       "\n",
       "    .dataframe thead th {\n",
       "        text-align: right;\n",
       "    }\n",
       "</style>\n",
       "<table border=\"1\" class=\"dataframe\">\n",
       "  <thead>\n",
       "    <tr style=\"text-align: right;\">\n",
       "      <th></th>\n",
       "      <th>temprature</th>\n",
       "      <th>feel_temprature</th>\n",
       "      <th>humidity</th>\n",
       "      <th>wind_speed</th>\n",
       "    </tr>\n",
       "    <tr>\n",
       "      <th>season</th>\n",
       "      <th></th>\n",
       "      <th></th>\n",
       "      <th></th>\n",
       "      <th></th>\n",
       "    </tr>\n",
       "  </thead>\n",
       "  <tbody>\n",
       "    <tr>\n",
       "      <th>fall</th>\n",
       "      <td>28.96</td>\n",
       "      <td>32.79</td>\n",
       "      <td>63.35</td>\n",
       "      <td>11.53</td>\n",
       "    </tr>\n",
       "    <tr>\n",
       "      <th>springer</th>\n",
       "      <td>12.21</td>\n",
       "      <td>14.85</td>\n",
       "      <td>58.64</td>\n",
       "      <td>14.37</td>\n",
       "    </tr>\n",
       "    <tr>\n",
       "      <th>summer</th>\n",
       "      <td>22.32</td>\n",
       "      <td>26.02</td>\n",
       "      <td>62.69</td>\n",
       "      <td>13.63</td>\n",
       "    </tr>\n",
       "    <tr>\n",
       "      <th>winter</th>\n",
       "      <td>17.34</td>\n",
       "      <td>20.78</td>\n",
       "      <td>66.87</td>\n",
       "      <td>11.52</td>\n",
       "    </tr>\n",
       "  </tbody>\n",
       "</table>\n",
       "</div>"
      ],
      "text/plain": [
       "          temprature  feel_temprature  humidity  wind_speed\n",
       "season                                                     \n",
       "fall           28.96            32.79     63.35       11.53\n",
       "springer       12.21            14.85     58.64       14.37\n",
       "summer         22.32            26.02     62.69       13.63\n",
       "winter         17.34            20.78     66.87       11.52"
      ]
     },
     "execution_count": 78,
     "metadata": {},
     "output_type": "execute_result"
    }
   ],
   "source": [
    "round(day.groupby(by= \"season\").agg({\n",
    "    'temprature': 'mean',\n",
    "    'feel_temprature': 'mean',\n",
    "    'humidity': 'mean',\n",
    "    'wind_speed': 'mean',\n",
    "}), 2)"
   ]
  },
  {
   "cell_type": "markdown",
   "id": "4d735a58",
   "metadata": {},
   "source": [
    "Informasi tersebut menjelaskan rata-rata2 suhu pada setiap musimnya"
   ]
  },
  {
   "cell_type": "code",
   "execution_count": 79,
   "id": "9377dfbb",
   "metadata": {},
   "outputs": [
    {
     "data": {
      "text/plain": [
       "<Axes: >"
      ]
     },
     "execution_count": 79,
     "metadata": {},
     "output_type": "execute_result"
    },
    {
     "data": {
      "image/png": "[encoded data removed]",
      "text/plain": [
       "<Figure size 640x480 with 2 Axes>"
      ]
     },
     "metadata": {},
     "output_type": "display_data"
    }
   ],
   "source": [
    "cor = day[['temprature', 'feel_temprature', 'humidity', 'wind_speed','total_user']].corr()\n",
    "sns.heatmap(data=cor, annot=True, cmap=\"crest\")"
   ]
  },
  {
   "cell_type": "markdown",
   "id": "b592bcc7",
   "metadata": {},
   "source": [
    "Berikut merupakan **korelasi** temprature, feel_temprature, humidity, wind_speed terhadap total user, didapatkan bahwa korelasi `humidity` dan `wind_speed` kepada `total_user` merupakan **negatif** sehingga tidak memiliki korelasi yang kuat. \n",
    "\n",
    "`Temprature` dan `feel_temprature` memiliki nilai korelasi **positif** terhadap `total_user` sehingga kedua column tersebut mempengaruhi jumlah user."
   ]
  },
  {
   "cell_type": "code",
   "execution_count": 80,
   "id": "d454f464",
   "metadata": {},
   "outputs": [
    {
     "data": {
      "text/plain": [
       "no     710\n",
       "yes     21\n",
       "Name: holiday, dtype: int64"
      ]
     },
     "execution_count": 80,
     "metadata": {},
     "output_type": "execute_result"
    }
   ],
   "source": [
    "day.holiday.value_counts()"
   ]
  },
  {
   "cell_type": "markdown",
   "id": "6f402c9e",
   "metadata": {},
   "source": [
    "Semalam 731 hari didapatkan 21 hari libur dan 710 hari kerja"
   ]
  },
  {
   "cell_type": "code",
   "execution_count": 81,
   "id": "07480789",
   "metadata": {},
   "outputs": [
    {
     "data": {
      "text/html": [
       "<div>\n",
       "<style scoped>\n",
       "    .dataframe tbody tr th:only-of-type {\n",
       "        vertical-align: middle;\n",
       "    }\n",
       "\n",
       "    .dataframe tbody tr th {\n",
       "        vertical-align: top;\n",
       "    }\n",
       "\n",
       "    .dataframe thead th {\n",
       "        text-align: right;\n",
       "    }\n",
       "</style>\n",
       "<table border=\"1\" class=\"dataframe\">\n",
       "  <thead>\n",
       "    <tr style=\"text-align: right;\">\n",
       "      <th></th>\n",
       "      <th></th>\n",
       "      <th>month</th>\n",
       "    </tr>\n",
       "    <tr>\n",
       "      <th>year</th>\n",
       "      <th>month</th>\n",
       "      <th></th>\n",
       "    </tr>\n",
       "  </thead>\n",
       "  <tbody>\n",
       "    <tr>\n",
       "      <th rowspan=\"12\" valign=\"top\">2011</th>\n",
       "      <th>Apr</th>\n",
       "      <td>30</td>\n",
       "    </tr>\n",
       "    <tr>\n",
       "      <th>Aug</th>\n",
       "      <td>31</td>\n",
       "    </tr>\n",
       "    <tr>\n",
       "      <th>Dec</th>\n",
       "      <td>31</td>\n",
       "    </tr>\n",
       "    <tr>\n",
       "      <th>Feb</th>\n",
       "      <td>28</td>\n",
       "    </tr>\n",
       "    <tr>\n",
       "      <th>Jan</th>\n",
       "      <td>31</td>\n",
       "    </tr>\n",
       "    <tr>\n",
       "      <th>Jul</th>\n",
       "      <td>31</td>\n",
       "    </tr>\n",
       "    <tr>\n",
       "      <th>Jun</th>\n",
       "      <td>30</td>\n",
       "    </tr>\n",
       "    <tr>\n",
       "      <th>Mar</th>\n",
       "      <td>31</td>\n",
       "    </tr>\n",
       "    <tr>\n",
       "      <th>May</th>\n",
       "      <td>31</td>\n",
       "    </tr>\n",
       "    <tr>\n",
       "      <th>Nov</th>\n",
       "      <td>30</td>\n",
       "    </tr>\n",
       "    <tr>\n",
       "      <th>Oct</th>\n",
       "      <td>31</td>\n",
       "    </tr>\n",
       "    <tr>\n",
       "      <th>Sep</th>\n",
       "      <td>30</td>\n",
       "    </tr>\n",
       "    <tr>\n",
       "      <th rowspan=\"12\" valign=\"top\">2012</th>\n",
       "      <th>Apr</th>\n",
       "      <td>30</td>\n",
       "    </tr>\n",
       "    <tr>\n",
       "      <th>Aug</th>\n",
       "      <td>31</td>\n",
       "    </tr>\n",
       "    <tr>\n",
       "      <th>Dec</th>\n",
       "      <td>31</td>\n",
       "    </tr>\n",
       "    <tr>\n",
       "      <th>Feb</th>\n",
       "      <td>29</td>\n",
       "    </tr>\n",
       "    <tr>\n",
       "      <th>Jan</th>\n",
       "      <td>31</td>\n",
       "    </tr>\n",
       "    <tr>\n",
       "      <th>Jul</th>\n",
       "      <td>31</td>\n",
       "    </tr>\n",
       "    <tr>\n",
       "      <th>Jun</th>\n",
       "      <td>30</td>\n",
       "    </tr>\n",
       "    <tr>\n",
       "      <th>Mar</th>\n",
       "      <td>31</td>\n",
       "    </tr>\n",
       "    <tr>\n",
       "      <th>May</th>\n",
       "      <td>31</td>\n",
       "    </tr>\n",
       "    <tr>\n",
       "      <th>Nov</th>\n",
       "      <td>30</td>\n",
       "    </tr>\n",
       "    <tr>\n",
       "      <th>Oct</th>\n",
       "      <td>31</td>\n",
       "    </tr>\n",
       "    <tr>\n",
       "      <th>Sep</th>\n",
       "      <td>30</td>\n",
       "    </tr>\n",
       "  </tbody>\n",
       "</table>\n",
       "</div>"
      ],
      "text/plain": [
       "            month\n",
       "year month       \n",
       "2011 Apr       30\n",
       "     Aug       31\n",
       "     Dec       31\n",
       "     Feb       28\n",
       "     Jan       31\n",
       "     Jul       31\n",
       "     Jun       30\n",
       "     Mar       31\n",
       "     May       31\n",
       "     Nov       30\n",
       "     Oct       31\n",
       "     Sep       30\n",
       "2012 Apr       30\n",
       "     Aug       31\n",
       "     Dec       31\n",
       "     Feb       29\n",
       "     Jan       31\n",
       "     Jul       31\n",
       "     Jun       30\n",
       "     Mar       31\n",
       "     May       31\n",
       "     Nov       30\n",
       "     Oct       31\n",
       "     Sep       30"
      ]
     },
     "execution_count": 81,
     "metadata": {},
     "output_type": "execute_result"
    }
   ],
   "source": [
    "day.groupby(by=['year','month']).agg({\n",
    "    'month': 'count'\n",
    "})"
   ]
  },
  {
   "cell_type": "markdown",
   "id": "ad34e884",
   "metadata": {},
   "source": [
    "Persebaran jumlah bulannya cukup merata untuk tahun 2011 dan 2012"
   ]
  },
  {
   "cell_type": "code",
   "execution_count": 82,
   "id": "2dcdb6bb",
   "metadata": {},
   "outputs": [
    {
     "data": {
      "text/plain": [
       "fall        188\n",
       "summer      184\n",
       "springer    181\n",
       "winter      178\n",
       "Name: season, dtype: int64"
      ]
     },
     "execution_count": 82,
     "metadata": {},
     "output_type": "execute_result"
    }
   ],
   "source": [
    "day.season.value_counts()"
   ]
  },
  {
   "cell_type": "markdown",
   "id": "9d1df0d1",
   "metadata": {},
   "source": [
    "Didapatkan 4 musim dengan persebaran setiap musimnya tidak berbeda jauh, dengan fall sebagai musim terbanyak dan winter merupakan musim dengan jumlah terendah"
   ]
  },
  {
   "cell_type": "code",
   "execution_count": 83,
   "id": "605c40f7",
   "metadata": {},
   "outputs": [
    {
     "data": {
      "text/plain": [
       "clear         463\n",
       "mist          247\n",
       "light rain     21\n",
       "Name: weather_sit, dtype: int64"
      ]
     },
     "execution_count": 83,
     "metadata": {},
     "output_type": "execute_result"
    }
   ],
   "source": [
    "day.weather_sit.value_counts()"
   ]
  },
  {
   "cell_type": "markdown",
   "id": "b3648747",
   "metadata": {},
   "source": [
    "Persebaran datanya kebanyakan didominasi oleh clear sedangkan light rain hanya terjadi sebanyak 21 kali"
   ]
  },
  {
   "cell_type": "markdown",
   "id": "c1557cfb",
   "metadata": {},
   "source": [
    "### Explore Hour"
   ]
  },
  {
   "cell_type": "code",
   "execution_count": 84,
   "id": "fdc42f12",
   "metadata": {},
   "outputs": [
    {
     "data": {
      "text/html": [
       "<div>\n",
       "<style scoped>\n",
       "    .dataframe tbody tr th:only-of-type {\n",
       "        vertical-align: middle;\n",
       "    }\n",
       "\n",
       "    .dataframe tbody tr th {\n",
       "        vertical-align: top;\n",
       "    }\n",
       "\n",
       "    .dataframe thead th {\n",
       "        text-align: right;\n",
       "    }\n",
       "</style>\n",
       "<table border=\"1\" class=\"dataframe\">\n",
       "  <thead>\n",
       "    <tr style=\"text-align: right;\">\n",
       "      <th></th>\n",
       "      <th>date</th>\n",
       "      <th>season</th>\n",
       "      <th>year</th>\n",
       "      <th>month</th>\n",
       "      <th>hour</th>\n",
       "      <th>holiday</th>\n",
       "      <th>week_day</th>\n",
       "      <th>working_day</th>\n",
       "      <th>weather_sit</th>\n",
       "      <th>temprature</th>\n",
       "      <th>feel_temprature</th>\n",
       "      <th>humidity</th>\n",
       "      <th>wind_speed</th>\n",
       "      <th>casual_user</th>\n",
       "      <th>registered_user</th>\n",
       "      <th>total_user</th>\n",
       "    </tr>\n",
       "  </thead>\n",
       "  <tbody>\n",
       "    <tr>\n",
       "      <th>7413</th>\n",
       "      <td>2011-11-10</td>\n",
       "      <td>winter</td>\n",
       "      <td>2011</td>\n",
       "      <td>Nov</td>\n",
       "      <td>12</td>\n",
       "      <td>no</td>\n",
       "      <td>friday</td>\n",
       "      <td>yes</td>\n",
       "      <td>mist</td>\n",
       "      <td>17.22</td>\n",
       "      <td>21.21</td>\n",
       "      <td>67.0</td>\n",
       "      <td>24.00</td>\n",
       "      <td>18</td>\n",
       "      <td>149</td>\n",
       "      <td>167</td>\n",
       "    </tr>\n",
       "    <tr>\n",
       "      <th>5605</th>\n",
       "      <td>2011-08-26</td>\n",
       "      <td>fall</td>\n",
       "      <td>2011</td>\n",
       "      <td>Aug</td>\n",
       "      <td>11</td>\n",
       "      <td>no</td>\n",
       "      <td>saturday</td>\n",
       "      <td>yes</td>\n",
       "      <td>mist</td>\n",
       "      <td>31.16</td>\n",
       "      <td>35.60</td>\n",
       "      <td>62.0</td>\n",
       "      <td>12.73</td>\n",
       "      <td>63</td>\n",
       "      <td>151</td>\n",
       "      <td>214</td>\n",
       "    </tr>\n",
       "    <tr>\n",
       "      <th>13207</th>\n",
       "      <td>2012-07-09</td>\n",
       "      <td>fall</td>\n",
       "      <td>2012</td>\n",
       "      <td>Jul</td>\n",
       "      <td>12</td>\n",
       "      <td>no</td>\n",
       "      <td>tuesday</td>\n",
       "      <td>yes</td>\n",
       "      <td>mist</td>\n",
       "      <td>30.34</td>\n",
       "      <td>34.09</td>\n",
       "      <td>58.0</td>\n",
       "      <td>9.00</td>\n",
       "      <td>61</td>\n",
       "      <td>205</td>\n",
       "      <td>266</td>\n",
       "    </tr>\n",
       "    <tr>\n",
       "      <th>3568</th>\n",
       "      <td>2011-06-02</td>\n",
       "      <td>summer</td>\n",
       "      <td>2011</td>\n",
       "      <td>Jun</td>\n",
       "      <td>14</td>\n",
       "      <td>no</td>\n",
       "      <td>friday</td>\n",
       "      <td>yes</td>\n",
       "      <td>clear</td>\n",
       "      <td>31.98</td>\n",
       "      <td>33.34</td>\n",
       "      <td>24.0</td>\n",
       "      <td>22.00</td>\n",
       "      <td>43</td>\n",
       "      <td>142</td>\n",
       "      <td>185</td>\n",
       "    </tr>\n",
       "    <tr>\n",
       "      <th>8033</th>\n",
       "      <td>2011-12-06</td>\n",
       "      <td>winter</td>\n",
       "      <td>2011</td>\n",
       "      <td>Dec</td>\n",
       "      <td>9</td>\n",
       "      <td>no</td>\n",
       "      <td>wednesday</td>\n",
       "      <td>yes</td>\n",
       "      <td>mist</td>\n",
       "      <td>18.86</td>\n",
       "      <td>22.72</td>\n",
       "      <td>94.0</td>\n",
       "      <td>15.00</td>\n",
       "      <td>4</td>\n",
       "      <td>200</td>\n",
       "      <td>204</td>\n",
       "    </tr>\n",
       "  </tbody>\n",
       "</table>\n",
       "</div>"
      ],
      "text/plain": [
       "            date  season  year month  hour holiday   week_day working_day  \\\n",
       "7413  2011-11-10  winter  2011   Nov    12      no     friday         yes   \n",
       "5605  2011-08-26    fall  2011   Aug    11      no   saturday         yes   \n",
       "13207 2012-07-09    fall  2012   Jul    12      no    tuesday         yes   \n",
       "3568  2011-06-02  summer  2011   Jun    14      no     friday         yes   \n",
       "8033  2011-12-06  winter  2011   Dec     9      no  wednesday         yes   \n",
       "\n",
       "      weather_sit  temprature  feel_temprature  humidity  wind_speed  \\\n",
       "7413         mist       17.22            21.21      67.0       24.00   \n",
       "5605         mist       31.16            35.60      62.0       12.73   \n",
       "13207        mist       30.34            34.09      58.0        9.00   \n",
       "3568        clear       31.98            33.34      24.0       22.00   \n",
       "8033         mist       18.86            22.72      94.0       15.00   \n",
       "\n",
       "       casual_user  registered_user  total_user  \n",
       "7413            18              149         167  \n",
       "5605            63              151         214  \n",
       "13207           61              205         266  \n",
       "3568            43              142         185  \n",
       "8033             4              200         204  "
      ]
     },
     "execution_count": 84,
     "metadata": {},
     "output_type": "execute_result"
    }
   ],
   "source": [
    "hour.sample(5)"
   ]
  },
  {
   "cell_type": "code",
   "execution_count": 85,
   "id": "5f382d1d",
   "metadata": {},
   "outputs": [
    {
     "data": {
      "text/html": [
       "<div>\n",
       "<style scoped>\n",
       "    .dataframe tbody tr th:only-of-type {\n",
       "        vertical-align: middle;\n",
       "    }\n",
       "\n",
       "    .dataframe tbody tr th {\n",
       "        vertical-align: top;\n",
       "    }\n",
       "\n",
       "    .dataframe thead th {\n",
       "        text-align: right;\n",
       "    }\n",
       "</style>\n",
       "<table border=\"1\" class=\"dataframe\">\n",
       "  <thead>\n",
       "    <tr style=\"text-align: right;\">\n",
       "      <th></th>\n",
       "      <th>year</th>\n",
       "      <th>hour</th>\n",
       "      <th>temprature</th>\n",
       "      <th>feel_temprature</th>\n",
       "      <th>humidity</th>\n",
       "      <th>wind_speed</th>\n",
       "      <th>casual_user</th>\n",
       "      <th>registered_user</th>\n",
       "      <th>total_user</th>\n",
       "    </tr>\n",
       "  </thead>\n",
       "  <tbody>\n",
       "    <tr>\n",
       "      <th>count</th>\n",
       "      <td>17379.000000</td>\n",
       "      <td>17379.000000</td>\n",
       "      <td>17379.000000</td>\n",
       "      <td>17379.000000</td>\n",
       "      <td>17379.000000</td>\n",
       "      <td>17379.000000</td>\n",
       "      <td>17379.000000</td>\n",
       "      <td>17379.000000</td>\n",
       "      <td>17379.000000</td>\n",
       "    </tr>\n",
       "    <tr>\n",
       "      <th>mean</th>\n",
       "      <td>2011.502561</td>\n",
       "      <td>11.546752</td>\n",
       "      <td>20.376474</td>\n",
       "      <td>23.791274</td>\n",
       "      <td>62.802635</td>\n",
       "      <td>14.333069</td>\n",
       "      <td>35.676218</td>\n",
       "      <td>153.786869</td>\n",
       "      <td>189.463088</td>\n",
       "    </tr>\n",
       "    <tr>\n",
       "      <th>std</th>\n",
       "      <td>0.500008</td>\n",
       "      <td>6.914405</td>\n",
       "      <td>7.894801</td>\n",
       "      <td>8.588798</td>\n",
       "      <td>19.163309</td>\n",
       "      <td>6.655089</td>\n",
       "      <td>49.305030</td>\n",
       "      <td>151.357286</td>\n",
       "      <td>181.387599</td>\n",
       "    </tr>\n",
       "    <tr>\n",
       "      <th>min</th>\n",
       "      <td>2011.000000</td>\n",
       "      <td>0.000000</td>\n",
       "      <td>0.820000</td>\n",
       "      <td>0.760000</td>\n",
       "      <td>8.000000</td>\n",
       "      <td>6.000000</td>\n",
       "      <td>0.000000</td>\n",
       "      <td>0.000000</td>\n",
       "      <td>1.000000</td>\n",
       "    </tr>\n",
       "    <tr>\n",
       "      <th>25%</th>\n",
       "      <td>2011.000000</td>\n",
       "      <td>6.000000</td>\n",
       "      <td>13.940000</td>\n",
       "      <td>16.660000</td>\n",
       "      <td>48.000000</td>\n",
       "      <td>9.000000</td>\n",
       "      <td>4.000000</td>\n",
       "      <td>34.000000</td>\n",
       "      <td>40.000000</td>\n",
       "    </tr>\n",
       "    <tr>\n",
       "      <th>50%</th>\n",
       "      <td>2012.000000</td>\n",
       "      <td>12.000000</td>\n",
       "      <td>20.500000</td>\n",
       "      <td>24.240000</td>\n",
       "      <td>63.000000</td>\n",
       "      <td>13.000000</td>\n",
       "      <td>17.000000</td>\n",
       "      <td>115.000000</td>\n",
       "      <td>142.000000</td>\n",
       "    </tr>\n",
       "    <tr>\n",
       "      <th>75%</th>\n",
       "      <td>2012.000000</td>\n",
       "      <td>18.000000</td>\n",
       "      <td>27.060000</td>\n",
       "      <td>31.060000</td>\n",
       "      <td>78.000000</td>\n",
       "      <td>17.000000</td>\n",
       "      <td>48.000000</td>\n",
       "      <td>220.000000</td>\n",
       "      <td>281.000000</td>\n",
       "    </tr>\n",
       "    <tr>\n",
       "      <th>max</th>\n",
       "      <td>2012.000000</td>\n",
       "      <td>23.000000</td>\n",
       "      <td>41.000000</td>\n",
       "      <td>50.000000</td>\n",
       "      <td>100.000000</td>\n",
       "      <td>57.000000</td>\n",
       "      <td>367.000000</td>\n",
       "      <td>886.000000</td>\n",
       "      <td>977.000000</td>\n",
       "    </tr>\n",
       "  </tbody>\n",
       "</table>\n",
       "</div>"
      ],
      "text/plain": [
       "               year          hour    temprature  feel_temprature  \\\n",
       "count  17379.000000  17379.000000  17379.000000     17379.000000   \n",
       "mean    2011.502561     11.546752     20.376474        23.791274   \n",
       "std        0.500008      6.914405      7.894801         8.588798   \n",
       "min     2011.000000      0.000000      0.820000         0.760000   \n",
       "25%     2011.000000      6.000000     13.940000        16.660000   \n",
       "50%     2012.000000     12.000000     20.500000        24.240000   \n",
       "75%     2012.000000     18.000000     27.060000        31.060000   \n",
       "max     2012.000000     23.000000     41.000000        50.000000   \n",
       "\n",
       "           humidity    wind_speed   casual_user  registered_user    total_user  \n",
       "count  17379.000000  17379.000000  17379.000000     17379.000000  17379.000000  \n",
       "mean      62.802635     14.333069     35.676218       153.786869    189.463088  \n",
       "std       19.163309      6.655089     49.305030       151.357286    181.387599  \n",
       "min        8.000000      6.000000      0.000000         0.000000      1.000000  \n",
       "25%       48.000000      9.000000      4.000000        34.000000     40.000000  \n",
       "50%       63.000000     13.000000     17.000000       115.000000    142.000000  \n",
       "75%       78.000000     17.000000     48.000000       220.000000    281.000000  \n",
       "max      100.000000     57.000000    367.000000       886.000000    977.000000  "
      ]
     },
     "execution_count": 85,
     "metadata": {},
     "output_type": "execute_result"
    }
   ],
   "source": [
    "hour.describe()"
   ]
  },
  {
   "cell_type": "markdown",
   "id": "ae330834",
   "metadata": {},
   "source": [
    "Pada dataset hour didapatkan data dengan jumlah 17379 yang artinya data tersebut diperoleh selama 1739 jam. Didapatkan bahwa rata-rata user menggunakan bike sharing pada jam 12 kurang (tertera pada rata-rata hour 11,54). Diketahui rata-ratanya sebanyak 181,38 total user menggunakan bike sharing system perjamnya. "
   ]
  },
  {
   "cell_type": "code",
   "execution_count": 86,
   "id": "bd0ff065",
   "metadata": {},
   "outputs": [
    {
     "data": {
      "text/plain": [
       "clear         11413\n",
       "mist           4544\n",
       "light rain     1419\n",
       "heavy rain        3\n",
       "Name: weather_sit, dtype: int64"
      ]
     },
     "execution_count": 86,
     "metadata": {},
     "output_type": "execute_result"
    }
   ],
   "source": [
    "hour.weather_sit.value_counts()"
   ]
  },
  {
   "cell_type": "markdown",
   "id": "f847cef1",
   "metadata": {},
   "source": [
    "Disimpulkan bahwa `weather_sit` didominasi oleh clear sedangkan heavy rain dengan jumlah paling sedikit"
   ]
  },
  {
   "cell_type": "code",
   "execution_count": 87,
   "id": "77184dbb",
   "metadata": {},
   "outputs": [
    {
     "data": {
      "text/html": [
       "<div>\n",
       "<style scoped>\n",
       "    .dataframe tbody tr th:only-of-type {\n",
       "        vertical-align: middle;\n",
       "    }\n",
       "\n",
       "    .dataframe tbody tr th {\n",
       "        vertical-align: top;\n",
       "    }\n",
       "\n",
       "    .dataframe thead th {\n",
       "        text-align: right;\n",
       "    }\n",
       "</style>\n",
       "<table border=\"1\" class=\"dataframe\">\n",
       "  <thead>\n",
       "    <tr style=\"text-align: right;\">\n",
       "      <th></th>\n",
       "      <th>hour</th>\n",
       "      <th>casual_user</th>\n",
       "      <th>registered_user</th>\n",
       "      <th>total_user</th>\n",
       "    </tr>\n",
       "  </thead>\n",
       "  <tbody>\n",
       "    <tr>\n",
       "      <th>0</th>\n",
       "      <td>0</td>\n",
       "      <td>7375</td>\n",
       "      <td>31755</td>\n",
       "      <td>39130</td>\n",
       "    </tr>\n",
       "    <tr>\n",
       "      <th>1</th>\n",
       "      <td>1</td>\n",
       "      <td>4709</td>\n",
       "      <td>19455</td>\n",
       "      <td>24164</td>\n",
       "    </tr>\n",
       "    <tr>\n",
       "      <th>2</th>\n",
       "      <td>2</td>\n",
       "      <td>3412</td>\n",
       "      <td>12940</td>\n",
       "      <td>16352</td>\n",
       "    </tr>\n",
       "    <tr>\n",
       "      <th>3</th>\n",
       "      <td>3</td>\n",
       "      <td>1893</td>\n",
       "      <td>6281</td>\n",
       "      <td>8174</td>\n",
       "    </tr>\n",
       "    <tr>\n",
       "      <th>4</th>\n",
       "      <td>4</td>\n",
       "      <td>874</td>\n",
       "      <td>3554</td>\n",
       "      <td>4428</td>\n",
       "    </tr>\n",
       "    <tr>\n",
       "      <th>5</th>\n",
       "      <td>5</td>\n",
       "      <td>1012</td>\n",
       "      <td>13249</td>\n",
       "      <td>14261</td>\n",
       "    </tr>\n",
       "    <tr>\n",
       "      <th>6</th>\n",
       "      <td>6</td>\n",
       "      <td>3017</td>\n",
       "      <td>52115</td>\n",
       "      <td>55132</td>\n",
       "    </tr>\n",
       "    <tr>\n",
       "      <th>7</th>\n",
       "      <td>7</td>\n",
       "      <td>8037</td>\n",
       "      <td>146134</td>\n",
       "      <td>154171</td>\n",
       "    </tr>\n",
       "    <tr>\n",
       "      <th>8</th>\n",
       "      <td>8</td>\n",
       "      <td>15761</td>\n",
       "      <td>245240</td>\n",
       "      <td>261001</td>\n",
       "    </tr>\n",
       "    <tr>\n",
       "      <th>9</th>\n",
       "      <td>9</td>\n",
       "      <td>22458</td>\n",
       "      <td>136980</td>\n",
       "      <td>159438</td>\n",
       "    </tr>\n",
       "    <tr>\n",
       "      <th>10</th>\n",
       "      <td>10</td>\n",
       "      <td>33789</td>\n",
       "      <td>92468</td>\n",
       "      <td>126257</td>\n",
       "    </tr>\n",
       "    <tr>\n",
       "      <th>11</th>\n",
       "      <td>11</td>\n",
       "      <td>43286</td>\n",
       "      <td>108034</td>\n",
       "      <td>151320</td>\n",
       "    </tr>\n",
       "    <tr>\n",
       "      <th>12</th>\n",
       "      <td>12</td>\n",
       "      <td>49718</td>\n",
       "      <td>134696</td>\n",
       "      <td>184414</td>\n",
       "    </tr>\n",
       "    <tr>\n",
       "      <th>13</th>\n",
       "      <td>13</td>\n",
       "      <td>52713</td>\n",
       "      <td>132206</td>\n",
       "      <td>184919</td>\n",
       "    </tr>\n",
       "    <tr>\n",
       "      <th>14</th>\n",
       "      <td>14</td>\n",
       "      <td>55089</td>\n",
       "      <td>120563</td>\n",
       "      <td>175652</td>\n",
       "    </tr>\n",
       "    <tr>\n",
       "      <th>15</th>\n",
       "      <td>15</td>\n",
       "      <td>54606</td>\n",
       "      <td>128543</td>\n",
       "      <td>183149</td>\n",
       "    </tr>\n",
       "    <tr>\n",
       "      <th>16</th>\n",
       "      <td>16</td>\n",
       "      <td>53834</td>\n",
       "      <td>173914</td>\n",
       "      <td>227748</td>\n",
       "    </tr>\n",
       "    <tr>\n",
       "      <th>17</th>\n",
       "      <td>17</td>\n",
       "      <td>54220</td>\n",
       "      <td>282640</td>\n",
       "      <td>336860</td>\n",
       "    </tr>\n",
       "    <tr>\n",
       "      <th>18</th>\n",
       "      <td>18</td>\n",
       "      <td>44496</td>\n",
       "      <td>265276</td>\n",
       "      <td>309772</td>\n",
       "    </tr>\n",
       "    <tr>\n",
       "      <th>19</th>\n",
       "      <td>19</td>\n",
       "      <td>35505</td>\n",
       "      <td>191284</td>\n",
       "      <td>226789</td>\n",
       "    </tr>\n",
       "    <tr>\n",
       "      <th>20</th>\n",
       "      <td>20</td>\n",
       "      <td>26378</td>\n",
       "      <td>138172</td>\n",
       "      <td>164550</td>\n",
       "    </tr>\n",
       "    <tr>\n",
       "      <th>21</th>\n",
       "      <td>21</td>\n",
       "      <td>20570</td>\n",
       "      <td>104875</td>\n",
       "      <td>125445</td>\n",
       "    </tr>\n",
       "    <tr>\n",
       "      <th>22</th>\n",
       "      <td>22</td>\n",
       "      <td>16200</td>\n",
       "      <td>79412</td>\n",
       "      <td>95612</td>\n",
       "    </tr>\n",
       "    <tr>\n",
       "      <th>23</th>\n",
       "      <td>23</td>\n",
       "      <td>11065</td>\n",
       "      <td>52876</td>\n",
       "      <td>63941</td>\n",
       "    </tr>\n",
       "  </tbody>\n",
       "</table>\n",
       "</div>"
      ],
      "text/plain": [
       "    hour  casual_user  registered_user  total_user\n",
       "0      0         7375            31755       39130\n",
       "1      1         4709            19455       24164\n",
       "2      2         3412            12940       16352\n",
       "3      3         1893             6281        8174\n",
       "4      4          874             3554        4428\n",
       "5      5         1012            13249       14261\n",
       "6      6         3017            52115       55132\n",
       "7      7         8037           146134      154171\n",
       "8      8        15761           245240      261001\n",
       "9      9        22458           136980      159438\n",
       "10    10        33789            92468      126257\n",
       "11    11        43286           108034      151320\n",
       "12    12        49718           134696      184414\n",
       "13    13        52713           132206      184919\n",
       "14    14        55089           120563      175652\n",
       "15    15        54606           128543      183149\n",
       "16    16        53834           173914      227748\n",
       "17    17        54220           282640      336860\n",
       "18    18        44496           265276      309772\n",
       "19    19        35505           191284      226789\n",
       "20    20        26378           138172      164550\n",
       "21    21        20570           104875      125445\n",
       "22    22        16200            79412       95612\n",
       "23    23        11065            52876       63941"
      ]
     },
     "execution_count": 87,
     "metadata": {},
     "output_type": "execute_result"
    }
   ],
   "source": [
    "work_vs_day = hour.groupby(by=['hour']).agg({\n",
    "    'casual_user': 'sum',\n",
    "    'registered_user': 'sum',\n",
    "    'total_user': 'sum'\n",
    "}).sort_values(by='hour', ascending=True).reset_index()\n",
    "\n",
    "work_vs_day"
   ]
  },
  {
   "cell_type": "markdown",
   "id": "9fb9e69c",
   "metadata": {},
   "source": [
    "Berikut merupakan rata-rata user pada tiap jamnya"
   ]
  },
  {
   "cell_type": "code",
   "execution_count": 88,
   "id": "d943a1f6",
   "metadata": {},
   "outputs": [
    {
     "data": {
      "text/plain": [
       "fall        4496\n",
       "summer      4409\n",
       "springer    4242\n",
       "winter      4232\n",
       "Name: season, dtype: int64"
      ]
     },
     "execution_count": 88,
     "metadata": {},
     "output_type": "execute_result"
    }
   ],
   "source": [
    "hour.season.value_counts()"
   ]
  },
  {
   "cell_type": "code",
   "execution_count": 89,
   "id": "ce06f200",
   "metadata": {},
   "outputs": [
    {
     "data": {
      "text/plain": [
       "<Axes: >"
      ]
     },
     "execution_count": 89,
     "metadata": {},
     "output_type": "execute_result"
    },
    {
     "data": {
      "image/png": "[encoded data removed]",
      "text/plain": [
       "<Figure size 640x480 with 2 Axes>"
      ]
     },
     "metadata": {},
     "output_type": "display_data"
    }
   ],
   "source": [
    "corr = hour[['hour', 'temprature', 'feel_temprature', 'humidity', 'wind_speed', 'total_user']].corr()\n",
    "sns.heatmap(data=corr, annot=True, cmap='crest')"
   ]
  },
  {
   "cell_type": "markdown",
   "id": "28806c01",
   "metadata": {},
   "source": [
    "Diketahui bahwa korelasi `total_user` dengan `column hour, temprature, dan feel_temparature` mendapatkan value **positif**, sehingga memiliki korelasi yang kuat. \n",
    "\n",
    "Column `wind_speed` walaupun positif nilainya cukup kecil, terdapat juga column `humidity` yang bervalue **negatif** terhadap `total_user` sehingga column `wind_speed` dan `humidity` **tidak memiliki korelasi** karena nilainya mendekati nol."
   ]
  },
  {
   "cell_type": "markdown",
   "id": "73968d8e",
   "metadata": {},
   "source": [
    "## Visualization & Explanatory Analysis"
   ]
  },
  {
   "cell_type": "markdown",
   "id": "868f7a12",
   "metadata": {},
   "source": [
    "### 1. Apakah kondisi musim dan cuaca mempengaruhi jumlah user?"
   ]
  },
  {
   "cell_type": "code",
   "execution_count": 90,
   "id": "c933897d",
   "metadata": {},
   "outputs": [
    {
     "data": {
      "text/html": [
       "<div>\n",
       "<style scoped>\n",
       "    .dataframe tbody tr th:only-of-type {\n",
       "        vertical-align: middle;\n",
       "    }\n",
       "\n",
       "    .dataframe tbody tr th {\n",
       "        vertical-align: top;\n",
       "    }\n",
       "\n",
       "    .dataframe thead th {\n",
       "        text-align: right;\n",
       "    }\n",
       "</style>\n",
       "<table border=\"1\" class=\"dataframe\">\n",
       "  <thead>\n",
       "    <tr style=\"text-align: right;\">\n",
       "      <th></th>\n",
       "      <th>season</th>\n",
       "      <th>temprature</th>\n",
       "      <th>feel_temprature</th>\n",
       "      <th>total_user</th>\n",
       "    </tr>\n",
       "  </thead>\n",
       "  <tbody>\n",
       "    <tr>\n",
       "      <th>0</th>\n",
       "      <td>fall</td>\n",
       "      <td>28.96</td>\n",
       "      <td>32.79</td>\n",
       "      <td>1061129</td>\n",
       "    </tr>\n",
       "    <tr>\n",
       "      <th>2</th>\n",
       "      <td>summer</td>\n",
       "      <td>22.32</td>\n",
       "      <td>26.02</td>\n",
       "      <td>918589</td>\n",
       "    </tr>\n",
       "    <tr>\n",
       "      <th>3</th>\n",
       "      <td>winter</td>\n",
       "      <td>17.34</td>\n",
       "      <td>20.78</td>\n",
       "      <td>841613</td>\n",
       "    </tr>\n",
       "    <tr>\n",
       "      <th>1</th>\n",
       "      <td>springer</td>\n",
       "      <td>12.21</td>\n",
       "      <td>14.85</td>\n",
       "      <td>471348</td>\n",
       "    </tr>\n",
       "  </tbody>\n",
       "</table>\n",
       "</div>"
      ],
      "text/plain": [
       "     season  temprature  feel_temprature  total_user\n",
       "0      fall       28.96            32.79     1061129\n",
       "2    summer       22.32            26.02      918589\n",
       "3    winter       17.34            20.78      841613\n",
       "1  springer       12.21            14.85      471348"
      ]
     },
     "execution_count": 90,
     "metadata": {},
     "output_type": "execute_result"
    }
   ],
   "source": [
    "user_v_season = round(day.groupby(by=['season']).agg({\n",
    "    'temprature': 'mean',\n",
    "    'feel_temprature': 'mean',\n",
    "    'total_user': 'sum'\n",
    "}), 2).reset_index().sort_values(by='total_user', ascending=False)\n",
    "\n",
    "user_v_season"
   ]
  },
  {
   "cell_type": "code",
   "execution_count": 91,
   "id": "d01f4901",
   "metadata": {},
   "outputs": [
    {
     "data": {
      "image/png": "[encoded data removed]",
      "text/plain": [
       "<Figure size 1200x800 with 2 Axes>"
      ]
     },
     "metadata": {},
     "output_type": "display_data"
    }
   ],
   "source": [
    "plt.figure(figsize=(12,8))\n",
    "plot_number = 0\n",
    "colors = ['red', 'grey', 'grey', 'grey']\n",
    "title = ['Season vs Total User', 'Temprature In Each Season']\n",
    "level = ['total_user', 'temprature']\n",
    "fmt = ['%d', '%g']\n",
    "\n",
    "for n in range(2):\n",
    "    plt.subplot(1,2, 1+plot_number)\n",
    "    plt.title(title[plot_number])\n",
    "    graph = sns.barplot(data=user_v_season, x='season', y=level[plot_number], palette=colors)\n",
    "    \n",
    "    plt.tight_layout(pad=8.0)\n",
    "\n",
    "    for i in graph.containers:\n",
    "        graph.bar_label(i, color='black', fmt = fmt[plot_number])\n",
    "    \n",
    "    plot_number += 1\n",
    "\n",
    "plt.suptitle('Relationship Between Season and Total Users', fontsize=20)\n",
    "plt.show()"
   ]
  },
  {
   "cell_type": "markdown",
   "id": "70c0e088",
   "metadata": {},
   "source": [
    "**Conclusion**\n",
    "\n",
    "\n",
    "Bahwa ketika temprature semakin tinggi maka jumlah user pun meningkat, terlihat pada musim fall yang merupakan musim dengan total user terbanyak, berbanding terbalik dengan springer karena suhunya paling rendah."
   ]
  },
  {
   "cell_type": "code",
   "execution_count": 92,
   "id": "3113c558",
   "metadata": {},
   "outputs": [
    {
     "data": {
      "text/html": [
       "<div>\n",
       "<style scoped>\n",
       "    .dataframe tbody tr th:only-of-type {\n",
       "        vertical-align: middle;\n",
       "    }\n",
       "\n",
       "    .dataframe tbody tr th {\n",
       "        vertical-align: top;\n",
       "    }\n",
       "\n",
       "    .dataframe thead th {\n",
       "        text-align: right;\n",
       "    }\n",
       "</style>\n",
       "<table border=\"1\" class=\"dataframe\">\n",
       "  <thead>\n",
       "    <tr style=\"text-align: right;\">\n",
       "      <th></th>\n",
       "      <th>weather_sit</th>\n",
       "      <th>temprature</th>\n",
       "      <th>feel_temprature</th>\n",
       "      <th>total_user</th>\n",
       "    </tr>\n",
       "  </thead>\n",
       "  <tbody>\n",
       "    <tr>\n",
       "      <th>0</th>\n",
       "      <td>clear</td>\n",
       "      <td>20.97</td>\n",
       "      <td>24.43</td>\n",
       "      <td>2257952</td>\n",
       "    </tr>\n",
       "    <tr>\n",
       "      <th>1</th>\n",
       "      <td>mist</td>\n",
       "      <td>19.29</td>\n",
       "      <td>22.64</td>\n",
       "      <td>996858</td>\n",
       "    </tr>\n",
       "    <tr>\n",
       "      <th>2</th>\n",
       "      <td>light rain</td>\n",
       "      <td>17.77</td>\n",
       "      <td>20.65</td>\n",
       "      <td>37869</td>\n",
       "    </tr>\n",
       "  </tbody>\n",
       "</table>\n",
       "</div>"
      ],
      "text/plain": [
       "  weather_sit  temprature  feel_temprature  total_user\n",
       "0       clear       20.97            24.43     2257952\n",
       "1        mist       19.29            22.64      996858\n",
       "2  light rain       17.77            20.65       37869"
      ]
     },
     "execution_count": 92,
     "metadata": {},
     "output_type": "execute_result"
    }
   ],
   "source": [
    "weather = round(day.groupby(['weather_sit']).agg({\n",
    "    'temprature': 'mean',\n",
    "    'feel_temprature': 'mean',\n",
    "    'total_user': 'sum'\n",
    "}), 2).sort_values(by='temprature', ascending=False).reset_index()\n",
    "\n",
    "weather"
   ]
  },
  {
   "cell_type": "code",
   "execution_count": 93,
   "id": "d1639847",
   "metadata": {},
   "outputs": [
    {
     "data": {
      "image/png": "[encoded data removed]",
      "text/plain": [
       "<Figure size 1200x800 with 2 Axes>"
      ]
     },
     "metadata": {},
     "output_type": "display_data"
    }
   ],
   "source": [
    "plt.figure(figsize=(12,8))\n",
    "plot_number = 0\n",
    "colors = ['red', 'grey', 'grey']\n",
    "level = ['total_user', 'temprature']\n",
    "title = ['Weather Situation vs Total User', 'Temprature in Each Weather Situation']\n",
    "fmt = ['%d', '%g']\n",
    "\n",
    "for n in range(2):\n",
    "    plt.subplot(1,2, 1+plot_number)\n",
    "    \n",
    "    graph = sns.barplot(data=weather, x='weather_sit', y=level[plot_number], palette = colors)\n",
    "    plt.title(f'{title[plot_number]}', fontsize=15)\n",
    "    \n",
    "    plt.tight_layout(pad=8.0)\n",
    "\n",
    "    for i in graph.containers:\n",
    "            graph.bar_label(i, color='black', fmt=fmt[plot_number])\n",
    "    \n",
    "    plot_number += 1\n",
    "\n",
    "plt.suptitle('Relationship Between Weather Situation and Total User', fontsize=20)\n",
    "plt.show()"
   ]
  },
  {
   "cell_type": "markdown",
   "id": "3c1b1b03",
   "metadata": {},
   "source": [
    "**Conclusion**\n",
    "\n",
    "\n",
    "Bahwa kebanyakan user yang menggunakan bike sharing system ketika cuacanya clear atau cerah, serta clear merupakan cuaca dengan temprature paling tinggi diantara cuaca yang lain"
   ]
  },
  {
   "cell_type": "code",
   "execution_count": 94,
   "id": "ffb3d44e",
   "metadata": {},
   "outputs": [
    {
     "data": {
      "text/html": [
       "<div>\n",
       "<style scoped>\n",
       "    .dataframe tbody tr th:only-of-type {\n",
       "        vertical-align: middle;\n",
       "    }\n",
       "\n",
       "    .dataframe tbody tr th {\n",
       "        vertical-align: top;\n",
       "    }\n",
       "\n",
       "    .dataframe thead th {\n",
       "        text-align: right;\n",
       "    }\n",
       "</style>\n",
       "<table border=\"1\" class=\"dataframe\">\n",
       "  <thead>\n",
       "    <tr style=\"text-align: right;\">\n",
       "      <th></th>\n",
       "      <th>season</th>\n",
       "      <th>hour</th>\n",
       "      <th>casual_user</th>\n",
       "      <th>registered_user</th>\n",
       "      <th>total_user</th>\n",
       "    </tr>\n",
       "  </thead>\n",
       "  <tbody>\n",
       "    <tr>\n",
       "      <th>82</th>\n",
       "      <td>winter</td>\n",
       "      <td>10</td>\n",
       "      <td>7296</td>\n",
       "      <td>25698</td>\n",
       "      <td>32994</td>\n",
       "    </tr>\n",
       "    <tr>\n",
       "      <th>52</th>\n",
       "      <td>summer</td>\n",
       "      <td>4</td>\n",
       "      <td>255</td>\n",
       "      <td>863</td>\n",
       "      <td>1118</td>\n",
       "    </tr>\n",
       "    <tr>\n",
       "      <th>76</th>\n",
       "      <td>winter</td>\n",
       "      <td>4</td>\n",
       "      <td>224</td>\n",
       "      <td>1055</td>\n",
       "      <td>1279</td>\n",
       "    </tr>\n",
       "    <tr>\n",
       "      <th>70</th>\n",
       "      <td>summer</td>\n",
       "      <td>22</td>\n",
       "      <td>5133</td>\n",
       "      <td>21752</td>\n",
       "      <td>26885</td>\n",
       "    </tr>\n",
       "    <tr>\n",
       "      <th>42</th>\n",
       "      <td>springer</td>\n",
       "      <td>18</td>\n",
       "      <td>3693</td>\n",
       "      <td>39417</td>\n",
       "      <td>43110</td>\n",
       "    </tr>\n",
       "  </tbody>\n",
       "</table>\n",
       "</div>"
      ],
      "text/plain": [
       "      season  hour  casual_user  registered_user  total_user\n",
       "82    winter    10         7296            25698       32994\n",
       "52    summer     4          255              863        1118\n",
       "76    winter     4          224             1055        1279\n",
       "70    summer    22         5133            21752       26885\n",
       "42  springer    18         3693            39417       43110"
      ]
     },
     "execution_count": 94,
     "metadata": {},
     "output_type": "execute_result"
    }
   ],
   "source": [
    "hour_by = hour.groupby(by=['season','hour']).agg({\n",
    "    'casual_user': 'sum',\n",
    "    'registered_user': 'sum',\n",
    "    'total_user': 'sum',\n",
    "}).reset_index()\n",
    "\n",
    "hour_by.sample(5)"
   ]
  },
  {
   "cell_type": "code",
   "execution_count": 95,
   "id": "f30f99f3",
   "metadata": {},
   "outputs": [
    {
     "data": {
      "image/png": "[encoded data removed]",
      "text/plain": [
       "<Figure size 1000x500 with 1 Axes>"
      ]
     },
     "metadata": {},
     "output_type": "display_data"
    }
   ],
   "source": [
    "plt.figure(figsize=(10,5))\n",
    "sns.lineplot(data=hour_by, x='hour', y='total_user', hue='season')\n",
    "plt.title('Hourly Bike Usage by Season')\n",
    "plt.show()"
   ]
  },
  {
   "cell_type": "markdown",
   "id": "03ba3f16",
   "metadata": {},
   "source": [
    "**Conclusion**\n",
    "\n",
    "Berikut merupakan jumlah pengguna berdasarkan sebaran jam per season. Disimpulkan bahwa terjadi lonjakan user yang dimulai pada jam 5 dan jam 15 serta penurunan user terjadi ketika hari menjelang malam dimulai dari jam 18. Pada musim fall dapat dilihat bahwa merupakan musim dengan user yang terbanyak."
   ]
  },
  {
   "cell_type": "markdown",
   "id": "d23ded5b",
   "metadata": {},
   "source": [
    "------------------\n"
   ]
  },
  {
   "cell_type": "markdown",
   "id": "6ef8a427",
   "metadata": {},
   "source": [
    "### 2. Apakah hari kerja meningkatkan jumlah user?"
   ]
  },
  {
   "cell_type": "code",
   "execution_count": 96,
   "id": "837e3429",
   "metadata": {},
   "outputs": [
    {
     "data": {
      "text/html": [
       "<div>\n",
       "<style scoped>\n",
       "    .dataframe tbody tr th:only-of-type {\n",
       "        vertical-align: middle;\n",
       "    }\n",
       "\n",
       "    .dataframe tbody tr th {\n",
       "        vertical-align: top;\n",
       "    }\n",
       "\n",
       "    .dataframe thead th {\n",
       "        text-align: right;\n",
       "    }\n",
       "</style>\n",
       "<table border=\"1\" class=\"dataframe\">\n",
       "  <thead>\n",
       "    <tr style=\"text-align: right;\">\n",
       "      <th></th>\n",
       "      <th>working_day</th>\n",
       "      <th>casual_user</th>\n",
       "      <th>registered_user</th>\n",
       "      <th>total_user</th>\n",
       "    </tr>\n",
       "  </thead>\n",
       "  <tbody>\n",
       "    <tr>\n",
       "      <th>0</th>\n",
       "      <td>yes</td>\n",
       "      <td>303285</td>\n",
       "      <td>1989125</td>\n",
       "      <td>2292410</td>\n",
       "    </tr>\n",
       "    <tr>\n",
       "      <th>1</th>\n",
       "      <td>no</td>\n",
       "      <td>316732</td>\n",
       "      <td>683537</td>\n",
       "      <td>1000269</td>\n",
       "    </tr>\n",
       "  </tbody>\n",
       "</table>\n",
       "</div>"
      ],
      "text/plain": [
       "  working_day  casual_user  registered_user  total_user\n",
       "0         yes       303285          1989125     2292410\n",
       "1          no       316732           683537     1000269"
      ]
     },
     "execution_count": 96,
     "metadata": {},
     "output_type": "execute_result"
    }
   ],
   "source": [
    "work_day = day.groupby(by=['working_day']).agg({\n",
    "    'casual_user': 'sum',\n",
    "    'registered_user': 'sum',\n",
    "    'total_user': 'sum'\n",
    "}).sort_values(by='registered_user', ascending=False).reset_index()\n",
    "\n",
    "work_day"
   ]
  },
  {
   "cell_type": "markdown",
   "id": "774c1afd",
   "metadata": {},
   "source": [
    "**Conclusion**\n",
    "\n",
    "\n",
    "Perbedaan yang terlihat pada tabel diatas adalah jumlah user yang telah meregistrasi lebih banyak saat hari kerja, disimpulkan user tersebut sering menggunakan sepeda saat kerja. "
   ]
  },
  {
   "cell_type": "code",
   "execution_count": 97,
   "id": "c3e9938d",
   "metadata": {},
   "outputs": [
    {
     "data": {
      "image/png": "[encoded data removed]",
      "text/plain": [
       "<Figure size 500x500 with 1 Axes>"
      ]
     },
     "metadata": {},
     "output_type": "display_data"
    }
   ],
   "source": [
    "plt.figure(figsize=(5,5))\n",
    "graph = sns.barplot(data=work_day, x='working_day', y='total_user', palette=['red', 'gray'])\n",
    "plt.title('Number of Total User by Working Day')\n",
    "\n",
    "for i in graph.containers:\n",
    "    graph.bar_label(i, color='black', fmt='%d')\n",
    "\n",
    "plt.show()"
   ]
  },
  {
   "cell_type": "markdown",
   "id": "c84eb7b4",
   "metadata": {},
   "source": [
    "**Conclusion**\n",
    "\n",
    "Pada waktu kerja didapatkan bahwa bike sharing system banyak digunakan oleh user hingga mendapatkan perbedaan 2x lipat. "
   ]
  },
  {
   "cell_type": "code",
   "execution_count": 98,
   "id": "f09e9202",
   "metadata": {
    "scrolled": false
   },
   "outputs": [
    {
     "data": {
      "text/html": [
       "<div>\n",
       "<style scoped>\n",
       "    .dataframe tbody tr th:only-of-type {\n",
       "        vertical-align: middle;\n",
       "    }\n",
       "\n",
       "    .dataframe tbody tr th {\n",
       "        vertical-align: top;\n",
       "    }\n",
       "\n",
       "    .dataframe thead th {\n",
       "        text-align: right;\n",
       "    }\n",
       "</style>\n",
       "<table border=\"1\" class=\"dataframe\">\n",
       "  <thead>\n",
       "    <tr style=\"text-align: right;\">\n",
       "      <th></th>\n",
       "      <th>week_day</th>\n",
       "      <th>total_user</th>\n",
       "    </tr>\n",
       "  </thead>\n",
       "  <tbody>\n",
       "    <tr>\n",
       "      <th>0</th>\n",
       "      <td>thursday</td>\n",
       "      <td>481475</td>\n",
       "    </tr>\n",
       "    <tr>\n",
       "      <th>1</th>\n",
       "      <td>friday</td>\n",
       "      <td>481296</td>\n",
       "    </tr>\n",
       "    <tr>\n",
       "      <th>2</th>\n",
       "      <td>tuesday</td>\n",
       "      <td>468096</td>\n",
       "    </tr>\n",
       "    <tr>\n",
       "      <th>3</th>\n",
       "      <td>wednesday</td>\n",
       "      <td>465645</td>\n",
       "    </tr>\n",
       "    <tr>\n",
       "      <th>4</th>\n",
       "      <td>monday</td>\n",
       "      <td>395898</td>\n",
       "    </tr>\n",
       "  </tbody>\n",
       "</table>\n",
       "</div>"
      ],
      "text/plain": [
       "    week_day  total_user\n",
       "0  thursday       481475\n",
       "1     friday      481296\n",
       "2    tuesday      468096\n",
       "3  wednesday      465645\n",
       "4     monday      395898"
      ]
     },
     "execution_count": 98,
     "metadata": {},
     "output_type": "execute_result"
    }
   ],
   "source": [
    "work = day[day['working_day'] == 'yes'].groupby(by='week_day').agg({\n",
    "    'total_user': 'sum'\n",
    "}).sort_values(by='total_user', ascending=False).reset_index()\n",
    "\n",
    "work"
   ]
  },
  {
   "cell_type": "code",
   "execution_count": 99,
   "id": "5719ba81",
   "metadata": {},
   "outputs": [
    {
     "data": {
      "image/png": "[encoded data removed]",
      "text/plain": [
       "<Figure size 800x500 with 1 Axes>"
      ]
     },
     "metadata": {},
     "output_type": "display_data"
    }
   ],
   "source": [
    "plt.figure(figsize=(8,5))\n",
    "colors = ['red', 'grey', 'grey', 'grey', 'grey']\n",
    "\n",
    "plt.title('Number of Total User That Work by Week Day')\n",
    "graph = sns.barplot(data=work, x='week_day', y='total_user', palette=colors)\n",
    "for i in graph.containers:\n",
    "    graph.bar_label(i, color='black', fmt='%d')"
   ]
  },
  {
   "cell_type": "markdown",
   "id": "dfff8c11",
   "metadata": {},
   "source": [
    "**Conclusion**\n",
    "\n",
    "\n",
    "Berikut sebaran hari dengan jumlah usernya yang bekerja, terlihat persebarannya cukup merata kecuali pada hari senin jumlahnya sedikit berkurang"
   ]
  },
  {
   "cell_type": "markdown",
   "id": "47825fb0",
   "metadata": {},
   "source": [
    "--------------------------------------------------"
   ]
  },
  {
   "cell_type": "markdown",
   "id": "a4f73dc8",
   "metadata": {},
   "source": [
    "### 3. Pada jam berapa user bike sharing system paling sering dan sedikit digunakan?"
   ]
  },
  {
   "cell_type": "code",
   "execution_count": 100,
   "id": "1b6d9b1a",
   "metadata": {},
   "outputs": [
    {
     "data": {
      "text/html": [
       "<div>\n",
       "<style scoped>\n",
       "    .dataframe tbody tr th:only-of-type {\n",
       "        vertical-align: middle;\n",
       "    }\n",
       "\n",
       "    .dataframe tbody tr th {\n",
       "        vertical-align: top;\n",
       "    }\n",
       "\n",
       "    .dataframe thead th {\n",
       "        text-align: right;\n",
       "    }\n",
       "</style>\n",
       "<table border=\"1\" class=\"dataframe\">\n",
       "  <thead>\n",
       "    <tr style=\"text-align: right;\">\n",
       "      <th></th>\n",
       "      <th>hour</th>\n",
       "      <th>total_user</th>\n",
       "    </tr>\n",
       "  </thead>\n",
       "  <tbody>\n",
       "    <tr>\n",
       "      <th>0</th>\n",
       "      <td>0</td>\n",
       "      <td>39130</td>\n",
       "    </tr>\n",
       "    <tr>\n",
       "      <th>1</th>\n",
       "      <td>1</td>\n",
       "      <td>24164</td>\n",
       "    </tr>\n",
       "    <tr>\n",
       "      <th>2</th>\n",
       "      <td>2</td>\n",
       "      <td>16352</td>\n",
       "    </tr>\n",
       "    <tr>\n",
       "      <th>3</th>\n",
       "      <td>3</td>\n",
       "      <td>8174</td>\n",
       "    </tr>\n",
       "    <tr>\n",
       "      <th>4</th>\n",
       "      <td>4</td>\n",
       "      <td>4428</td>\n",
       "    </tr>\n",
       "  </tbody>\n",
       "</table>\n",
       "</div>"
      ],
      "text/plain": [
       "   hour  total_user\n",
       "0     0       39130\n",
       "1     1       24164\n",
       "2     2       16352\n",
       "3     3        8174\n",
       "4     4        4428"
      ]
     },
     "execution_count": 100,
     "metadata": {},
     "output_type": "execute_result"
    }
   ],
   "source": [
    "hour_v_user = hour.groupby(by='hour').agg({\n",
    "    'total_user': 'sum'\n",
    "}).reset_index()\n",
    "\n",
    "hour_v_user.head()"
   ]
  },
  {
   "cell_type": "code",
   "execution_count": 101,
   "id": "b5e64f69",
   "metadata": {
    "scrolled": false
   },
   "outputs": [
    {
     "data": {
      "image/png": "[encoded data removed]",
      "text/plain": [
       "<Figure size 1200x800 with 2 Axes>"
      ]
     },
     "metadata": {},
     "output_type": "display_data"
    }
   ],
   "source": [
    "plt.figure(figsize=(12,8))\n",
    "plot_number = 0\n",
    "colors0 = ['grey', 'grey', 'red', 'grey', 'grey']\n",
    "colors1 = ['red', 'grey', 'grey', 'grey', 'grey']\n",
    "\n",
    "colors = [colors0, colors1]\n",
    "title = ['Highest total user by hour', 'Lowest total user by hour']\n",
    "asc = [False, True]\n",
    "\n",
    "for n in range(2):\n",
    "    plt.subplot(1,2, 1+plot_number)\n",
    "    plt.title(title[plot_number])\n",
    "    bar = sns.barplot(data=hour_v_user.sort_values(by='total_user', ascending=asc[plot_number]).head(),\n",
    "                        x='hour', y='total_user', palette=colors[plot_number])\n",
    "    \n",
    "    plt.tight_layout(pad=8.0)\n",
    "\n",
    "    for i in bar.containers:\n",
    "        bar.bar_label(i, color='black')\n",
    "    \n",
    "    plot_number += 1\n",
    "\n",
    "plt.suptitle('Total User by Hour', fontsize=20)\n",
    "plt.show()"
   ]
  },
  {
   "cell_type": "markdown",
   "id": "33233e08",
   "metadata": {},
   "source": [
    "**Conclusion**\n",
    "\n",
    "\n",
    "Dapat disimpulkan bahwa penggunaan bike sharing system paling banyak berada pada waktu sore yaitu 16,17,18,19 dan pada pagi hari yaitu jam 8, sebaliknya pada dini hari hingga subuh merupakan waktu yang paling sedikit pada penggunaan bike sharing system"
   ]
  },
  {
   "cell_type": "code",
   "execution_count": 102,
   "id": "2f58b273",
   "metadata": {},
   "outputs": [],
   "source": [
    "from pathlib import Path  \n",
    "\n",
    "filepath = Path('data/all_hour.csv')  # menyimpan hour dataframe sebagai all_hour\n",
    "filepath.parent.mkdir(parents=True, exist_ok=True)  \n",
    "hour.to_csv(filepath)  \n",
    "\n",
    "filepath = Path('data/all_day.csv')  # menyimpan day dataframe sebagai all_day\n",
    "filepath.parent.mkdir(parents=True, exist_ok=True)  \n",
    "day.to_csv(filepath)  "
   ]
  }
 ],
 "metadata": {
  "kernelspec": {
   "display_name": "Python 3 (ipykernel)",
   "language": "python",
   "name": "python3"
  },
  "language_info": {
   "codemirror_mode": {
    "name": "ipython",
    "version": 3
   },
   "file_extension": ".py",
   "mimetype": "text/x-python",
   "name": "python",
   "nbconvert_exporter": "python",
   "pygments_lexer": "ipython3",
   "version": "3.10.9"
  }
 },
 "nbformat": 4,
 "nbformat_minor": 5
}
